{
 "cells": [
  {
   "cell_type": "code",
   "execution_count": 2,
   "id": "02fcca5d",
   "metadata": {},
   "outputs": [
    {
     "name": "stdout",
     "output_type": "stream",
     "text": [
      "your mom\n"
     ]
    }
   ],
   "source": [
    "import import_ipynb\n",
    "from feature_extractor import compute_audio\n",
    "from audio_processor import AudioProcessor\n",
    "import os\n",
    "import random\n",
    "import json\n",
    "import pandas as pd\n",
    "import time"
   ]
  },
  {
   "cell_type": "code",
   "execution_count": 3,
   "id": "1f2f54ab",
   "metadata": {},
   "outputs": [],
   "source": [
    "data_dir = \"/data\"\n",
    "labels_dir = \"/labels\"\n",
    "data_dir = os.listdir(os.getcwd()+data_dir)\n",
    "labels_dir = os.listdir(os.getcwd()+labels_dir)"
   ]
  },
  {
   "cell_type": "code",
   "execution_count": 4,
   "id": "27a8364e",
   "metadata": {},
   "outputs": [],
   "source": [
    "all_files = [f for f in data_dir]\n",
    "sampled_files = random.sample(all_files, 50)\n",
    "sampled_labels = [f + '.json' for f in sampled_files]"
   ]
  },
  {
   "cell_type": "code",
   "execution_count": 5,
   "id": "11a3b9b4",
   "metadata": {},
   "outputs": [
    {
     "data": {
      "text/plain": [
       "['surah22_part1.mp3.json',\n",
       " 'surah56_part1.mp3.json',\n",
       " 'surah11_part7.mp3.json',\n",
       " 'surah19_part2.mp3.json',\n",
       " 'surah72_part1.mp3.json',\n",
       " 'surah96_part1.mp3.json',\n",
       " 'surah11_part6.mp3.json',\n",
       " 'surah26_part1.mp3.json',\n",
       " 'surah108_part1.mp3.json',\n",
       " 'surah28_part6.mp3.json',\n",
       " 'surah9_part13.mp3.json',\n",
       " 'surah83_part2.mp3.json',\n",
       " 'surah67_part1.mp3.json',\n",
       " 'surah2_part8.mp3.json',\n",
       " 'surah52_part2.mp3.json',\n",
       " 'surah42_part1.mp3.json',\n",
       " 'surah21_part3.mp3.json',\n",
       " 'surah51_part2.mp3.json',\n",
       " 'surah36_part2.mp3.json',\n",
       " 'surah39_part6.mp3.json',\n",
       " 'surah35_part2.mp3.json',\n",
       " 'surah14_part5.mp3.json',\n",
       " 'surah70_part1.mp3.json',\n",
       " 'surah55_part3.mp3.json',\n",
       " 'surah4_part5.mp3.json',\n",
       " 'surah57_part1.mp3.json',\n",
       " 'surah57_part2.mp3.json',\n",
       " 'surah112_part1.mp3.json',\n",
       " 'surah31_part1.mp3.json',\n",
       " 'surah73_part1.mp3.json',\n",
       " 'surah38_part3.mp3.json',\n",
       " 'surah20_part3.mp3.json',\n",
       " 'surah9_part14.mp3.json',\n",
       " 'surah12_part6.mp3.json',\n",
       " 'surah28_part1.mp3.json',\n",
       " 'surah7_part3.mp3.json',\n",
       " 'surah6_part6.mp3.json',\n",
       " 'surah3_part6.mp3.json',\n",
       " 'surah6_part5.mp3.json',\n",
       " 'surah25_part6.mp3.json',\n",
       " 'surah80_part1.mp3.json',\n",
       " 'surah2_part11.mp3.json',\n",
       " 'surah22_part4.mp3.json',\n",
       " 'surah113_part1.mp3.json',\n",
       " 'surah2_part10.mp3.json',\n",
       " 'surah32_part3.mp3.json',\n",
       " 'surah7_part7.mp3.json',\n",
       " 'surah18_part6.mp3.json',\n",
       " 'surah45_part1.mp3.json',\n",
       " 'surah22_part3.mp3.json']"
      ]
     },
     "execution_count": 5,
     "metadata": {},
     "output_type": "execute_result"
    }
   ],
   "source": [
    "sampled_labels"
   ]
  },
  {
   "cell_type": "code",
   "execution_count": 6,
   "id": "134914db",
   "metadata": {},
   "outputs": [
    {
     "name": "stdout",
     "output_type": "stream",
     "text": [
      "surah22_part1.mp3.json كرد\n",
      "surah56_part1.mp3.json بيات\n",
      "surah11_part7.mp3.json راست\n",
      "surah19_part2.mp3.json حجاز\n",
      "surah72_part1.mp3.json سيكاه\n",
      "surah96_part1.mp3.json نهاوند\n",
      "surah11_part6.mp3.json نهاوند\n",
      "surah26_part1.mp3.json صبا\n",
      "surah108_part1.mp3.json بيات\n",
      "surah28_part6.mp3.json راست\n",
      "surah9_part13.mp3.json حجاز\n",
      "surah83_part2.mp3.json بيات\n",
      "surah67_part1.mp3.json راست\n",
      "surah2_part8.mp3.json بيات\n",
      "surah52_part2.mp3.json نهاوند\n",
      "surah42_part1.mp3.json راست\n",
      "surah21_part3.mp3.json بيات\n",
      "surah51_part2.mp3.json نهاوند\n",
      "surah36_part2.mp3.json حجاز\n",
      "surah39_part6.mp3.json بيات\n",
      "surah35_part2.mp3.json نهاوند\n",
      "surah14_part5.mp3.json راست\n",
      "surah70_part1.mp3.json حجاز\n",
      "surah55_part3.mp3.json نهاوند\n",
      "surah4_part5.mp3.json بيات\n",
      "surah57_part1.mp3.json بيات\n",
      "surah57_part2.mp3.json حجاز\n",
      "surah112_part1.mp3.json بيات\n",
      "surah31_part1.mp3.json بيات\n",
      "surah73_part1.mp3.json بيات\n",
      "surah38_part3.mp3.json نهاوند\n",
      "surah20_part3.mp3.json حجاز\n",
      "surah9_part14.mp3.json سيكاه\n",
      "surah12_part6.mp3.json بيات\n",
      "surah28_part1.mp3.json بيات\n",
      "surah7_part3.mp3.json بيات\n",
      "surah6_part6.mp3.json سيكاه\n",
      "surah3_part6.mp3.json عجم\n",
      "surah6_part5.mp3.json حجاز\n",
      "surah25_part6.mp3.json حجاز\n",
      "surah80_part1.mp3.json حجاز\n",
      "surah2_part11.mp3.json سيكاه\n",
      "surah22_part4.mp3.json حجاز\n",
      "surah113_part1.mp3.json بيات\n",
      "surah2_part10.mp3.json عجم\n",
      "surah32_part3.mp3.json نهاوند\n",
      "surah7_part7.mp3.json نهاوند\n",
      "surah18_part6.mp3.json نهاوند\n",
      "surah45_part1.mp3.json بيات\n",
      "surah22_part3.mp3.json راست\n"
     ]
    }
   ],
   "source": [
    "# Extract correct maqams (y_correct)\n",
    "y_correct = []\n",
    "for file in sampled_labels:\n",
    "    json_file_path = os.getcwd() + '/labels/' + file\n",
    "    with open(json_file_path, \"r\") as json_file:\n",
    "        label_data = json.load(json_file)\n",
    "        maqam = label_data[\"maqam\"].strip(\"[]'\")  # Clean brackets and quotes\n",
    "        y_correct.append(maqam)\n",
    "    print(file, maqam)"
   ]
  },
  {
   "cell_type": "code",
   "execution_count": 7,
   "id": "4a1c97cb",
   "metadata": {
    "scrolled": true
   },
   "outputs": [
    {
     "name": "stdout",
     "output_type": "stream",
     "text": [
      "MoviePy - Writing audio in temporary/clip1.mp3\n"
     ]
    },
    {
     "name": "stderr",
     "output_type": "stream",
     "text": [
      "                                                                                                                \r"
     ]
    },
    {
     "name": "stdout",
     "output_type": "stream",
     "text": [
      "MoviePy - Done.\n",
      "MoviePy - Writing audio in temporary/clip2.mp3\n"
     ]
    },
    {
     "name": "stderr",
     "output_type": "stream",
     "text": [
      "                                                                                                                \r"
     ]
    },
    {
     "name": "stdout",
     "output_type": "stream",
     "text": [
      "MoviePy - Done.\n",
      "MoviePy - Writing audio in temporary/clip3.mp3\n"
     ]
    },
    {
     "name": "stderr",
     "output_type": "stream",
     "text": [
      "                                                                                                                \r"
     ]
    },
    {
     "name": "stdout",
     "output_type": "stream",
     "text": [
      "MoviePy - Done.\n",
      "MoviePy - Writing audio in temporary/clip4.mp3\n"
     ]
    },
    {
     "name": "stderr",
     "output_type": "stream",
     "text": [
      "                                                                                                                \r"
     ]
    },
    {
     "name": "stdout",
     "output_type": "stream",
     "text": [
      "MoviePy - Done.\n",
      "MoviePy - Writing audio in temporary/clip5.mp3\n"
     ]
    },
    {
     "name": "stderr",
     "output_type": "stream",
     "text": [
      "                                                                                                                \r"
     ]
    },
    {
     "name": "stdout",
     "output_type": "stream",
     "text": [
      "MoviePy - Done.\n",
      "MoviePy - Writing audio in temporary/clip6.mp3\n"
     ]
    },
    {
     "name": "stderr",
     "output_type": "stream",
     "text": [
      "                                                                                                                \r"
     ]
    },
    {
     "name": "stdout",
     "output_type": "stream",
     "text": [
      "MoviePy - Done.\n",
      "MoviePy - Writing audio in temporary/clip7.mp3\n"
     ]
    },
    {
     "name": "stderr",
     "output_type": "stream",
     "text": [
      "                                                                                                                \r"
     ]
    },
    {
     "name": "stdout",
     "output_type": "stream",
     "text": [
      "MoviePy - Done.\n",
      "MoviePy - Writing audio in temporary/clip8.mp3\n"
     ]
    },
    {
     "name": "stderr",
     "output_type": "stream",
     "text": [
      "                                                                                                                \r"
     ]
    },
    {
     "name": "stdout",
     "output_type": "stream",
     "text": [
      "MoviePy - Done.\n",
      "MoviePy - Writing audio in temporary/clip9.mp3\n"
     ]
    },
    {
     "name": "stderr",
     "output_type": "stream",
     "text": [
      "                                                                                                                \r"
     ]
    },
    {
     "name": "stdout",
     "output_type": "stream",
     "text": [
      "MoviePy - Done.\n",
      "MoviePy - Writing audio in temporary/clip10.mp3\n"
     ]
    },
    {
     "name": "stderr",
     "output_type": "stream",
     "text": [
      "                                                                                                                \r"
     ]
    },
    {
     "name": "stdout",
     "output_type": "stream",
     "text": [
      "MoviePy - Done.\n",
      "MoviePy - Writing audio in temporary/clip11.mp3\n"
     ]
    },
    {
     "name": "stderr",
     "output_type": "stream",
     "text": [
      "                                                                                                                \r"
     ]
    },
    {
     "name": "stdout",
     "output_type": "stream",
     "text": [
      "MoviePy - Done.\n",
      "MoviePy - Writing audio in temporary/clip12.mp3\n"
     ]
    },
    {
     "name": "stderr",
     "output_type": "stream",
     "text": [
      "                                                                                                                \r"
     ]
    },
    {
     "name": "stdout",
     "output_type": "stream",
     "text": [
      "MoviePy - Done.\n",
      "MoviePy - Writing audio in temporary/clip13.mp3\n"
     ]
    },
    {
     "name": "stderr",
     "output_type": "stream",
     "text": [
      "                                                                                                                \r"
     ]
    },
    {
     "name": "stdout",
     "output_type": "stream",
     "text": [
      "MoviePy - Done.\n",
      "MoviePy - Writing audio in temporary/clip14.mp3\n"
     ]
    },
    {
     "name": "stderr",
     "output_type": "stream",
     "text": [
      "                                                                                                                \r"
     ]
    },
    {
     "name": "stdout",
     "output_type": "stream",
     "text": [
      "MoviePy - Done.\n",
      "MoviePy - Writing audio in temporary/clip15.mp3\n"
     ]
    },
    {
     "name": "stderr",
     "output_type": "stream",
     "text": [
      "                                                                                                                \r"
     ]
    },
    {
     "name": "stdout",
     "output_type": "stream",
     "text": [
      "MoviePy - Done.\n",
      "MoviePy - Writing audio in temporary/clip16.mp3\n"
     ]
    },
    {
     "name": "stderr",
     "output_type": "stream",
     "text": [
      "                                                                                                                \r"
     ]
    },
    {
     "name": "stdout",
     "output_type": "stream",
     "text": [
      "MoviePy - Done.\n",
      "MoviePy - Writing audio in temporary/clip17.mp3\n"
     ]
    },
    {
     "name": "stderr",
     "output_type": "stream",
     "text": [
      "                                                                                                                \r"
     ]
    },
    {
     "name": "stdout",
     "output_type": "stream",
     "text": [
      "MoviePy - Done.\n",
      "MoviePy - Writing audio in temporary/clip18.mp3\n"
     ]
    },
    {
     "name": "stderr",
     "output_type": "stream",
     "text": [
      "                                                                                                                \r"
     ]
    },
    {
     "name": "stdout",
     "output_type": "stream",
     "text": [
      "MoviePy - Done.\n",
      "this is self.computed: <class 'numpy.ndarray'>\n",
      "[-0.06869385 -0.07850574 -0.05781014 ...  0.24250892  0.29447985\n",
      "  0.2300407 ]\n",
      "this is self.computed: <class 'numpy.ndarray'>\n",
      "[ 0.2316055   0.31838417  0.25933802 ... -0.06368868 -0.0943834\n",
      " -0.06278887]\n",
      "this is self.computed: <class 'numpy.ndarray'>\n",
      "[0.05998493 0.07130654 0.05892746 ... 0.14287366 0.09318151 0.04017318]\n",
      "this is self.computed: <class 'numpy.ndarray'>\n",
      "[-0.0379939  -0.04567074 -0.04013194 ... -0.01214032 -0.01513121\n",
      " -0.01245297]\n",
      "this is self.computed: <class 'numpy.ndarray'>\n",
      "[ 0.04138388  0.05153734  0.04513412 ... -0.06630065 -0.05578559\n",
      " -0.03570933]\n",
      "this is self.computed: <class 'numpy.ndarray'>\n",
      "[ 0.04054694  0.05737478  0.05747709 ... -0.17811525 -0.15517046\n",
      " -0.09588566]\n",
      "this is self.computed: <class 'numpy.ndarray'>\n",
      "[ 0.01197107  0.01503432  0.0134246  ... -0.00375071 -0.00317781\n",
      " -0.00210256]\n",
      "this is self.computed: <class 'numpy.ndarray'>\n",
      "[-0.04888628 -0.09537215 -0.11951074 ...  0.1180467   0.07925718\n",
      "  0.04718224]\n",
      "this is self.computed: <class 'numpy.ndarray'>\n",
      "[-0.04281342 -0.05725701 -0.06700589 ... -0.02156918 -0.01853725\n",
      " -0.01119553]\n",
      "this is self.computed: <class 'numpy.ndarray'>\n",
      "[ 0.08166521  0.17016338  0.27857664 ...  0.03274088 -0.01031524\n",
      " -0.03002738]\n",
      "this is self.computed: <class 'numpy.ndarray'>\n",
      "[-0.05476056 -0.07677463 -0.07280064 ...  0.00230487  0.00373207\n",
      "  0.0034645 ]\n",
      "this is self.computed: <class 'numpy.ndarray'>\n",
      "[0.         0.         0.         ... 0.01279908 0.01565324 0.01269256]\n",
      "this is self.computed: <class 'numpy.ndarray'>\n",
      "[0.00298311 0.00448519 0.00461841 ... 0.04646853 0.05516268 0.0431881 ]\n",
      "this is self.computed: <class 'numpy.ndarray'>\n",
      "[-0.0172351  -0.02498944 -0.0283195  ... -0.04757121 -0.05194055\n",
      " -0.03741861]\n",
      "this is self.computed: <class 'numpy.ndarray'>\n",
      "[0.17637306 0.19182238 0.14485773 ... 0.09375744 0.09904563 0.07308477]\n",
      "this is self.computed: <class 'numpy.ndarray'>\n",
      "[-0.00227877 -0.00264768 -0.00117045 ...  0.04231406  0.05348325\n",
      "  0.04311758]\n",
      "this is self.computed: <class 'numpy.ndarray'>\n",
      "[-0.01140527  0.00814204  0.03639898 ...  0.01329229 -0.00047079\n",
      " -0.00681397]\n",
      "this is self.computed: <class 'numpy.ndarray'>\n",
      "[-0.00049793  0.01015647  0.0253716  ...  0.27476323  0.2899023\n",
      "  0.21146822]\n"
     ]
    },
    {
     "name": "stderr",
     "output_type": "stream",
     "text": [
      "2025-03-04 08:47:31.009813: W tensorflow/compiler/xla/stream_executor/platform/default/dso_loader.cc:64] Could not load dynamic library 'libcuda.so.1'; dlerror: libcuda.so.1: cannot open shared object file: No such file or directory; LD_LIBRARY_PATH: /home/ubuntu/videos/myenv_new/lib/python3.7/site-packages/cv2/../../lib64:\n",
      "2025-03-04 08:47:31.009874: W tensorflow/compiler/xla/stream_executor/cuda/cuda_driver.cc:265] failed call to cuInit: UNKNOWN ERROR (303)\n",
      "2025-03-04 08:47:31.009905: I tensorflow/compiler/xla/stream_executor/cuda/cuda_diagnostics.cc:156] kernel driver does not appear to be running on this host (ip-172-31-29-3): /proc/driver/nvidia/version does not exist\n",
      "2025-03-04 08:47:31.010299: I tensorflow/core/platform/cpu_feature_guard.cc:193] This TensorFlow binary is optimized with oneAPI Deep Neural Network Library (oneDNN) to use the following CPU instructions in performance-critical operations:  AVX2 FMA\n",
      "To enable them in other operations, rebuild TensorFlow with the appropriate compiler flags.\n"
     ]
    },
    {
     "name": "stdout",
     "output_type": "stream",
     "text": [
      "1/1 [==============================] - 0s 244ms/step\n",
      "1/1 [==============================] - 0s 26ms/step\n",
      "1/1 [==============================] - 0s 27ms/step\n",
      "1/1 [==============================] - 0s 26ms/step\n",
      "1/1 [==============================] - 0s 32ms/step\n",
      "1/1 [==============================] - 0s 26ms/step\n",
      "1/1 [==============================] - 0s 25ms/step\n",
      "1/1 [==============================] - 0s 26ms/step\n",
      "1/1 [==============================] - 0s 24ms/step\n",
      "1/1 [==============================] - 0s 25ms/step\n",
      "1/1 [==============================] - 0s 26ms/step\n",
      "1/1 [==============================] - 0s 29ms/step\n",
      "1/1 [==============================] - 0s 25ms/step\n",
      "1/1 [==============================] - 0s 24ms/step\n",
      "1/1 [==============================] - 0s 26ms/step\n",
      "1/1 [==============================] - 0s 24ms/step\n",
      "1/1 [==============================] - 0s 24ms/step\n",
      "1/1 [==============================] - 0s 24ms/step\n",
      "surah22_part1.mp3 Hejaz\n",
      "MoviePy - Writing audio in temporary/clip1.mp3\n"
     ]
    },
    {
     "name": "stderr",
     "output_type": "stream",
     "text": [
      "                                                                                                                \r"
     ]
    },
    {
     "name": "stdout",
     "output_type": "stream",
     "text": [
      "MoviePy - Done.\n",
      "MoviePy - Writing audio in temporary/clip2.mp3\n"
     ]
    },
    {
     "name": "stderr",
     "output_type": "stream",
     "text": [
      "                                                                                                                \r"
     ]
    },
    {
     "name": "stdout",
     "output_type": "stream",
     "text": [
      "MoviePy - Done.\n",
      "MoviePy - Writing audio in temporary/clip3.mp3\n"
     ]
    },
    {
     "name": "stderr",
     "output_type": "stream",
     "text": [
      "                                                                                                                \r"
     ]
    },
    {
     "name": "stdout",
     "output_type": "stream",
     "text": [
      "MoviePy - Done.\n",
      "MoviePy - Writing audio in temporary/clip4.mp3\n"
     ]
    },
    {
     "name": "stderr",
     "output_type": "stream",
     "text": [
      "                                                                                                                \r"
     ]
    },
    {
     "name": "stdout",
     "output_type": "stream",
     "text": [
      "MoviePy - Done.\n",
      "MoviePy - Writing audio in temporary/clip5.mp3\n"
     ]
    },
    {
     "name": "stderr",
     "output_type": "stream",
     "text": [
      "                                                                                                                \r"
     ]
    },
    {
     "name": "stdout",
     "output_type": "stream",
     "text": [
      "MoviePy - Done.\n",
      "MoviePy - Writing audio in temporary/clip6.mp3\n"
     ]
    },
    {
     "name": "stderr",
     "output_type": "stream",
     "text": [
      "                                                                                                                \r"
     ]
    },
    {
     "name": "stdout",
     "output_type": "stream",
     "text": [
      "MoviePy - Done.\n",
      "MoviePy - Writing audio in temporary/clip7.mp3\n"
     ]
    },
    {
     "name": "stderr",
     "output_type": "stream",
     "text": [
      "                                                                                                                \r"
     ]
    },
    {
     "name": "stdout",
     "output_type": "stream",
     "text": [
      "MoviePy - Done.\n",
      "MoviePy - Writing audio in temporary/clip8.mp3\n"
     ]
    },
    {
     "name": "stderr",
     "output_type": "stream",
     "text": [
      "                                                                                                                \r"
     ]
    },
    {
     "name": "stdout",
     "output_type": "stream",
     "text": [
      "MoviePy - Done.\n",
      "this is self.computed: <class 'numpy.ndarray'>\n",
      "[-0.13757636 -0.18514204 -0.160591   ...  0.04524165  0.0349715\n",
      "  0.01935126]\n",
      "this is self.computed: <class 'numpy.ndarray'>\n",
      "[ 0.00893346  0.0021103  -0.00857252 ...  0.10329661  0.15086915\n",
      "  0.13065718]\n",
      "this is self.computed: <class 'numpy.ndarray'>\n",
      "[ 0.33846986  0.44450384  0.37117428 ... -0.1717076  -0.1986504\n",
      " -0.1570045 ]\n",
      "this is self.computed: <class 'numpy.ndarray'>\n",
      "[-0.00480157  0.00212308 -0.03689855 ...  0.4104733   0.41894776\n",
      "  0.29296473]\n",
      "this is self.computed: <class 'numpy.ndarray'>\n",
      "[0.14532736 0.21181011 0.20314853 ... 0.09587469 0.12157094 0.09811436]\n",
      "this is self.computed: <class 'numpy.ndarray'>\n",
      "[ 0.          0.          0.         ... -0.12595947 -0.06904027\n",
      " -0.01457455]\n",
      "this is self.computed: <class 'numpy.ndarray'>\n",
      "[0.27997783 0.32558    0.26311183 ... 0.26200563 0.3577771  0.30110392]\n",
      "this is self.computed: <class 'numpy.ndarray'>\n",
      "[ 0.10272491  0.13173434  0.10905176 ... -0.03545507 -0.04374279\n",
      " -0.03735121]\n",
      "1/1 [==============================] - 0s 207ms/step\n",
      "1/1 [==============================] - 0s 26ms/step\n",
      "1/1 [==============================] - 0s 25ms/step\n",
      "1/1 [==============================] - 0s 24ms/step\n",
      "1/1 [==============================] - 0s 24ms/step\n",
      "1/1 [==============================] - 0s 24ms/step\n",
      "1/1 [==============================] - 0s 24ms/step\n",
      "1/1 [==============================] - 0s 24ms/step\n",
      "surah56_part1.mp3 Bayat\n",
      "MoviePy - Writing audio in temporary/clip1.mp3\n"
     ]
    },
    {
     "name": "stderr",
     "output_type": "stream",
     "text": [
      "                                                                                                                \r"
     ]
    },
    {
     "name": "stdout",
     "output_type": "stream",
     "text": [
      "MoviePy - Done.\n",
      "MoviePy - Writing audio in temporary/clip2.mp3\n"
     ]
    },
    {
     "name": "stderr",
     "output_type": "stream",
     "text": [
      "                                                                                                                \r"
     ]
    },
    {
     "name": "stdout",
     "output_type": "stream",
     "text": [
      "MoviePy - Done.\n",
      "MoviePy - Writing audio in temporary/clip3.mp3\n"
     ]
    },
    {
     "name": "stderr",
     "output_type": "stream",
     "text": [
      "                                                                                                                \r"
     ]
    },
    {
     "name": "stdout",
     "output_type": "stream",
     "text": [
      "MoviePy - Done.\n",
      "MoviePy - Writing audio in temporary/clip4.mp3\n"
     ]
    },
    {
     "name": "stderr",
     "output_type": "stream",
     "text": [
      "                                                                                                                \r"
     ]
    },
    {
     "name": "stdout",
     "output_type": "stream",
     "text": [
      "MoviePy - Done.\n",
      "MoviePy - Writing audio in temporary/clip5.mp3\n"
     ]
    },
    {
     "name": "stderr",
     "output_type": "stream",
     "text": [
      "                                                                                                                \r"
     ]
    },
    {
     "name": "stdout",
     "output_type": "stream",
     "text": [
      "MoviePy - Done.\n",
      "MoviePy - Writing audio in temporary/clip6.mp3\n"
     ]
    },
    {
     "name": "stderr",
     "output_type": "stream",
     "text": [
      "                                                                                                                \r"
     ]
    },
    {
     "name": "stdout",
     "output_type": "stream",
     "text": [
      "MoviePy - Done.\n",
      "this is self.computed: <class 'numpy.ndarray'>\n",
      "[ 0.04464155  0.03237425 -0.03334528 ... -0.10302866 -0.1682517\n",
      " -0.15238857]\n",
      "this is self.computed: <class 'numpy.ndarray'>\n",
      "[-0.17073676 -0.2447662  -0.25040534 ...  0.04865956  0.05590653\n",
      "  0.04386342]\n",
      "this is self.computed: <class 'numpy.ndarray'>\n",
      "[-0.00768191 -0.00444376  0.00219675 ...  0.03595692  0.04311474\n",
      "  0.04125319]\n",
      "this is self.computed: <class 'numpy.ndarray'>\n",
      "[ 0.14624724  0.17597097  0.15660092 ... -0.00698544 -0.07607094\n",
      " -0.09536257]\n",
      "this is self.computed: <class 'numpy.ndarray'>\n",
      "[-0.01435907 -0.01960232 -0.01944518 ...  0.13109319  0.16524297\n",
      "  0.13098684]\n",
      "this is self.computed: <class 'numpy.ndarray'>\n",
      "[-0.10651082 -0.19558933 -0.2595724  ... -0.00081164 -0.0063208\n",
      " -0.00814616]\n",
      "1/1 [==============================] - 0s 209ms/step\n",
      "1/1 [==============================] - 0s 26ms/step\n",
      "1/1 [==============================] - 0s 25ms/step\n",
      "1/1 [==============================] - 0s 24ms/step\n",
      "1/1 [==============================] - 0s 25ms/step\n",
      "1/1 [==============================] - 0s 25ms/step\n",
      "surah11_part7.mp3 Hejaz\n",
      "MoviePy - Writing audio in temporary/clip1.mp3\n"
     ]
    },
    {
     "name": "stderr",
     "output_type": "stream",
     "text": [
      "                                                                                                                \r"
     ]
    },
    {
     "name": "stdout",
     "output_type": "stream",
     "text": [
      "MoviePy - Done.\n",
      "MoviePy - Writing audio in temporary/clip2.mp3\n"
     ]
    },
    {
     "name": "stderr",
     "output_type": "stream",
     "text": [
      "                                                                                                                \r"
     ]
    },
    {
     "name": "stdout",
     "output_type": "stream",
     "text": [
      "MoviePy - Done.\n",
      "MoviePy - Writing audio in temporary/clip3.mp3\n"
     ]
    },
    {
     "name": "stderr",
     "output_type": "stream",
     "text": [
      "                                                                                                                \r"
     ]
    },
    {
     "name": "stdout",
     "output_type": "stream",
     "text": [
      "MoviePy - Done.\n",
      "MoviePy - Writing audio in temporary/clip4.mp3\n"
     ]
    },
    {
     "name": "stderr",
     "output_type": "stream",
     "text": [
      "                                                                                                                \r"
     ]
    },
    {
     "name": "stdout",
     "output_type": "stream",
     "text": [
      "MoviePy - Done.\n",
      "MoviePy - Writing audio in temporary/clip5.mp3\n"
     ]
    },
    {
     "name": "stderr",
     "output_type": "stream",
     "text": [
      "                                                                                                                \r"
     ]
    },
    {
     "name": "stdout",
     "output_type": "stream",
     "text": [
      "MoviePy - Done.\n",
      "MoviePy - Writing audio in temporary/clip6.mp3\n"
     ]
    },
    {
     "name": "stderr",
     "output_type": "stream",
     "text": [
      "                                                                                                                \r"
     ]
    },
    {
     "name": "stdout",
     "output_type": "stream",
     "text": [
      "MoviePy - Done.\n",
      "MoviePy - Writing audio in temporary/clip7.mp3\n"
     ]
    },
    {
     "name": "stderr",
     "output_type": "stream",
     "text": [
      "                                                                                                                \r"
     ]
    },
    {
     "name": "stdout",
     "output_type": "stream",
     "text": [
      "MoviePy - Done.\n",
      "MoviePy - Writing audio in temporary/clip8.mp3\n"
     ]
    },
    {
     "name": "stderr",
     "output_type": "stream",
     "text": [
      "                                                                                                                \r"
     ]
    },
    {
     "name": "stdout",
     "output_type": "stream",
     "text": [
      "MoviePy - Done.\n",
      "MoviePy - Writing audio in temporary/clip9.mp3\n"
     ]
    },
    {
     "name": "stderr",
     "output_type": "stream",
     "text": [
      "                                                                                                                \r"
     ]
    },
    {
     "name": "stdout",
     "output_type": "stream",
     "text": [
      "MoviePy - Done.\n",
      "MoviePy - Writing audio in temporary/clip10.mp3\n"
     ]
    },
    {
     "name": "stderr",
     "output_type": "stream",
     "text": [
      "                                                                                                                \r"
     ]
    },
    {
     "name": "stdout",
     "output_type": "stream",
     "text": [
      "MoviePy - Done.\n",
      "MoviePy - Writing audio in temporary/clip11.mp3\n"
     ]
    },
    {
     "name": "stderr",
     "output_type": "stream",
     "text": [
      "                                                                                                                \r"
     ]
    },
    {
     "name": "stdout",
     "output_type": "stream",
     "text": [
      "MoviePy - Done.\n",
      "MoviePy - Writing audio in temporary/clip12.mp3\n"
     ]
    },
    {
     "name": "stderr",
     "output_type": "stream",
     "text": [
      "                                                                                                                \r"
     ]
    },
    {
     "name": "stdout",
     "output_type": "stream",
     "text": [
      "MoviePy - Done.\n",
      "MoviePy - Writing audio in temporary/clip13.mp3\n"
     ]
    },
    {
     "name": "stderr",
     "output_type": "stream",
     "text": [
      "                                                                                                                \r"
     ]
    },
    {
     "name": "stdout",
     "output_type": "stream",
     "text": [
      "MoviePy - Done.\n",
      "this is self.computed: <class 'numpy.ndarray'>\n",
      "[-0.16946697 -0.18213713 -0.11906841 ... -0.41466314 -0.5424502\n",
      " -0.45678335]\n",
      "this is self.computed: <class 'numpy.ndarray'>\n",
      "[-0.44995713 -0.61911666 -0.5796511  ... -0.10597154 -0.06501044\n",
      " -0.02672441]\n",
      "this is self.computed: <class 'numpy.ndarray'>\n",
      "[-0.01398663 -0.01866381 -0.01776606 ... -0.3427667  -0.3475444\n",
      " -0.24498373]\n",
      "this is self.computed: <class 'numpy.ndarray'>\n",
      "[ 0.28098696  0.37538886  0.2958266  ... -0.11254109 -0.18449163\n",
      " -0.1669089 ]\n",
      "this is self.computed: <class 'numpy.ndarray'>\n",
      "[-0.1979671  -0.28912097 -0.29955196 ...  0.28104663  0.31116408\n",
      "  0.23366195]\n",
      "this is self.computed: <class 'numpy.ndarray'>\n",
      "[-0.23879002 -0.307146   -0.25165316 ... -0.18414284 -0.1923391\n",
      " -0.14177015]\n",
      "this is self.computed: <class 'numpy.ndarray'>\n",
      "[0.01697909 0.0549751  0.09426939 ... 0.43673646 0.486921   0.37334436]\n",
      "this is self.computed: <class 'numpy.ndarray'>\n",
      "[-0.13358282 -0.14314933 -0.11245537 ...  0.07004747  0.031172\n",
      "  0.0023223 ]\n",
      "this is self.computed: <class 'numpy.ndarray'>\n",
      "[-0.06187679 -0.12864403 -0.17529656 ...  0.01310658  0.01462118\n",
      "  0.01134996]\n",
      "this is self.computed: <class 'numpy.ndarray'>\n",
      "[-0.00274628 -0.00412663 -0.00315935 ... -0.1520323  -0.19553232\n",
      " -0.14876786]\n",
      "this is self.computed: <class 'numpy.ndarray'>\n",
      "[ 0.39249098  0.55010235  0.49864474 ... -0.01249377 -0.01725192\n",
      " -0.01479958]\n",
      "this is self.computed: <class 'numpy.ndarray'>\n",
      "[0.19587094 0.27339786 0.2037541  ... 0.3207274  0.37027183 0.2811907 ]\n",
      "this is self.computed: <class 'numpy.ndarray'>\n",
      "[0.31659037 0.40664586 0.31550527 ... 0.31848037 0.4282105  0.35353106]\n",
      "1/1 [==============================] - 0s 208ms/step\n",
      "1/1 [==============================] - 0s 24ms/step\n",
      "1/1 [==============================] - 0s 25ms/step\n",
      "1/1 [==============================] - 0s 26ms/step\n",
      "1/1 [==============================] - 0s 25ms/step\n",
      "1/1 [==============================] - 0s 24ms/step\n",
      "1/1 [==============================] - 0s 24ms/step\n",
      "1/1 [==============================] - 0s 27ms/step\n",
      "1/1 [==============================] - 0s 25ms/step\n",
      "1/1 [==============================] - 0s 25ms/step\n",
      "1/1 [==============================] - 0s 25ms/step\n",
      "1/1 [==============================] - 0s 24ms/step\n",
      "1/1 [==============================] - 0s 25ms/step\n",
      "surah19_part2.mp3 Hejaz\n",
      "MoviePy - Writing audio in temporary/clip1.mp3\n"
     ]
    },
    {
     "name": "stderr",
     "output_type": "stream",
     "text": [
      "                                                                                                                \r"
     ]
    },
    {
     "name": "stdout",
     "output_type": "stream",
     "text": [
      "MoviePy - Done.\n",
      "MoviePy - Writing audio in temporary/clip2.mp3\n"
     ]
    },
    {
     "name": "stderr",
     "output_type": "stream",
     "text": [
      "                                                                                                                \r"
     ]
    },
    {
     "name": "stdout",
     "output_type": "stream",
     "text": [
      "MoviePy - Done.\n",
      "MoviePy - Writing audio in temporary/clip3.mp3\n"
     ]
    },
    {
     "name": "stderr",
     "output_type": "stream",
     "text": [
      "                                                                                                                \r"
     ]
    },
    {
     "name": "stdout",
     "output_type": "stream",
     "text": [
      "MoviePy - Done.\n",
      "MoviePy - Writing audio in temporary/clip4.mp3\n"
     ]
    },
    {
     "name": "stderr",
     "output_type": "stream",
     "text": [
      "                                                                                                                \r"
     ]
    },
    {
     "name": "stdout",
     "output_type": "stream",
     "text": [
      "MoviePy - Done.\n",
      "MoviePy - Writing audio in temporary/clip5.mp3\n"
     ]
    },
    {
     "name": "stderr",
     "output_type": "stream",
     "text": [
      "                                                                                                                \r"
     ]
    },
    {
     "name": "stdout",
     "output_type": "stream",
     "text": [
      "MoviePy - Done.\n",
      "MoviePy - Writing audio in temporary/clip6.mp3\n"
     ]
    },
    {
     "name": "stderr",
     "output_type": "stream",
     "text": [
      "                                                                                                                \r"
     ]
    },
    {
     "name": "stdout",
     "output_type": "stream",
     "text": [
      "MoviePy - Done.\n",
      "MoviePy - Writing audio in temporary/clip7.mp3\n"
     ]
    },
    {
     "name": "stderr",
     "output_type": "stream",
     "text": [
      "                                                                                                                \r"
     ]
    },
    {
     "name": "stdout",
     "output_type": "stream",
     "text": [
      "MoviePy - Done.\n",
      "MoviePy - Writing audio in temporary/clip8.mp3\n"
     ]
    },
    {
     "name": "stderr",
     "output_type": "stream",
     "text": [
      "                                                                                                                \r"
     ]
    },
    {
     "name": "stdout",
     "output_type": "stream",
     "text": [
      "MoviePy - Done.\n",
      "MoviePy - Writing audio in temporary/clip9.mp3\n"
     ]
    },
    {
     "name": "stderr",
     "output_type": "stream",
     "text": [
      "                                                                                                                \r"
     ]
    },
    {
     "name": "stdout",
     "output_type": "stream",
     "text": [
      "MoviePy - Done.\n",
      "MoviePy - Writing audio in temporary/clip10.mp3\n"
     ]
    },
    {
     "name": "stderr",
     "output_type": "stream",
     "text": [
      "                                                                                                                \r"
     ]
    },
    {
     "name": "stdout",
     "output_type": "stream",
     "text": [
      "MoviePy - Done.\n",
      "MoviePy - Writing audio in temporary/clip11.mp3\n"
     ]
    },
    {
     "name": "stderr",
     "output_type": "stream",
     "text": [
      "                                                                                                                \r"
     ]
    },
    {
     "name": "stdout",
     "output_type": "stream",
     "text": [
      "MoviePy - Done.\n",
      "MoviePy - Writing audio in temporary/clip12.mp3\n"
     ]
    },
    {
     "name": "stderr",
     "output_type": "stream",
     "text": [
      "                                                                                                                \r"
     ]
    },
    {
     "name": "stdout",
     "output_type": "stream",
     "text": [
      "MoviePy - Done.\n",
      "MoviePy - Writing audio in temporary/clip13.mp3\n"
     ]
    },
    {
     "name": "stderr",
     "output_type": "stream",
     "text": [
      "                                                                                                                \r"
     ]
    },
    {
     "name": "stdout",
     "output_type": "stream",
     "text": [
      "MoviePy - Done.\n",
      "MoviePy - Writing audio in temporary/clip14.mp3\n"
     ]
    },
    {
     "name": "stderr",
     "output_type": "stream",
     "text": [
      "                                                                                                                \r"
     ]
    },
    {
     "name": "stdout",
     "output_type": "stream",
     "text": [
      "MoviePy - Done.\n",
      "MoviePy - Writing audio in temporary/clip15.mp3\n"
     ]
    },
    {
     "name": "stderr",
     "output_type": "stream",
     "text": [
      "                                                                                                                \r"
     ]
    },
    {
     "name": "stdout",
     "output_type": "stream",
     "text": [
      "MoviePy - Done.\n",
      "this is self.computed: <class 'numpy.ndarray'>\n",
      "[ 0.02603712  0.03749991  0.03035603 ... -0.07413161 -0.03978667\n",
      " -0.00010348]\n",
      "this is self.computed: <class 'numpy.ndarray'>\n",
      "[-0.00130992 -0.02674989 -0.04156106 ...  0.36598718  0.41553926\n",
      "  0.3197195 ]\n",
      "this is self.computed: <class 'numpy.ndarray'>\n",
      "[-0.00661942  0.01247435  0.04718939 ... -0.0104488  -0.01047738\n",
      " -0.00760609]\n",
      "this is self.computed: <class 'numpy.ndarray'>\n",
      "[0. 0. 0. ... 0. 0. 0.]\n",
      "this is self.computed: <class 'numpy.ndarray'>\n",
      "[ 0.14051723  0.16679934  0.13144396 ... -0.00293562  0.0143669\n",
      "  0.01916875]\n",
      "this is self.computed: <class 'numpy.ndarray'>\n",
      "[-0.15018456 -0.16341886 -0.09982154 ... -0.44975933 -0.492382\n",
      " -0.39503288]\n",
      "this is self.computed: <class 'numpy.ndarray'>\n",
      "[-0.00657526 -0.00805077 -0.00719225 ...  0.05555641  0.07065044\n",
      "  0.05898801]\n",
      "this is self.computed: <class 'numpy.ndarray'>\n",
      "[0.3403017  0.436741   0.3411575  ... 0.02991692 0.04143923 0.03500278]\n",
      "this is self.computed: <class 'numpy.ndarray'>\n",
      "[0.04941112 0.07227847 0.07617368 ... 0.02140547 0.02434702 0.01937801]\n",
      "this is self.computed: <class 'numpy.ndarray'>\n",
      "[0.01892633 0.02320924 0.0168793  ... 0.24133706 0.19854027 0.11656158]\n",
      "this is self.computed: <class 'numpy.ndarray'>\n",
      "[ 0.          0.          0.         ... -0.18618286 -0.217617\n",
      " -0.16357198]\n",
      "this is self.computed: <class 'numpy.ndarray'>\n",
      "[ 0.05191768  0.01187831 -0.07339869 ...  0.          0.\n",
      "  0.        ]\n",
      "this is self.computed: <class 'numpy.ndarray'>\n",
      "[ 0.19715598  0.31560186  0.3445445  ... -0.03123754 -0.03628726\n",
      " -0.02646897]\n",
      "this is self.computed: <class 'numpy.ndarray'>\n",
      "[-0.36389986 -0.4424373  -0.40406105 ...  0.1703613   0.19163251\n",
      "  0.15101549]\n",
      "this is self.computed: <class 'numpy.ndarray'>\n",
      "[0.03216707 0.045703   0.04454063 ... 0.09513864 0.1761874  0.17094196]\n",
      "1/1 [==============================] - 0s 227ms/step\n",
      "1/1 [==============================] - 0s 26ms/step\n",
      "1/1 [==============================] - 0s 25ms/step\n",
      "1/1 [==============================] - 0s 25ms/step\n",
      "1/1 [==============================] - 0s 27ms/step\n",
      "1/1 [==============================] - 0s 25ms/step\n",
      "1/1 [==============================] - 0s 25ms/step\n",
      "1/1 [==============================] - 0s 25ms/step\n",
      "1/1 [==============================] - 0s 25ms/step\n",
      "1/1 [==============================] - 0s 27ms/step\n",
      "1/1 [==============================] - 0s 25ms/step\n",
      "1/1 [==============================] - 0s 24ms/step\n",
      "1/1 [==============================] - 0s 24ms/step\n",
      "1/1 [==============================] - 0s 24ms/step\n",
      "1/1 [==============================] - 0s 24ms/step\n",
      "surah72_part1.mp3 Seekah\n",
      "MoviePy - Writing audio in temporary/clip1.mp3\n"
     ]
    },
    {
     "name": "stderr",
     "output_type": "stream",
     "text": [
      "                                                                                                                \r"
     ]
    },
    {
     "name": "stdout",
     "output_type": "stream",
     "text": [
      "MoviePy - Done.\n",
      "MoviePy - Writing audio in temporary/clip2.mp3\n"
     ]
    },
    {
     "name": "stderr",
     "output_type": "stream",
     "text": [
      "                                                                                                                \r"
     ]
    },
    {
     "name": "stdout",
     "output_type": "stream",
     "text": [
      "MoviePy - Done.\n",
      "MoviePy - Writing audio in temporary/clip3.mp3\n"
     ]
    },
    {
     "name": "stderr",
     "output_type": "stream",
     "text": [
      "                                                                                                                \r"
     ]
    },
    {
     "name": "stdout",
     "output_type": "stream",
     "text": [
      "MoviePy - Done.\n",
      "MoviePy - Writing audio in temporary/clip4.mp3\n"
     ]
    },
    {
     "name": "stderr",
     "output_type": "stream",
     "text": [
      "                                                                                                                \r"
     ]
    },
    {
     "name": "stdout",
     "output_type": "stream",
     "text": [
      "MoviePy - Done.\n",
      "MoviePy - Writing audio in temporary/clip5.mp3\n"
     ]
    },
    {
     "name": "stderr",
     "output_type": "stream",
     "text": [
      "                                                                                                                \r"
     ]
    },
    {
     "name": "stdout",
     "output_type": "stream",
     "text": [
      "MoviePy - Done.\n",
      "this is self.computed: <class 'numpy.ndarray'>\n",
      "[0. 0. 0. ... 0. 0. 0.]\n",
      "this is self.computed: <class 'numpy.ndarray'>\n",
      "[0.08041478 0.08960073 0.06168255 ... 0.         0.         0.        ]\n",
      "this is self.computed: <class 'numpy.ndarray'>\n",
      "[-0.01929433  0.00472192  0.04478156 ...  0.10549787  0.11283387\n",
      "  0.08250884]\n",
      "this is self.computed: <class 'numpy.ndarray'>\n",
      "[ 0.          0.          0.         ... -0.09440796 -0.0630227\n",
      " -0.03214771]\n",
      "this is self.computed: <class 'numpy.ndarray'>\n",
      "[0.07413273 0.08082719 0.07512518 ... 0.11519271 0.1291744  0.09657186]\n",
      "1/1 [==============================] - 0s 220ms/step\n",
      "1/1 [==============================] - 0s 26ms/step\n",
      "1/1 [==============================] - 0s 25ms/step\n",
      "1/1 [==============================] - 0s 25ms/step\n",
      "1/1 [==============================] - 0s 24ms/step\n",
      "surah96_part1.mp3 Bayat\n",
      "MoviePy - Writing audio in temporary/clip1.mp3\n"
     ]
    },
    {
     "name": "stderr",
     "output_type": "stream",
     "text": [
      "                                                                                                                \r"
     ]
    },
    {
     "name": "stdout",
     "output_type": "stream",
     "text": [
      "MoviePy - Done.\n",
      "MoviePy - Writing audio in temporary/clip2.mp3\n"
     ]
    },
    {
     "name": "stderr",
     "output_type": "stream",
     "text": [
      "                                                                                                                \r"
     ]
    },
    {
     "name": "stdout",
     "output_type": "stream",
     "text": [
      "MoviePy - Done.\n",
      "MoviePy - Writing audio in temporary/clip3.mp3\n"
     ]
    },
    {
     "name": "stderr",
     "output_type": "stream",
     "text": [
      "                                                                                                                \r"
     ]
    },
    {
     "name": "stdout",
     "output_type": "stream",
     "text": [
      "MoviePy - Done.\n",
      "MoviePy - Writing audio in temporary/clip4.mp3\n"
     ]
    },
    {
     "name": "stderr",
     "output_type": "stream",
     "text": [
      "                                                                                                                \r"
     ]
    },
    {
     "name": "stdout",
     "output_type": "stream",
     "text": [
      "MoviePy - Done.\n",
      "MoviePy - Writing audio in temporary/clip5.mp3\n"
     ]
    },
    {
     "name": "stderr",
     "output_type": "stream",
     "text": [
      "                                                                                                                \r"
     ]
    },
    {
     "name": "stdout",
     "output_type": "stream",
     "text": [
      "MoviePy - Done.\n",
      "MoviePy - Writing audio in temporary/clip6.mp3\n"
     ]
    },
    {
     "name": "stderr",
     "output_type": "stream",
     "text": [
      "                                                                                                                \r"
     ]
    },
    {
     "name": "stdout",
     "output_type": "stream",
     "text": [
      "MoviePy - Done.\n",
      "MoviePy - Writing audio in temporary/clip7.mp3\n"
     ]
    },
    {
     "name": "stderr",
     "output_type": "stream",
     "text": [
      "                                                                                                                \r"
     ]
    },
    {
     "name": "stdout",
     "output_type": "stream",
     "text": [
      "MoviePy - Done.\n",
      "MoviePy - Writing audio in temporary/clip8.mp3\n"
     ]
    },
    {
     "name": "stderr",
     "output_type": "stream",
     "text": [
      "                                                                                                                \r"
     ]
    },
    {
     "name": "stdout",
     "output_type": "stream",
     "text": [
      "MoviePy - Done.\n",
      "this is self.computed: <class 'numpy.ndarray'>\n",
      "[-0.1022726  -0.12906893 -0.11560134 ... -0.08871391 -0.10206708\n",
      " -0.07742991]\n",
      "this is self.computed: <class 'numpy.ndarray'>\n",
      "[-0.073425   -0.08714553 -0.07407211 ... -0.00949961 -0.01220926\n",
      " -0.01005124]\n",
      "this is self.computed: <class 'numpy.ndarray'>\n",
      "[ 0.46696424  0.6064865   0.48978245 ... -0.13154101 -0.14338994\n",
      " -0.10798636]\n",
      "this is self.computed: <class 'numpy.ndarray'>\n",
      "[-0.0945226  -0.15630442 -0.17327338 ... -0.38094282 -0.39554513\n",
      " -0.27933246]\n",
      "this is self.computed: <class 'numpy.ndarray'>\n",
      "[-0.00997538 -0.0135496  -0.01351652 ...  0.33964592  0.42470163\n",
      "  0.34326798]\n",
      "this is self.computed: <class 'numpy.ndarray'>\n",
      "[ 0.00385498  0.00513862  0.00418286 ...  0.1326287   0.04423866\n",
      " -0.02987934]\n",
      "this is self.computed: <class 'numpy.ndarray'>\n",
      "[-0.29101652 -0.30923408 -0.19738264 ...  0.45758396  0.53549564\n",
      "  0.4119739 ]\n",
      "this is self.computed: <class 'numpy.ndarray'>\n",
      "[ 0.36789823  0.5115145   0.44152948 ... -0.02671139 -0.02997163\n",
      " -0.0232853 ]\n",
      "1/1 [==============================] - 0s 214ms/step\n",
      "1/1 [==============================] - 0s 25ms/step\n",
      "1/1 [==============================] - 0s 25ms/step\n",
      "1/1 [==============================] - 0s 26ms/step\n",
      "1/1 [==============================] - 0s 24ms/step\n",
      "1/1 [==============================] - 0s 24ms/step\n",
      "1/1 [==============================] - 0s 26ms/step\n",
      "1/1 [==============================] - 0s 27ms/step\n",
      "surah11_part6.mp3 Ajam\n",
      "MoviePy - Writing audio in temporary/clip1.mp3\n"
     ]
    },
    {
     "name": "stderr",
     "output_type": "stream",
     "text": [
      "                                                                                                                \r"
     ]
    },
    {
     "name": "stdout",
     "output_type": "stream",
     "text": [
      "MoviePy - Done.\n",
      "MoviePy - Writing audio in temporary/clip2.mp3\n"
     ]
    },
    {
     "name": "stderr",
     "output_type": "stream",
     "text": [
      "                                                                                                                \r"
     ]
    },
    {
     "name": "stdout",
     "output_type": "stream",
     "text": [
      "MoviePy - Done.\n",
      "MoviePy - Writing audio in temporary/clip3.mp3\n"
     ]
    },
    {
     "name": "stderr",
     "output_type": "stream",
     "text": [
      "                                                                                                                \r"
     ]
    },
    {
     "name": "stdout",
     "output_type": "stream",
     "text": [
      "MoviePy - Done.\n",
      "MoviePy - Writing audio in temporary/clip4.mp3\n"
     ]
    },
    {
     "name": "stderr",
     "output_type": "stream",
     "text": [
      "                                                                                                                \r"
     ]
    },
    {
     "name": "stdout",
     "output_type": "stream",
     "text": [
      "MoviePy - Done.\n",
      "MoviePy - Writing audio in temporary/clip5.mp3\n"
     ]
    },
    {
     "name": "stderr",
     "output_type": "stream",
     "text": [
      "                                                                                                                \r"
     ]
    },
    {
     "name": "stdout",
     "output_type": "stream",
     "text": [
      "MoviePy - Done.\n",
      "MoviePy - Writing audio in temporary/clip6.mp3\n"
     ]
    },
    {
     "name": "stderr",
     "output_type": "stream",
     "text": [
      "                                                                                                                \r"
     ]
    },
    {
     "name": "stdout",
     "output_type": "stream",
     "text": [
      "MoviePy - Done.\n",
      "MoviePy - Writing audio in temporary/clip7.mp3\n"
     ]
    },
    {
     "name": "stderr",
     "output_type": "stream",
     "text": [
      "                                                                                                                \r"
     ]
    },
    {
     "name": "stdout",
     "output_type": "stream",
     "text": [
      "MoviePy - Done.\n",
      "MoviePy - Writing audio in temporary/clip8.mp3\n"
     ]
    },
    {
     "name": "stderr",
     "output_type": "stream",
     "text": [
      "                                                                                                                \r"
     ]
    },
    {
     "name": "stdout",
     "output_type": "stream",
     "text": [
      "MoviePy - Done.\n",
      "MoviePy - Writing audio in temporary/clip9.mp3\n"
     ]
    },
    {
     "name": "stderr",
     "output_type": "stream",
     "text": [
      "                                                                                                                \r"
     ]
    },
    {
     "name": "stdout",
     "output_type": "stream",
     "text": [
      "MoviePy - Done.\n",
      "MoviePy - Writing audio in temporary/clip10.mp3\n"
     ]
    },
    {
     "name": "stderr",
     "output_type": "stream",
     "text": [
      "                                                                                                                \r"
     ]
    },
    {
     "name": "stdout",
     "output_type": "stream",
     "text": [
      "MoviePy - Done.\n",
      "MoviePy - Writing audio in temporary/clip11.mp3\n"
     ]
    },
    {
     "name": "stderr",
     "output_type": "stream",
     "text": [
      "                                                                                                                \r"
     ]
    },
    {
     "name": "stdout",
     "output_type": "stream",
     "text": [
      "MoviePy - Done.\n",
      "MoviePy - Writing audio in temporary/clip12.mp3\n"
     ]
    },
    {
     "name": "stderr",
     "output_type": "stream",
     "text": [
      "                                                                                                                \r"
     ]
    },
    {
     "name": "stdout",
     "output_type": "stream",
     "text": [
      "MoviePy - Done.\n",
      "MoviePy - Writing audio in temporary/clip13.mp3\n"
     ]
    },
    {
     "name": "stderr",
     "output_type": "stream",
     "text": [
      "                                                                                                                \r"
     ]
    },
    {
     "name": "stdout",
     "output_type": "stream",
     "text": [
      "MoviePy - Done.\n",
      "MoviePy - Writing audio in temporary/clip14.mp3\n"
     ]
    },
    {
     "name": "stderr",
     "output_type": "stream",
     "text": [
      "                                                                                                                \r"
     ]
    },
    {
     "name": "stdout",
     "output_type": "stream",
     "text": [
      "MoviePy - Done.\n",
      "this is self.computed: <class 'numpy.ndarray'>\n",
      "[ 0.06268859  0.08622031  0.0911518  ... -0.22179656 -0.20635788\n",
      " -0.13754222]\n",
      "this is self.computed: <class 'numpy.ndarray'>\n",
      "[-0.11440004 -0.12768444 -0.06038905 ... -0.19314371 -0.28797764\n",
      " -0.25136927]\n",
      "this is self.computed: <class 'numpy.ndarray'>\n",
      "[0.28588605 0.4322855  0.38878182 ... 0.18478695 0.22755095 0.17696905]\n",
      "this is self.computed: <class 'numpy.ndarray'>\n",
      "[-0.12837592 -0.20729445 -0.21534622 ...  0.05109431  0.06421116\n",
      "  0.05718115]\n",
      "this is self.computed: <class 'numpy.ndarray'>\n",
      "[-0.13603519 -0.16209278 -0.15034378 ... -0.01689876 -0.02396175\n",
      " -0.02028953]\n",
      "this is self.computed: <class 'numpy.ndarray'>\n",
      "[ 0.22694053  0.31487685  0.312227   ... -0.23770653 -0.29060864\n",
      " -0.2421434 ]\n",
      "this is self.computed: <class 'numpy.ndarray'>\n",
      "[-0.25533724 -0.37175506 -0.42406738 ...  0.11610703  0.10957922\n",
      "  0.07605173]\n",
      "this is self.computed: <class 'numpy.ndarray'>\n",
      "[-0.21236986 -0.27277514 -0.25977522 ...  0.1072627   0.11419281\n",
      "  0.08575355]\n",
      "this is self.computed: <class 'numpy.ndarray'>\n",
      "[0.07900964 0.08761719 0.05992321 ... 0.2813095  0.31445986 0.23320968]\n",
      "this is self.computed: <class 'numpy.ndarray'>\n",
      "[ 0.          0.          0.         ... -0.14612755 -0.18150339\n",
      " -0.1472683 ]\n",
      "this is self.computed: <class 'numpy.ndarray'>\n",
      "[0.23571518 0.28877842 0.23481458 ... 0.0073954  0.00730657 0.00475841]\n",
      "this is self.computed: <class 'numpy.ndarray'>\n",
      "[0.0796657  0.13039501 0.15860283 ... 0.3114601  0.3640672  0.27731523]\n",
      "this is self.computed: <class 'numpy.ndarray'>\n",
      "[-0.02083339 -0.03040643 -0.03083621 ... -0.15212288 -0.19739658\n",
      " -0.16601008]\n",
      "this is self.computed: <class 'numpy.ndarray'>\n",
      "[0.05621824 0.06759866 0.04033013 ... 0.06067596 0.09380062 0.08776315]\n",
      "1/1 [==============================] - 0s 212ms/step\n",
      "1/1 [==============================] - 0s 24ms/step\n",
      "1/1 [==============================] - 0s 25ms/step\n",
      "1/1 [==============================] - 0s 24ms/step\n",
      "1/1 [==============================] - 0s 25ms/step\n",
      "1/1 [==============================] - 0s 26ms/step\n",
      "1/1 [==============================] - 0s 25ms/step\n",
      "1/1 [==============================] - 0s 25ms/step\n",
      "1/1 [==============================] - 0s 25ms/step\n",
      "1/1 [==============================] - 0s 24ms/step\n",
      "1/1 [==============================] - 0s 25ms/step\n",
      "1/1 [==============================] - 0s 25ms/step\n",
      "1/1 [==============================] - 0s 25ms/step\n",
      "1/1 [==============================] - 0s 24ms/step\n",
      "surah26_part1.mp3 Nahawand\n",
      "MoviePy - Writing audio in temporary/clip1.mp3\n"
     ]
    },
    {
     "name": "stderr",
     "output_type": "stream",
     "text": [
      "                                                                                                                \r"
     ]
    },
    {
     "name": "stdout",
     "output_type": "stream",
     "text": [
      "MoviePy - Done.\n",
      "MoviePy - Writing audio in temporary/clip2.mp3\n"
     ]
    },
    {
     "name": "stderr",
     "output_type": "stream",
     "text": [
      "                                                                                                                \r"
     ]
    },
    {
     "name": "stdout",
     "output_type": "stream",
     "text": [
      "MoviePy - Done.\n",
      "this is self.computed: <class 'numpy.ndarray'>\n",
      "[-1.0209904e-02 -1.3667893e-02 -1.1891747e-02 ... -3.9247563e-05\n",
      " -1.0461095e-03 -1.4206263e-03]\n",
      "this is self.computed: <class 'numpy.ndarray'>\n",
      "[ 0.          0.          0.         ... -0.01628248 -0.01779297\n",
      " -0.01362148]\n",
      "1/1 [==============================] - 0s 210ms/step\n",
      "1/1 [==============================] - 0s 25ms/step\n",
      "surah108_part1.mp3 Bayat\n",
      "MoviePy - Writing audio in temporary/clip1.mp3\n"
     ]
    },
    {
     "name": "stderr",
     "output_type": "stream",
     "text": [
      "                                                                                                                \r"
     ]
    },
    {
     "name": "stdout",
     "output_type": "stream",
     "text": [
      "MoviePy - Done.\n",
      "MoviePy - Writing audio in temporary/clip2.mp3\n"
     ]
    },
    {
     "name": "stderr",
     "output_type": "stream",
     "text": [
      "                                                                                                                \r"
     ]
    },
    {
     "name": "stdout",
     "output_type": "stream",
     "text": [
      "MoviePy - Done.\n",
      "MoviePy - Writing audio in temporary/clip3.mp3\n"
     ]
    },
    {
     "name": "stderr",
     "output_type": "stream",
     "text": [
      "                                                                                                                \r"
     ]
    },
    {
     "name": "stdout",
     "output_type": "stream",
     "text": [
      "MoviePy - Done.\n",
      "MoviePy - Writing audio in temporary/clip4.mp3\n"
     ]
    },
    {
     "name": "stderr",
     "output_type": "stream",
     "text": [
      "                                                                                                                \r"
     ]
    },
    {
     "name": "stdout",
     "output_type": "stream",
     "text": [
      "MoviePy - Done.\n",
      "MoviePy - Writing audio in temporary/clip5.mp3\n"
     ]
    },
    {
     "name": "stderr",
     "output_type": "stream",
     "text": [
      "                                                                                                                \r"
     ]
    },
    {
     "name": "stdout",
     "output_type": "stream",
     "text": [
      "MoviePy - Done.\n",
      "MoviePy - Writing audio in temporary/clip6.mp3\n"
     ]
    },
    {
     "name": "stderr",
     "output_type": "stream",
     "text": [
      "                                                                                                                \r"
     ]
    },
    {
     "name": "stdout",
     "output_type": "stream",
     "text": [
      "MoviePy - Done.\n",
      "MoviePy - Writing audio in temporary/clip7.mp3\n"
     ]
    },
    {
     "name": "stderr",
     "output_type": "stream",
     "text": [
      "                                                                                                                \r"
     ]
    },
    {
     "name": "stdout",
     "output_type": "stream",
     "text": [
      "MoviePy - Done.\n",
      "MoviePy - Writing audio in temporary/clip8.mp3\n"
     ]
    },
    {
     "name": "stderr",
     "output_type": "stream",
     "text": [
      "                                                                                                                \r"
     ]
    },
    {
     "name": "stdout",
     "output_type": "stream",
     "text": [
      "MoviePy - Done.\n",
      "MoviePy - Writing audio in temporary/clip9.mp3\n"
     ]
    },
    {
     "name": "stderr",
     "output_type": "stream",
     "text": [
      "                                                                                                                \r"
     ]
    },
    {
     "name": "stdout",
     "output_type": "stream",
     "text": [
      "MoviePy - Done.\n",
      "MoviePy - Writing audio in temporary/clip10.mp3\n"
     ]
    },
    {
     "name": "stderr",
     "output_type": "stream",
     "text": [
      "                                                                                                                \r"
     ]
    },
    {
     "name": "stdout",
     "output_type": "stream",
     "text": [
      "MoviePy - Done.\n",
      "MoviePy - Writing audio in temporary/clip11.mp3\n"
     ]
    },
    {
     "name": "stderr",
     "output_type": "stream",
     "text": [
      "                                                                                                                \r"
     ]
    },
    {
     "name": "stdout",
     "output_type": "stream",
     "text": [
      "MoviePy - Done.\n",
      "MoviePy - Writing audio in temporary/clip12.mp3\n"
     ]
    },
    {
     "name": "stderr",
     "output_type": "stream",
     "text": [
      "                                                                                                                \r"
     ]
    },
    {
     "name": "stdout",
     "output_type": "stream",
     "text": [
      "MoviePy - Done.\n",
      "this is self.computed: <class 'numpy.ndarray'>\n",
      "[ 0.02084218  0.02559822  0.01950153 ... -0.26234913 -0.3534273\n",
      " -0.29641312]\n",
      "this is self.computed: <class 'numpy.ndarray'>\n",
      "[-0.33898115 -0.46490374 -0.4629697  ...  0.01268268  0.01790302\n",
      "  0.01577155]\n",
      "this is self.computed: <class 'numpy.ndarray'>\n",
      "[-0.05658241 -0.07487439 -0.06615841 ...  0.36125192  0.4161222\n",
      "  0.31975114]\n",
      "this is self.computed: <class 'numpy.ndarray'>\n",
      "[0.25730544 0.32884258 0.3065158  ... 0.0037708  0.01360233 0.01603259]\n",
      "this is self.computed: <class 'numpy.ndarray'>\n",
      "[-0.22483149 -0.31791693 -0.30717397 ...  0.17202389  0.16148978\n",
      "  0.11001764]\n",
      "this is self.computed: <class 'numpy.ndarray'>\n",
      "[0.32170504 0.40987796 0.3874731  ... 0.         0.         0.        ]\n",
      "this is self.computed: <class 'numpy.ndarray'>\n",
      "[ 0.01663172  0.02244336  0.02224056 ... -0.13338435 -0.17844518\n",
      " -0.15274018]\n",
      "this is self.computed: <class 'numpy.ndarray'>\n",
      "[0. 0. 0. ... 0. 0. 0.]\n",
      "this is self.computed: <class 'numpy.ndarray'>\n",
      "[-0.04933202 -0.06397398 -0.04359631 ... -0.17899159 -0.2468909\n",
      " -0.20717299]\n",
      "this is self.computed: <class 'numpy.ndarray'>\n",
      "[-0.18454766 -0.21712957 -0.19624427 ... -0.04153702 -0.05929331\n",
      " -0.05004867]\n",
      "this is self.computed: <class 'numpy.ndarray'>\n",
      "[0.10618019 0.11341558 0.08012345 ... 0.15494421 0.24765728 0.22944255]\n",
      "this is self.computed: <class 'numpy.ndarray'>\n",
      "[-0.14752051 -0.19713409 -0.19623312 ... -0.07842278 -0.13891673\n",
      " -0.12313607]\n",
      "1/1 [==============================] - 0s 218ms/step\n",
      "1/1 [==============================] - 0s 24ms/step\n",
      "1/1 [==============================] - 0s 24ms/step\n",
      "1/1 [==============================] - 0s 26ms/step\n",
      "1/1 [==============================] - 0s 25ms/step\n",
      "1/1 [==============================] - 0s 25ms/step\n",
      "1/1 [==============================] - 0s 25ms/step\n",
      "1/1 [==============================] - 0s 24ms/step\n",
      "1/1 [==============================] - 0s 24ms/step\n",
      "1/1 [==============================] - 0s 25ms/step\n",
      "1/1 [==============================] - 0s 26ms/step\n",
      "1/1 [==============================] - 0s 25ms/step\n",
      "surah28_part6.mp3 Bayat\n",
      "MoviePy - Writing audio in temporary/clip1.mp3\n"
     ]
    },
    {
     "name": "stderr",
     "output_type": "stream",
     "text": [
      "                                                                                                                \r"
     ]
    },
    {
     "name": "stdout",
     "output_type": "stream",
     "text": [
      "MoviePy - Done.\n",
      "MoviePy - Writing audio in temporary/clip2.mp3\n"
     ]
    },
    {
     "name": "stderr",
     "output_type": "stream",
     "text": [
      "                                                                                                                \r"
     ]
    },
    {
     "name": "stdout",
     "output_type": "stream",
     "text": [
      "MoviePy - Done.\n",
      "MoviePy - Writing audio in temporary/clip3.mp3\n"
     ]
    },
    {
     "name": "stderr",
     "output_type": "stream",
     "text": [
      "                                                                                                                \r"
     ]
    },
    {
     "name": "stdout",
     "output_type": "stream",
     "text": [
      "MoviePy - Done.\n",
      "MoviePy - Writing audio in temporary/clip4.mp3\n"
     ]
    },
    {
     "name": "stderr",
     "output_type": "stream",
     "text": [
      "                                                                                                                \r"
     ]
    },
    {
     "name": "stdout",
     "output_type": "stream",
     "text": [
      "MoviePy - Done.\n",
      "this is self.computed: <class 'numpy.ndarray'>\n",
      "[-0.00041528 -0.00047754 -0.00033803 ... -0.1003259  -0.10375572\n",
      " -0.07610327]\n",
      "this is self.computed: <class 'numpy.ndarray'>\n",
      "[-0.13087988 -0.17084701 -0.12475334 ...  0.02107394  0.01580506\n",
      "  0.00867486]\n",
      "this is self.computed: <class 'numpy.ndarray'>\n",
      "[-0.15503412 -0.21371983 -0.16563238 ... -0.14620015 -0.16899645\n",
      " -0.1318897 ]\n",
      "this is self.computed: <class 'numpy.ndarray'>\n",
      "[ 0.00391652  0.00097688 -0.00416709 ... -0.0009609  -0.00097452\n",
      " -0.00069131]\n",
      "1/1 [==============================] - 0s 209ms/step\n",
      "1/1 [==============================] - 0s 25ms/step\n",
      "1/1 [==============================] - 0s 25ms/step\n",
      "1/1 [==============================] - 0s 26ms/step\n",
      "surah9_part13.mp3 Ajam\n",
      "MoviePy - Writing audio in temporary/clip1.mp3\n"
     ]
    },
    {
     "name": "stderr",
     "output_type": "stream",
     "text": [
      "                                                                                                                \r"
     ]
    },
    {
     "name": "stdout",
     "output_type": "stream",
     "text": [
      "MoviePy - Done.\n",
      "MoviePy - Writing audio in temporary/clip2.mp3\n"
     ]
    },
    {
     "name": "stderr",
     "output_type": "stream",
     "text": [
      "                                                                                                                \r"
     ]
    },
    {
     "name": "stdout",
     "output_type": "stream",
     "text": [
      "MoviePy - Done.\n",
      "MoviePy - Writing audio in temporary/clip3.mp3\n"
     ]
    },
    {
     "name": "stderr",
     "output_type": "stream",
     "text": [
      "                                                                                                                \r"
     ]
    },
    {
     "name": "stdout",
     "output_type": "stream",
     "text": [
      "MoviePy - Done.\n",
      "this is self.computed: <class 'numpy.ndarray'>\n",
      "[-0.03946983 -0.07242177 -0.09793064 ...  0.12998942  0.13216983\n",
      "  0.09519139]\n",
      "this is self.computed: <class 'numpy.ndarray'>\n",
      "[ 0.16419953  0.24650681  0.21098813 ...  0.0069126  -0.00780391\n",
      " -0.01699217]\n",
      "this is self.computed: <class 'numpy.ndarray'>\n",
      "[0.09000707 0.10090378 0.06890361 ... 0.14388537 0.15434064 0.11808237]\n",
      "1/1 [==============================] - 0s 210ms/step\n",
      "1/1 [==============================] - 0s 27ms/step\n",
      "1/1 [==============================] - 0s 25ms/step\n",
      "surah83_part2.mp3 Ajam\n",
      "MoviePy - Writing audio in temporary/clip1.mp3\n"
     ]
    },
    {
     "name": "stderr",
     "output_type": "stream",
     "text": [
      "                                                                                                                \r"
     ]
    },
    {
     "name": "stdout",
     "output_type": "stream",
     "text": [
      "MoviePy - Done.\n",
      "MoviePy - Writing audio in temporary/clip2.mp3\n"
     ]
    },
    {
     "name": "stderr",
     "output_type": "stream",
     "text": [
      "                                                                                                                \r"
     ]
    },
    {
     "name": "stdout",
     "output_type": "stream",
     "text": [
      "MoviePy - Done.\n",
      "MoviePy - Writing audio in temporary/clip3.mp3\n"
     ]
    },
    {
     "name": "stderr",
     "output_type": "stream",
     "text": [
      "                                                                                                                \r"
     ]
    },
    {
     "name": "stdout",
     "output_type": "stream",
     "text": [
      "MoviePy - Done.\n",
      "MoviePy - Writing audio in temporary/clip4.mp3\n"
     ]
    },
    {
     "name": "stderr",
     "output_type": "stream",
     "text": [
      "                                                                                                                \r"
     ]
    },
    {
     "name": "stdout",
     "output_type": "stream",
     "text": [
      "MoviePy - Done.\n",
      "MoviePy - Writing audio in temporary/clip5.mp3\n"
     ]
    },
    {
     "name": "stderr",
     "output_type": "stream",
     "text": [
      "                                                                                                                \r"
     ]
    },
    {
     "name": "stdout",
     "output_type": "stream",
     "text": [
      "MoviePy - Done.\n",
      "MoviePy - Writing audio in temporary/clip6.mp3\n"
     ]
    },
    {
     "name": "stderr",
     "output_type": "stream",
     "text": [
      "                                                                                                                \r"
     ]
    },
    {
     "name": "stdout",
     "output_type": "stream",
     "text": [
      "MoviePy - Done.\n",
      "MoviePy - Writing audio in temporary/clip7.mp3\n"
     ]
    },
    {
     "name": "stderr",
     "output_type": "stream",
     "text": [
      "                                                                                                                \r"
     ]
    },
    {
     "name": "stdout",
     "output_type": "stream",
     "text": [
      "MoviePy - Done.\n",
      "MoviePy - Writing audio in temporary/clip8.mp3\n"
     ]
    },
    {
     "name": "stderr",
     "output_type": "stream",
     "text": [
      "                                                                                                                \r"
     ]
    },
    {
     "name": "stdout",
     "output_type": "stream",
     "text": [
      "MoviePy - Done.\n",
      "MoviePy - Writing audio in temporary/clip9.mp3\n"
     ]
    },
    {
     "name": "stderr",
     "output_type": "stream",
     "text": [
      "                                                                                                                \r"
     ]
    },
    {
     "name": "stdout",
     "output_type": "stream",
     "text": [
      "MoviePy - Done.\n",
      "MoviePy - Writing audio in temporary/clip10.mp3\n"
     ]
    },
    {
     "name": "stderr",
     "output_type": "stream",
     "text": [
      "                                                                                                                \r"
     ]
    },
    {
     "name": "stdout",
     "output_type": "stream",
     "text": [
      "MoviePy - Done.\n",
      "MoviePy - Writing audio in temporary/clip11.mp3\n"
     ]
    },
    {
     "name": "stderr",
     "output_type": "stream",
     "text": [
      "                                                                                                                \r"
     ]
    },
    {
     "name": "stdout",
     "output_type": "stream",
     "text": [
      "MoviePy - Done.\n",
      "MoviePy - Writing audio in temporary/clip12.mp3\n"
     ]
    },
    {
     "name": "stderr",
     "output_type": "stream",
     "text": [
      "                                                                                                                \r"
     ]
    },
    {
     "name": "stdout",
     "output_type": "stream",
     "text": [
      "MoviePy - Done.\n",
      "MoviePy - Writing audio in temporary/clip13.mp3\n"
     ]
    },
    {
     "name": "stderr",
     "output_type": "stream",
     "text": [
      "                                                                                                                \r"
     ]
    },
    {
     "name": "stdout",
     "output_type": "stream",
     "text": [
      "MoviePy - Done.\n",
      "MoviePy - Writing audio in temporary/clip14.mp3\n"
     ]
    },
    {
     "name": "stderr",
     "output_type": "stream",
     "text": [
      "                                                                                                                \r"
     ]
    },
    {
     "name": "stdout",
     "output_type": "stream",
     "text": [
      "MoviePy - Done.\n",
      "MoviePy - Writing audio in temporary/clip15.mp3\n"
     ]
    },
    {
     "name": "stderr",
     "output_type": "stream",
     "text": [
      "                                                                                                                \r"
     ]
    },
    {
     "name": "stdout",
     "output_type": "stream",
     "text": [
      "MoviePy - Done.\n",
      "MoviePy - Writing audio in temporary/clip16.mp3\n"
     ]
    },
    {
     "name": "stderr",
     "output_type": "stream",
     "text": [
      "                                                                                                                \r"
     ]
    },
    {
     "name": "stdout",
     "output_type": "stream",
     "text": [
      "MoviePy - Done.\n",
      "this is self.computed: <class 'numpy.ndarray'>\n",
      "[-0.05491371 -0.06916804 -0.05707725 ...  0.26214957  0.35536444\n",
      "  0.31558776]\n",
      "this is self.computed: <class 'numpy.ndarray'>\n",
      "[0.31551975 0.4607588  0.4016056  ... 0.07280457 0.07850903 0.05988132]\n",
      "this is self.computed: <class 'numpy.ndarray'>\n",
      "[0.1256817  0.1586785  0.12788266 ... 0.47268632 0.5522973  0.42057166]\n",
      "this is self.computed: <class 'numpy.ndarray'>\n",
      "[-0.01812354 -0.02559193 -0.02567644 ...  0.          0.\n",
      "  0.        ]\n",
      "this is self.computed: <class 'numpy.ndarray'>\n",
      "[-0.00887518 -0.01046823 -0.00274212 ... -0.04786814 -0.05843511\n",
      " -0.04898699]\n",
      "this is self.computed: <class 'numpy.ndarray'>\n",
      "[ 0.23505265  0.33619127  0.32084244 ... -0.07751551 -0.09781574\n",
      " -0.07880786]\n",
      "this is self.computed: <class 'numpy.ndarray'>\n",
      "[0.41983333 0.5471649  0.45513546 ... 0.03256062 0.03581723 0.02750043]\n",
      "this is self.computed: <class 'numpy.ndarray'>\n",
      "[0.05748455 0.06331475 0.05240721 ... 0.11935399 0.14174214 0.11275387]\n",
      "this is self.computed: <class 'numpy.ndarray'>\n",
      "[ 0.0252335   0.03427499  0.02865199 ... -0.05255027 -0.06438235\n",
      " -0.0513104 ]\n",
      "this is self.computed: <class 'numpy.ndarray'>\n",
      "[-0.04507814 -0.05879726 -0.05703648 ...  0.02321135  0.02098821\n",
      "  0.01339686]\n",
      "this is self.computed: <class 'numpy.ndarray'>\n",
      "[0.         0.         0.         ... 0.22654091 0.28983268 0.23172596]\n",
      "this is self.computed: <class 'numpy.ndarray'>\n",
      "[ 0.00583174  0.01112088  0.00839183 ... -0.03271554 -0.03382263\n",
      " -0.02543757]\n",
      "this is self.computed: <class 'numpy.ndarray'>\n",
      "[0.12196945 0.15181944 0.12937708 ... 0.14609131 0.16690066 0.12633048]\n",
      "this is self.computed: <class 'numpy.ndarray'>\n",
      "[-0.06521183 -0.10306884 -0.11302476 ... -0.01867354 -0.02027334\n",
      " -0.01277539]\n",
      "this is self.computed: <class 'numpy.ndarray'>\n",
      "[0. 0. 0. ... 0. 0. 0.]\n",
      "this is self.computed: <class 'numpy.ndarray'>\n",
      "[0.09005738 0.1065442  0.08470106 ... 0.11986871 0.16116135 0.13244392]\n",
      "1/1 [==============================] - 0s 233ms/step\n",
      "1/1 [==============================] - 0s 28ms/step\n",
      "1/1 [==============================] - 0s 25ms/step\n",
      "1/1 [==============================] - 0s 24ms/step\n",
      "1/1 [==============================] - 0s 27ms/step\n",
      "1/1 [==============================] - 0s 25ms/step\n",
      "1/1 [==============================] - 0s 24ms/step\n",
      "1/1 [==============================] - 0s 24ms/step\n",
      "1/1 [==============================] - 0s 27ms/step\n",
      "1/1 [==============================] - 0s 26ms/step\n",
      "1/1 [==============================] - 0s 25ms/step\n",
      "1/1 [==============================] - 0s 25ms/step\n",
      "1/1 [==============================] - 0s 24ms/step\n",
      "1/1 [==============================] - 0s 24ms/step\n",
      "1/1 [==============================] - 0s 26ms/step\n",
      "1/1 [==============================] - 0s 24ms/step\n",
      "surah67_part1.mp3 Ajam\n",
      "MoviePy - Writing audio in temporary/clip1.mp3\n"
     ]
    },
    {
     "name": "stderr",
     "output_type": "stream",
     "text": [
      "                                                                                                                \r"
     ]
    },
    {
     "name": "stdout",
     "output_type": "stream",
     "text": [
      "MoviePy - Done.\n",
      "MoviePy - Writing audio in temporary/clip2.mp3\n"
     ]
    },
    {
     "name": "stderr",
     "output_type": "stream",
     "text": [
      "                                                                                                                \r"
     ]
    },
    {
     "name": "stdout",
     "output_type": "stream",
     "text": [
      "MoviePy - Done.\n",
      "MoviePy - Writing audio in temporary/clip3.mp3\n"
     ]
    },
    {
     "name": "stderr",
     "output_type": "stream",
     "text": [
      "                                                                                                                \r"
     ]
    },
    {
     "name": "stdout",
     "output_type": "stream",
     "text": [
      "MoviePy - Done.\n",
      "this is self.computed: <class 'numpy.ndarray'>\n",
      "[-0.08555376 -0.10860553 -0.09400996 ... -0.17776349 -0.19474068\n",
      " -0.14537269]\n",
      "this is self.computed: <class 'numpy.ndarray'>\n",
      "[-0.01209445 -0.01873068 -0.01830474 ... -0.10982399 -0.11687548\n",
      " -0.08771275]\n",
      "this is self.computed: <class 'numpy.ndarray'>\n",
      "[-0.14283146 -0.16084379 -0.08832495 ... -0.12330124 -0.13492268\n",
      " -0.10295567]\n",
      "1/1 [==============================] - 0s 209ms/step\n",
      "1/1 [==============================] - 0s 26ms/step\n",
      "1/1 [==============================] - 0s 25ms/step\n",
      "surah2_part8.mp3 Hejaz\n",
      "MoviePy - Writing audio in temporary/clip1.mp3\n"
     ]
    },
    {
     "name": "stderr",
     "output_type": "stream",
     "text": [
      "                                                                                                                \r"
     ]
    },
    {
     "name": "stdout",
     "output_type": "stream",
     "text": [
      "MoviePy - Done.\n",
      "MoviePy - Writing audio in temporary/clip2.mp3\n"
     ]
    },
    {
     "name": "stderr",
     "output_type": "stream",
     "text": [
      "                                                                                                                \r"
     ]
    },
    {
     "name": "stdout",
     "output_type": "stream",
     "text": [
      "MoviePy - Done.\n",
      "MoviePy - Writing audio in temporary/clip3.mp3\n"
     ]
    },
    {
     "name": "stderr",
     "output_type": "stream",
     "text": [
      "                                                                                                                \r"
     ]
    },
    {
     "name": "stdout",
     "output_type": "stream",
     "text": [
      "MoviePy - Done.\n",
      "MoviePy - Writing audio in temporary/clip4.mp3\n"
     ]
    },
    {
     "name": "stderr",
     "output_type": "stream",
     "text": [
      "                                                                                                                \r"
     ]
    },
    {
     "name": "stdout",
     "output_type": "stream",
     "text": [
      "MoviePy - Done.\n",
      "MoviePy - Writing audio in temporary/clip5.mp3\n"
     ]
    },
    {
     "name": "stderr",
     "output_type": "stream",
     "text": [
      "                                                                                                                \r"
     ]
    },
    {
     "name": "stdout",
     "output_type": "stream",
     "text": [
      "MoviePy - Done.\n",
      "MoviePy - Writing audio in temporary/clip6.mp3\n"
     ]
    },
    {
     "name": "stderr",
     "output_type": "stream",
     "text": [
      "                                                                                                                \r"
     ]
    },
    {
     "name": "stdout",
     "output_type": "stream",
     "text": [
      "MoviePy - Done.\n",
      "MoviePy - Writing audio in temporary/clip7.mp3\n"
     ]
    },
    {
     "name": "stderr",
     "output_type": "stream",
     "text": [
      "                                                                                                                \r"
     ]
    },
    {
     "name": "stdout",
     "output_type": "stream",
     "text": [
      "MoviePy - Done.\n",
      "MoviePy - Writing audio in temporary/clip8.mp3\n"
     ]
    },
    {
     "name": "stderr",
     "output_type": "stream",
     "text": [
      "                                                                                                                \r"
     ]
    },
    {
     "name": "stdout",
     "output_type": "stream",
     "text": [
      "MoviePy - Done.\n",
      "MoviePy - Writing audio in temporary/clip9.mp3\n"
     ]
    },
    {
     "name": "stderr",
     "output_type": "stream",
     "text": [
      "                                                                                                                \r"
     ]
    },
    {
     "name": "stdout",
     "output_type": "stream",
     "text": [
      "MoviePy - Done.\n",
      "MoviePy - Writing audio in temporary/clip10.mp3\n"
     ]
    },
    {
     "name": "stderr",
     "output_type": "stream",
     "text": [
      "                                                                                                                \r"
     ]
    },
    {
     "name": "stdout",
     "output_type": "stream",
     "text": [
      "MoviePy - Done.\n",
      "this is self.computed: <class 'numpy.ndarray'>\n",
      "[0.28072658 0.36379173 0.31390405 ... 0.02414966 0.01396294 0.00468172]\n",
      "this is self.computed: <class 'numpy.ndarray'>\n",
      "[-0.00630225 -0.01440404 -0.02417523 ...  0.0861358   0.09240793\n",
      "  0.0690318 ]\n",
      "this is self.computed: <class 'numpy.ndarray'>\n",
      "[0. 0. 0. ... 0. 0. 0.]\n",
      "this is self.computed: <class 'numpy.ndarray'>\n",
      "[0.03381455 0.03658424 0.02702602 ... 0.35988098 0.42281392 0.32491356]\n",
      "this is self.computed: <class 'numpy.ndarray'>\n",
      "[-0.12315462 -0.15238942 -0.12334564 ...  0.31557912  0.36297175\n",
      "  0.2804867 ]\n",
      "this is self.computed: <class 'numpy.ndarray'>\n",
      "[0.05651995 0.07923905 0.07873072 ... 0.32022494 0.33959073 0.24683675]\n",
      "this is self.computed: <class 'numpy.ndarray'>\n",
      "[ 0.21124643  0.28459948  0.27650917 ... -0.12483527 -0.15359068\n",
      " -0.12184751]\n",
      "this is self.computed: <class 'numpy.ndarray'>\n",
      "[-0.06311677 -0.0788058  -0.0657249  ...  0.          0.\n",
      "  0.        ]\n",
      "this is self.computed: <class 'numpy.ndarray'>\n",
      "[0.28335688 0.3469174  0.3065825  ... 0.05080707 0.0583296  0.04340485]\n",
      "this is self.computed: <class 'numpy.ndarray'>\n",
      "[ 0.21851718  0.25816685  0.2147854  ... -0.07955046 -0.08693995\n",
      " -0.06656615]\n",
      "1/1 [==============================] - 0s 212ms/step\n",
      "1/1 [==============================] - 0s 25ms/step\n",
      "1/1 [==============================] - 0s 24ms/step\n",
      "1/1 [==============================] - 0s 25ms/step\n",
      "1/1 [==============================] - 0s 24ms/step\n",
      "1/1 [==============================] - 0s 24ms/step\n",
      "1/1 [==============================] - 0s 25ms/step\n",
      "1/1 [==============================] - 0s 26ms/step\n",
      "1/1 [==============================] - 0s 26ms/step\n",
      "1/1 [==============================] - 0s 26ms/step\n",
      "surah52_part2.mp3 Seekah\n",
      "MoviePy - Writing audio in temporary/clip1.mp3\n"
     ]
    },
    {
     "name": "stderr",
     "output_type": "stream",
     "text": [
      "                                                                                                                \r"
     ]
    },
    {
     "name": "stdout",
     "output_type": "stream",
     "text": [
      "MoviePy - Done.\n",
      "MoviePy - Writing audio in temporary/clip2.mp3\n"
     ]
    },
    {
     "name": "stderr",
     "output_type": "stream",
     "text": [
      "                                                                                                                \r"
     ]
    },
    {
     "name": "stdout",
     "output_type": "stream",
     "text": [
      "MoviePy - Done.\n",
      "MoviePy - Writing audio in temporary/clip3.mp3\n"
     ]
    },
    {
     "name": "stderr",
     "output_type": "stream",
     "text": [
      "                                                                                                                \r"
     ]
    },
    {
     "name": "stdout",
     "output_type": "stream",
     "text": [
      "MoviePy - Done.\n",
      "MoviePy - Writing audio in temporary/clip4.mp3\n"
     ]
    },
    {
     "name": "stderr",
     "output_type": "stream",
     "text": [
      "                                                                                                                \r"
     ]
    },
    {
     "name": "stdout",
     "output_type": "stream",
     "text": [
      "MoviePy - Done.\n",
      "MoviePy - Writing audio in temporary/clip5.mp3\n"
     ]
    },
    {
     "name": "stderr",
     "output_type": "stream",
     "text": [
      "                                                                                                                \r"
     ]
    },
    {
     "name": "stdout",
     "output_type": "stream",
     "text": [
      "MoviePy - Done.\n",
      "MoviePy - Writing audio in temporary/clip6.mp3\n"
     ]
    },
    {
     "name": "stderr",
     "output_type": "stream",
     "text": [
      "                                                                                                                \r"
     ]
    },
    {
     "name": "stdout",
     "output_type": "stream",
     "text": [
      "MoviePy - Done.\n",
      "MoviePy - Writing audio in temporary/clip7.mp3\n"
     ]
    },
    {
     "name": "stderr",
     "output_type": "stream",
     "text": [
      "                                                                                                                \r"
     ]
    },
    {
     "name": "stdout",
     "output_type": "stream",
     "text": [
      "MoviePy - Done.\n",
      "MoviePy - Writing audio in temporary/clip8.mp3\n"
     ]
    },
    {
     "name": "stderr",
     "output_type": "stream",
     "text": [
      "                                                                                                                \r"
     ]
    },
    {
     "name": "stdout",
     "output_type": "stream",
     "text": [
      "MoviePy - Done.\n",
      "MoviePy - Writing audio in temporary/clip9.mp3\n"
     ]
    },
    {
     "name": "stderr",
     "output_type": "stream",
     "text": [
      "                                                                                                                \r"
     ]
    },
    {
     "name": "stdout",
     "output_type": "stream",
     "text": [
      "MoviePy - Done.\n",
      "MoviePy - Writing audio in temporary/clip10.mp3\n"
     ]
    },
    {
     "name": "stderr",
     "output_type": "stream",
     "text": [
      "                                                                                                                \r"
     ]
    },
    {
     "name": "stdout",
     "output_type": "stream",
     "text": [
      "MoviePy - Done.\n",
      "MoviePy - Writing audio in temporary/clip11.mp3\n"
     ]
    },
    {
     "name": "stderr",
     "output_type": "stream",
     "text": [
      "                                                                                                                \r"
     ]
    },
    {
     "name": "stdout",
     "output_type": "stream",
     "text": [
      "MoviePy - Done.\n",
      "MoviePy - Writing audio in temporary/clip12.mp3\n"
     ]
    },
    {
     "name": "stderr",
     "output_type": "stream",
     "text": [
      "                                                                                                                \r"
     ]
    },
    {
     "name": "stdout",
     "output_type": "stream",
     "text": [
      "MoviePy - Done.\n",
      "MoviePy - Writing audio in temporary/clip13.mp3\n"
     ]
    },
    {
     "name": "stderr",
     "output_type": "stream",
     "text": [
      "                                                                                                                \r"
     ]
    },
    {
     "name": "stdout",
     "output_type": "stream",
     "text": [
      "MoviePy - Done.\n",
      "MoviePy - Writing audio in temporary/clip14.mp3\n"
     ]
    },
    {
     "name": "stderr",
     "output_type": "stream",
     "text": [
      "                                                                                                                \r"
     ]
    },
    {
     "name": "stdout",
     "output_type": "stream",
     "text": [
      "MoviePy - Done.\n",
      "MoviePy - Writing audio in temporary/clip15.mp3\n"
     ]
    },
    {
     "name": "stderr",
     "output_type": "stream",
     "text": [
      "                                                                                                                \r"
     ]
    },
    {
     "name": "stdout",
     "output_type": "stream",
     "text": [
      "MoviePy - Done.\n",
      "MoviePy - Writing audio in temporary/clip16.mp3\n"
     ]
    },
    {
     "name": "stderr",
     "output_type": "stream",
     "text": [
      "                                                                                                                \r"
     ]
    },
    {
     "name": "stdout",
     "output_type": "stream",
     "text": [
      "MoviePy - Done.\n",
      "MoviePy - Writing audio in temporary/clip17.mp3\n"
     ]
    },
    {
     "name": "stderr",
     "output_type": "stream",
     "text": [
      "                                                                                                                \r"
     ]
    },
    {
     "name": "stdout",
     "output_type": "stream",
     "text": [
      "MoviePy - Done.\n",
      "this is self.computed: <class 'numpy.ndarray'>\n",
      "[-0.00216065 -0.00362369 -0.00534846 ...  0.44692406  0.57933307\n",
      "  0.47595817]\n",
      "this is self.computed: <class 'numpy.ndarray'>\n",
      "[ 5.1553601e-01  7.2769934e-01  6.1311030e-01 ... -2.0197483e-03\n",
      " -1.0174066e-03 -1.4837133e-04]\n",
      "this is self.computed: <class 'numpy.ndarray'>\n",
      "[-0.40654027 -0.5136803  -0.43023145 ... -0.16914594 -0.19495693\n",
      " -0.14662047]\n",
      "this is self.computed: <class 'numpy.ndarray'>\n",
      "[ 0.3198893   0.41983873  0.35865766 ... -0.00918556 -0.01448967\n",
      " -0.01210169]\n",
      "this is self.computed: <class 'numpy.ndarray'>\n",
      "[-0.05152501 -0.07525701 -0.07925354 ...  0.0004097  -0.00076385\n",
      " -0.00118155]\n",
      "this is self.computed: <class 'numpy.ndarray'>\n",
      "[0.0987293  0.10421694 0.08440435 ... 0.13007504 0.13226075 0.09130599]\n",
      "this is self.computed: <class 'numpy.ndarray'>\n",
      "[-0.12424714 -0.15261066 -0.12303702 ... -0.00313453 -0.00362097\n",
      " -0.00314306]\n",
      "this is self.computed: <class 'numpy.ndarray'>\n",
      "[ 0.00044869  0.00125632  0.00236051 ... -0.00324672 -0.01152532\n",
      " -0.01261356]\n",
      "this is self.computed: <class 'numpy.ndarray'>\n",
      "[-0.0037984  -0.00615063 -0.00561153 ... -0.07597968 -0.08107869\n",
      " -0.05890653]\n",
      "this is self.computed: <class 'numpy.ndarray'>\n",
      "[-0.05101734 -0.05917214 -0.0549641  ...  0.02940858  0.03226651\n",
      "  0.02254511]\n",
      "this is self.computed: <class 'numpy.ndarray'>\n",
      "[0.         0.         0.         ... 0.19167593 0.19681679 0.13257013]\n",
      "this is self.computed: <class 'numpy.ndarray'>\n",
      "[0.02320117 0.03893015 0.0529331  ... 0.34589514 0.40182588 0.31219456]\n",
      "this is self.computed: <class 'numpy.ndarray'>\n",
      "[0.08850835 0.11396389 0.0757017  ... 0.00318549 0.00428593 0.00312189]\n",
      "this is self.computed: <class 'numpy.ndarray'>\n",
      "[ 0.13445091  0.17170167  0.15578642 ... -0.4935547  -0.549062\n",
      " -0.41391692]\n",
      "this is self.computed: <class 'numpy.ndarray'>\n",
      "[ 0.09975319  0.09598064  0.06564285 ... -0.05211294 -0.0679851\n",
      " -0.05530519]\n",
      "this is self.computed: <class 'numpy.ndarray'>\n",
      "[-0.01802124 -0.02130235 -0.01842987 ...  0.15652658  0.16921926\n",
      "  0.1257056 ]\n",
      "this is self.computed: <class 'numpy.ndarray'>\n",
      "[-0.01660167 -0.02000597 -0.01583154 ...  0.15529214  0.17549238\n",
      "  0.13649544]\n",
      "1/1 [==============================] - 0s 210ms/step\n",
      "1/1 [==============================] - 0s 27ms/step\n",
      "1/1 [==============================] - 0s 29ms/step\n",
      "1/1 [==============================] - 0s 25ms/step\n",
      "1/1 [==============================] - 0s 25ms/step\n",
      "1/1 [==============================] - 0s 25ms/step\n",
      "1/1 [==============================] - 0s 27ms/step\n",
      "1/1 [==============================] - 0s 25ms/step\n",
      "1/1 [==============================] - 0s 24ms/step\n",
      "1/1 [==============================] - 0s 25ms/step\n",
      "1/1 [==============================] - 0s 24ms/step\n",
      "1/1 [==============================] - 0s 25ms/step\n",
      "1/1 [==============================] - 0s 24ms/step\n",
      "1/1 [==============================] - 0s 24ms/step\n",
      "1/1 [==============================] - 0s 26ms/step\n",
      "1/1 [==============================] - 0s 27ms/step\n",
      "1/1 [==============================] - 0s 28ms/step\n",
      "surah42_part1.mp3 Bayat\n",
      "MoviePy - Writing audio in temporary/clip1.mp3\n"
     ]
    },
    {
     "name": "stderr",
     "output_type": "stream",
     "text": [
      "                                                                                                                \r"
     ]
    },
    {
     "name": "stdout",
     "output_type": "stream",
     "text": [
      "MoviePy - Done.\n",
      "MoviePy - Writing audio in temporary/clip2.mp3\n"
     ]
    },
    {
     "name": "stderr",
     "output_type": "stream",
     "text": [
      "                                                                                                                \r"
     ]
    },
    {
     "name": "stdout",
     "output_type": "stream",
     "text": [
      "MoviePy - Done.\n",
      "MoviePy - Writing audio in temporary/clip3.mp3\n"
     ]
    },
    {
     "name": "stderr",
     "output_type": "stream",
     "text": [
      "                                                                                                                \r"
     ]
    },
    {
     "name": "stdout",
     "output_type": "stream",
     "text": [
      "MoviePy - Done.\n",
      "MoviePy - Writing audio in temporary/clip4.mp3\n"
     ]
    },
    {
     "name": "stderr",
     "output_type": "stream",
     "text": [
      "                                                                                                                \r"
     ]
    },
    {
     "name": "stdout",
     "output_type": "stream",
     "text": [
      "MoviePy - Done.\n",
      "MoviePy - Writing audio in temporary/clip5.mp3\n"
     ]
    },
    {
     "name": "stderr",
     "output_type": "stream",
     "text": [
      "                                                                                                                \r"
     ]
    },
    {
     "name": "stdout",
     "output_type": "stream",
     "text": [
      "MoviePy - Done.\n",
      "MoviePy - Writing audio in temporary/clip6.mp3\n"
     ]
    },
    {
     "name": "stderr",
     "output_type": "stream",
     "text": [
      "                                                                                                                \r"
     ]
    },
    {
     "name": "stdout",
     "output_type": "stream",
     "text": [
      "MoviePy - Done.\n",
      "MoviePy - Writing audio in temporary/clip7.mp3\n"
     ]
    },
    {
     "name": "stderr",
     "output_type": "stream",
     "text": [
      "                                                                                                                \r"
     ]
    },
    {
     "name": "stdout",
     "output_type": "stream",
     "text": [
      "MoviePy - Done.\n",
      "this is self.computed: <class 'numpy.ndarray'>\n",
      "[-0.0024211  -0.00656886 -0.01053433 ... -0.28527135 -0.35169142\n",
      " -0.27626973]\n",
      "this is self.computed: <class 'numpy.ndarray'>\n",
      "[-0.27082217 -0.38745928 -0.36471128 ...  0.          0.\n",
      "  0.        ]\n",
      "this is self.computed: <class 'numpy.ndarray'>\n",
      "[ 0.01399665  0.01805034  0.01643236 ...  0.00718953  0.00061376\n",
      " -0.00139162]\n",
      "this is self.computed: <class 'numpy.ndarray'>\n",
      "[0.04618796 0.07051923 0.07495917 ... 0.06223663 0.07601298 0.06047242]\n",
      "this is self.computed: <class 'numpy.ndarray'>\n",
      "[0. 0. 0. ... 0. 0. 0.]\n",
      "this is self.computed: <class 'numpy.ndarray'>\n",
      "[0.13486764 0.1839979  0.12540773 ... 0.0533964  0.06206682 0.04835211]\n",
      "this is self.computed: <class 'numpy.ndarray'>\n",
      "[0.05352807 0.07192947 0.07189193 ... 0.01803263 0.02020618 0.01573622]\n",
      "1/1 [==============================] - 1s 657ms/step\n",
      "1/1 [==============================] - 0s 34ms/step\n",
      "1/1 [==============================] - 0s 32ms/step\n",
      "1/1 [==============================] - 0s 30ms/step\n",
      "1/1 [==============================] - 0s 30ms/step\n",
      "1/1 [==============================] - 0s 29ms/step\n",
      "1/1 [==============================] - 0s 29ms/step\n",
      "surah21_part3.mp3 Seekah\n",
      "MoviePy - Writing audio in temporary/clip1.mp3\n"
     ]
    },
    {
     "name": "stderr",
     "output_type": "stream",
     "text": [
      "                                                                                                                \r"
     ]
    },
    {
     "name": "stdout",
     "output_type": "stream",
     "text": [
      "MoviePy - Done.\n",
      "MoviePy - Writing audio in temporary/clip2.mp3\n"
     ]
    },
    {
     "name": "stderr",
     "output_type": "stream",
     "text": [
      "                                                                                                                \r"
     ]
    },
    {
     "name": "stdout",
     "output_type": "stream",
     "text": [
      "MoviePy - Done.\n",
      "MoviePy - Writing audio in temporary/clip3.mp3\n"
     ]
    },
    {
     "name": "stderr",
     "output_type": "stream",
     "text": [
      "                                                                                                                \r"
     ]
    },
    {
     "name": "stdout",
     "output_type": "stream",
     "text": [
      "MoviePy - Done.\n",
      "MoviePy - Writing audio in temporary/clip4.mp3\n"
     ]
    },
    {
     "name": "stderr",
     "output_type": "stream",
     "text": [
      "                                                                                                                \r"
     ]
    },
    {
     "name": "stdout",
     "output_type": "stream",
     "text": [
      "MoviePy - Done.\n",
      "MoviePy - Writing audio in temporary/clip5.mp3\n"
     ]
    },
    {
     "name": "stderr",
     "output_type": "stream",
     "text": [
      "                                                                                                                \r"
     ]
    },
    {
     "name": "stdout",
     "output_type": "stream",
     "text": [
      "MoviePy - Done.\n",
      "MoviePy - Writing audio in temporary/clip6.mp3\n"
     ]
    },
    {
     "name": "stderr",
     "output_type": "stream",
     "text": [
      "                                                                                                                \r"
     ]
    },
    {
     "name": "stdout",
     "output_type": "stream",
     "text": [
      "MoviePy - Done.\n",
      "MoviePy - Writing audio in temporary/clip7.mp3\n"
     ]
    },
    {
     "name": "stderr",
     "output_type": "stream",
     "text": [
      "                                                                                                                \r"
     ]
    },
    {
     "name": "stdout",
     "output_type": "stream",
     "text": [
      "MoviePy - Done.\n",
      "MoviePy - Writing audio in temporary/clip8.mp3\n"
     ]
    },
    {
     "name": "stderr",
     "output_type": "stream",
     "text": [
      "                                                                                                                \r"
     ]
    },
    {
     "name": "stdout",
     "output_type": "stream",
     "text": [
      "MoviePy - Done.\n",
      "MoviePy - Writing audio in temporary/clip9.mp3\n"
     ]
    },
    {
     "name": "stderr",
     "output_type": "stream",
     "text": [
      "                                                                                                                \r"
     ]
    },
    {
     "name": "stdout",
     "output_type": "stream",
     "text": [
      "MoviePy - Done.\n",
      "MoviePy - Writing audio in temporary/clip10.mp3\n"
     ]
    },
    {
     "name": "stderr",
     "output_type": "stream",
     "text": [
      "                                                                                                                \r"
     ]
    },
    {
     "name": "stdout",
     "output_type": "stream",
     "text": [
      "MoviePy - Done.\n",
      "MoviePy - Writing audio in temporary/clip11.mp3\n"
     ]
    },
    {
     "name": "stderr",
     "output_type": "stream",
     "text": [
      "                                                                                                                \r"
     ]
    },
    {
     "name": "stdout",
     "output_type": "stream",
     "text": [
      "MoviePy - Done.\n",
      "MoviePy - Writing audio in temporary/clip12.mp3\n"
     ]
    },
    {
     "name": "stderr",
     "output_type": "stream",
     "text": [
      "                                                                                                                \r"
     ]
    },
    {
     "name": "stdout",
     "output_type": "stream",
     "text": [
      "MoviePy - Done.\n",
      "MoviePy - Writing audio in temporary/clip13.mp3\n"
     ]
    },
    {
     "name": "stderr",
     "output_type": "stream",
     "text": [
      "                                                                                                                \r"
     ]
    },
    {
     "name": "stdout",
     "output_type": "stream",
     "text": [
      "MoviePy - Done.\n",
      "this is self.computed: <class 'numpy.ndarray'>\n",
      "[-0.15774806 -0.18863815 -0.18019746 ...  0.5070808   0.60686344\n",
      "  0.47260717]\n",
      "this is self.computed: <class 'numpy.ndarray'>\n",
      "[0.4311282  0.49005353 0.42639074 ... 0.01263124 0.00828246 0.00370102]\n",
      "this is self.computed: <class 'numpy.ndarray'>\n",
      "[-0.49571764 -0.6630827  -0.61190546 ... -0.3399148  -0.37669498\n",
      " -0.29102385]\n",
      "this is self.computed: <class 'numpy.ndarray'>\n",
      "[-0.03264076 -0.04788456 -0.04973143 ... -0.1557142  -0.18834159\n",
      " -0.15289348]\n",
      "this is self.computed: <class 'numpy.ndarray'>\n",
      "[-0.0830054  -0.10558175 -0.10421436 ... -0.07180074 -0.0807647\n",
      " -0.06155416]\n",
      "this is self.computed: <class 'numpy.ndarray'>\n",
      "[-0.27676946 -0.36886263 -0.28637704 ... -0.06608444 -0.0929704\n",
      " -0.08437435]\n",
      "this is self.computed: <class 'numpy.ndarray'>\n",
      "[0.00448106 0.00742248 0.0058953  ... 0.01018541 0.00642848 0.00312457]\n",
      "this is self.computed: <class 'numpy.ndarray'>\n",
      "[-0.07553505 -0.12022091 -0.13619986 ... -0.19881418 -0.22985005\n",
      " -0.1809797 ]\n",
      "this is self.computed: <class 'numpy.ndarray'>\n",
      "[-0.16744909 -0.21722081 -0.18579572 ...  0.          0.\n",
      "  0.        ]\n",
      "this is self.computed: <class 'numpy.ndarray'>\n",
      "[-0.03348495 -0.05337628 -0.05100757 ... -0.08679812 -0.10658026\n",
      " -0.08829064]\n",
      "this is self.computed: <class 'numpy.ndarray'>\n",
      "[ 0.49395585  0.64953995  0.53134847 ... -0.5299976  -0.6184716\n",
      " -0.4949889 ]\n",
      "this is self.computed: <class 'numpy.ndarray'>\n",
      "[-0.05144944 -0.06611592 -0.05349686 ... -0.03635024 -0.04631539\n",
      " -0.03703339]\n",
      "this is self.computed: <class 'numpy.ndarray'>\n",
      "[ 0.00167404 -0.00098957 -0.00865432 ...  0.413594    0.51205075\n",
      "  0.43488008]\n",
      "1/1 [==============================] - 0s 254ms/step\n",
      "1/1 [==============================] - 0s 27ms/step\n",
      "1/1 [==============================] - 0s 27ms/step\n",
      "1/1 [==============================] - 0s 27ms/step\n",
      "1/1 [==============================] - 0s 27ms/step\n",
      "1/1 [==============================] - 0s 28ms/step\n",
      "1/1 [==============================] - 0s 28ms/step\n",
      "1/1 [==============================] - 0s 26ms/step\n",
      "1/1 [==============================] - 0s 26ms/step\n",
      "1/1 [==============================] - 0s 30ms/step\n",
      "1/1 [==============================] - 0s 29ms/step\n",
      "1/1 [==============================] - 0s 29ms/step\n",
      "1/1 [==============================] - 0s 29ms/step\n",
      "surah51_part2.mp3 Bayat\n",
      "MoviePy - Writing audio in temporary/clip1.mp3\n"
     ]
    },
    {
     "name": "stderr",
     "output_type": "stream",
     "text": [
      "                                                                                                                \r"
     ]
    },
    {
     "name": "stdout",
     "output_type": "stream",
     "text": [
      "MoviePy - Done.\n",
      "MoviePy - Writing audio in temporary/clip2.mp3\n"
     ]
    },
    {
     "name": "stderr",
     "output_type": "stream",
     "text": [
      "                                                                                                                \r"
     ]
    },
    {
     "name": "stdout",
     "output_type": "stream",
     "text": [
      "MoviePy - Done.\n",
      "MoviePy - Writing audio in temporary/clip3.mp3\n"
     ]
    },
    {
     "name": "stderr",
     "output_type": "stream",
     "text": [
      "                                                                                                                \r"
     ]
    },
    {
     "name": "stdout",
     "output_type": "stream",
     "text": [
      "MoviePy - Done.\n",
      "MoviePy - Writing audio in temporary/clip4.mp3\n"
     ]
    },
    {
     "name": "stderr",
     "output_type": "stream",
     "text": [
      "                                                                                                                \r"
     ]
    },
    {
     "name": "stdout",
     "output_type": "stream",
     "text": [
      "MoviePy - Done.\n",
      "MoviePy - Writing audio in temporary/clip5.mp3\n"
     ]
    },
    {
     "name": "stderr",
     "output_type": "stream",
     "text": [
      "                                                                                                                \r"
     ]
    },
    {
     "name": "stdout",
     "output_type": "stream",
     "text": [
      "MoviePy - Done.\n",
      "MoviePy - Writing audio in temporary/clip6.mp3\n"
     ]
    },
    {
     "name": "stderr",
     "output_type": "stream",
     "text": [
      "                                                                                                                \r"
     ]
    },
    {
     "name": "stdout",
     "output_type": "stream",
     "text": [
      "MoviePy - Done.\n",
      "this is self.computed: <class 'numpy.ndarray'>\n",
      "[-0.07946617 -0.10845972 -0.10702544 ...  0.0515666   0.17076132\n",
      "  0.18533014]\n",
      "this is self.computed: <class 'numpy.ndarray'>\n",
      "[-0.08889498 -0.12938806 -0.13717999 ...  0.16708043  0.15324013\n",
      "  0.09044071]\n",
      "this is self.computed: <class 'numpy.ndarray'>\n",
      "[ 0.05791661  0.06744832  0.04720954 ... -0.07716697 -0.0950478\n",
      " -0.07823711]\n",
      "this is self.computed: <class 'numpy.ndarray'>\n",
      "[-0.41809046 -0.5720186  -0.50628173 ... -0.0268954  -0.03034101\n",
      " -0.02245403]\n",
      "this is self.computed: <class 'numpy.ndarray'>\n",
      "[ 0.01235921  0.01870112  0.01808759 ... -0.40303683 -0.4994972\n",
      " -0.41169113]\n",
      "this is self.computed: <class 'numpy.ndarray'>\n",
      "[-0.01902586 -0.02577364 -0.02463078 ...  0.06043933  0.06982708\n",
      "  0.05607546]\n",
      "1/1 [==============================] - 0s 241ms/step\n",
      "1/1 [==============================] - 0s 27ms/step\n",
      "1/1 [==============================] - 0s 27ms/step\n",
      "1/1 [==============================] - 0s 28ms/step\n",
      "1/1 [==============================] - 0s 28ms/step\n",
      "1/1 [==============================] - 0s 25ms/step\n",
      "surah36_part2.mp3 Hejaz\n",
      "MoviePy - Writing audio in temporary/clip1.mp3\n"
     ]
    },
    {
     "name": "stderr",
     "output_type": "stream",
     "text": [
      "                                                                                                                \r"
     ]
    },
    {
     "name": "stdout",
     "output_type": "stream",
     "text": [
      "MoviePy - Done.\n",
      "MoviePy - Writing audio in temporary/clip2.mp3\n"
     ]
    },
    {
     "name": "stderr",
     "output_type": "stream",
     "text": [
      "                                                                                                                \r"
     ]
    },
    {
     "name": "stdout",
     "output_type": "stream",
     "text": [
      "MoviePy - Done.\n",
      "MoviePy - Writing audio in temporary/clip3.mp3\n"
     ]
    },
    {
     "name": "stderr",
     "output_type": "stream",
     "text": [
      "                                                                                                                \r"
     ]
    },
    {
     "name": "stdout",
     "output_type": "stream",
     "text": [
      "MoviePy - Done.\n",
      "MoviePy - Writing audio in temporary/clip4.mp3\n"
     ]
    },
    {
     "name": "stderr",
     "output_type": "stream",
     "text": [
      "                                                                                                                \r"
     ]
    },
    {
     "name": "stdout",
     "output_type": "stream",
     "text": [
      "MoviePy - Done.\n",
      "this is self.computed: <class 'numpy.ndarray'>\n",
      "[0. 0. 0. ... 0. 0. 0.]\n",
      "this is self.computed: <class 'numpy.ndarray'>\n",
      "[ 0.2587935   0.32811838  0.26839167 ... -0.03260519 -0.03917493\n",
      " -0.0324755 ]\n",
      "this is self.computed: <class 'numpy.ndarray'>\n",
      "[0.00061442 0.00083302 0.00091652 ... 0.36817983 0.40022182 0.31124464]\n",
      "this is self.computed: <class 'numpy.ndarray'>\n",
      "[-0.03649445 -0.03923198 -0.03811627 ...  0.          0.\n",
      "  0.        ]\n",
      "1/1 [==============================] - 0s 225ms/step\n",
      "1/1 [==============================] - 0s 26ms/step\n",
      "1/1 [==============================] - 0s 25ms/step\n",
      "1/1 [==============================] - 0s 26ms/step\n",
      "surah39_part6.mp3 Bayat\n",
      "MoviePy - Writing audio in temporary/clip1.mp3\n"
     ]
    },
    {
     "name": "stderr",
     "output_type": "stream",
     "text": [
      "                                                                                                                \r"
     ]
    },
    {
     "name": "stdout",
     "output_type": "stream",
     "text": [
      "MoviePy - Done.\n",
      "MoviePy - Writing audio in temporary/clip2.mp3\n"
     ]
    },
    {
     "name": "stderr",
     "output_type": "stream",
     "text": [
      "                                                                                                                \r"
     ]
    },
    {
     "name": "stdout",
     "output_type": "stream",
     "text": [
      "MoviePy - Done.\n",
      "MoviePy - Writing audio in temporary/clip3.mp3\n"
     ]
    },
    {
     "name": "stderr",
     "output_type": "stream",
     "text": [
      "                                                                                                                \r"
     ]
    },
    {
     "name": "stdout",
     "output_type": "stream",
     "text": [
      "MoviePy - Done.\n",
      "MoviePy - Writing audio in temporary/clip4.mp3\n"
     ]
    },
    {
     "name": "stderr",
     "output_type": "stream",
     "text": [
      "                                                                                                                \r"
     ]
    },
    {
     "name": "stdout",
     "output_type": "stream",
     "text": [
      "MoviePy - Done.\n",
      "MoviePy - Writing audio in temporary/clip5.mp3\n"
     ]
    },
    {
     "name": "stderr",
     "output_type": "stream",
     "text": [
      "                                                                                                                \r"
     ]
    },
    {
     "name": "stdout",
     "output_type": "stream",
     "text": [
      "MoviePy - Done.\n",
      "MoviePy - Writing audio in temporary/clip6.mp3\n"
     ]
    },
    {
     "name": "stderr",
     "output_type": "stream",
     "text": [
      "                                                                                                                \r"
     ]
    },
    {
     "name": "stdout",
     "output_type": "stream",
     "text": [
      "MoviePy - Done.\n",
      "MoviePy - Writing audio in temporary/clip7.mp3\n"
     ]
    },
    {
     "name": "stderr",
     "output_type": "stream",
     "text": [
      "                                                                                                                \r"
     ]
    },
    {
     "name": "stdout",
     "output_type": "stream",
     "text": [
      "MoviePy - Done.\n",
      "MoviePy - Writing audio in temporary/clip8.mp3\n"
     ]
    },
    {
     "name": "stderr",
     "output_type": "stream",
     "text": [
      "                                                                                                                \r"
     ]
    },
    {
     "name": "stdout",
     "output_type": "stream",
     "text": [
      "MoviePy - Done.\n",
      "MoviePy - Writing audio in temporary/clip9.mp3\n"
     ]
    },
    {
     "name": "stderr",
     "output_type": "stream",
     "text": [
      "                                                                                                                \r"
     ]
    },
    {
     "name": "stdout",
     "output_type": "stream",
     "text": [
      "MoviePy - Done.\n",
      "MoviePy - Writing audio in temporary/clip10.mp3\n"
     ]
    },
    {
     "name": "stderr",
     "output_type": "stream",
     "text": [
      "                                                                                                                \r"
     ]
    },
    {
     "name": "stdout",
     "output_type": "stream",
     "text": [
      "MoviePy - Done.\n",
      "MoviePy - Writing audio in temporary/clip11.mp3\n"
     ]
    },
    {
     "name": "stderr",
     "output_type": "stream",
     "text": [
      "                                                                                                                \r"
     ]
    },
    {
     "name": "stdout",
     "output_type": "stream",
     "text": [
      "MoviePy - Done.\n",
      "MoviePy - Writing audio in temporary/clip12.mp3\n"
     ]
    },
    {
     "name": "stderr",
     "output_type": "stream",
     "text": [
      "                                                                                                                \r"
     ]
    },
    {
     "name": "stdout",
     "output_type": "stream",
     "text": [
      "MoviePy - Done.\n",
      "MoviePy - Writing audio in temporary/clip13.mp3\n"
     ]
    },
    {
     "name": "stderr",
     "output_type": "stream",
     "text": [
      "                                                                                                                \r"
     ]
    },
    {
     "name": "stdout",
     "output_type": "stream",
     "text": [
      "MoviePy - Done.\n",
      "MoviePy - Writing audio in temporary/clip14.mp3\n"
     ]
    },
    {
     "name": "stderr",
     "output_type": "stream",
     "text": [
      "                                                                                                                \r"
     ]
    },
    {
     "name": "stdout",
     "output_type": "stream",
     "text": [
      "MoviePy - Done.\n",
      "MoviePy - Writing audio in temporary/clip15.mp3\n"
     ]
    },
    {
     "name": "stderr",
     "output_type": "stream",
     "text": [
      "                                                                                                                \r"
     ]
    },
    {
     "name": "stdout",
     "output_type": "stream",
     "text": [
      "MoviePy - Done.\n",
      "MoviePy - Writing audio in temporary/clip16.mp3\n"
     ]
    },
    {
     "name": "stderr",
     "output_type": "stream",
     "text": [
      "                                                                                                                \r"
     ]
    },
    {
     "name": "stdout",
     "output_type": "stream",
     "text": [
      "MoviePy - Done.\n",
      "MoviePy - Writing audio in temporary/clip17.mp3\n"
     ]
    },
    {
     "name": "stderr",
     "output_type": "stream",
     "text": [
      "                                                                                                                \r"
     ]
    },
    {
     "name": "stdout",
     "output_type": "stream",
     "text": [
      "MoviePy - Done.\n",
      "MoviePy - Writing audio in temporary/clip18.mp3\n"
     ]
    },
    {
     "name": "stderr",
     "output_type": "stream",
     "text": [
      "                                                                                                                \r"
     ]
    },
    {
     "name": "stdout",
     "output_type": "stream",
     "text": [
      "MoviePy - Done.\n",
      "MoviePy - Writing audio in temporary/clip19.mp3\n"
     ]
    },
    {
     "name": "stderr",
     "output_type": "stream",
     "text": [
      "                                                                                                                \r"
     ]
    },
    {
     "name": "stdout",
     "output_type": "stream",
     "text": [
      "MoviePy - Done.\n",
      "MoviePy - Writing audio in temporary/clip20.mp3\n"
     ]
    },
    {
     "name": "stderr",
     "output_type": "stream",
     "text": [
      "                                                                                                                \r"
     ]
    },
    {
     "name": "stdout",
     "output_type": "stream",
     "text": [
      "MoviePy - Done.\n",
      "MoviePy - Writing audio in temporary/clip21.mp3\n"
     ]
    },
    {
     "name": "stderr",
     "output_type": "stream",
     "text": [
      "                                                                                                                \r"
     ]
    },
    {
     "name": "stdout",
     "output_type": "stream",
     "text": [
      "MoviePy - Done.\n",
      "MoviePy - Writing audio in temporary/clip22.mp3\n"
     ]
    },
    {
     "name": "stderr",
     "output_type": "stream",
     "text": [
      "                                                                                                                \r"
     ]
    },
    {
     "name": "stdout",
     "output_type": "stream",
     "text": [
      "MoviePy - Done.\n",
      "MoviePy - Writing audio in temporary/clip23.mp3\n"
     ]
    },
    {
     "name": "stderr",
     "output_type": "stream",
     "text": [
      "                                                                                                                \r"
     ]
    },
    {
     "name": "stdout",
     "output_type": "stream",
     "text": [
      "MoviePy - Done.\n",
      "MoviePy - Writing audio in temporary/clip24.mp3\n"
     ]
    },
    {
     "name": "stderr",
     "output_type": "stream",
     "text": [
      "                                                                                                                \r"
     ]
    },
    {
     "name": "stdout",
     "output_type": "stream",
     "text": [
      "MoviePy - Done.\n",
      "this is self.computed: <class 'numpy.ndarray'>\n",
      "[-0.15116903 -0.17777368 -0.140342   ...  0.00352056 -0.00432204\n",
      " -0.00767543]\n",
      "this is self.computed: <class 'numpy.ndarray'>\n",
      "[-0.01319113 -0.02196028 -0.02855336 ... -0.13409005 -0.10371359\n",
      " -0.05808941]\n",
      "this is self.computed: <class 'numpy.ndarray'>\n",
      "[0.10023612 0.1344769  0.13125809 ... 0.15642473 0.22938986 0.19728076]\n",
      "this is self.computed: <class 'numpy.ndarray'>\n",
      "[-0.13406967 -0.19372675 -0.17135946 ... -0.14433327 -0.173928\n",
      " -0.14281811]\n",
      "this is self.computed: <class 'numpy.ndarray'>\n",
      "[0.07078676 0.08821898 0.06380214 ... 0.34654397 0.41505033 0.3256248 ]\n",
      "this is self.computed: <class 'numpy.ndarray'>\n",
      "[-0.03099426 -0.04590447 -0.04561104 ... -0.27120018 -0.26139605\n",
      " -0.17782235]\n",
      "this is self.computed: <class 'numpy.ndarray'>\n",
      "[-0.26216877 -0.3345545  -0.2567039  ...  0.47142276  0.5815835\n",
      "  0.46268308]\n",
      "this is self.computed: <class 'numpy.ndarray'>\n",
      "[-0.16067463 -0.21021372 -0.19165623 ... -0.33257034 -0.36566234\n",
      " -0.2821288 ]\n",
      "this is self.computed: <class 'numpy.ndarray'>\n",
      "[0.49266    0.697695   0.5826951  ... 0.40518102 0.39096227 0.2658761 ]\n",
      "this is self.computed: <class 'numpy.ndarray'>\n",
      "[ 0.7323042   0.95982236  0.78074914 ... -0.31274664 -0.36669365\n",
      " -0.29094648]\n",
      "this is self.computed: <class 'numpy.ndarray'>\n",
      "[ 0.21295321  0.31559733  0.33269614 ... -0.20940107 -0.25907147\n",
      " -0.2027728 ]\n",
      "this is self.computed: <class 'numpy.ndarray'>\n",
      "[-0.00586477  0.02683298  0.07005607 ... -0.01642837 -0.01799276\n",
      " -0.01410044]\n",
      "this is self.computed: <class 'numpy.ndarray'>\n",
      "[-0.19347817 -0.27168757 -0.25560474 ...  0.17279883  0.21801016\n",
      "  0.17364153]\n",
      "this is self.computed: <class 'numpy.ndarray'>\n",
      "[0.19957405 0.22920288 0.15924391 ... 0.49812987 0.62393105 0.5010811 ]\n",
      "this is self.computed: <class 'numpy.ndarray'>\n",
      "[ 0.19871375  0.266033    0.23373234 ... -0.17191349 -0.23785257\n",
      " -0.19879216]\n",
      "this is self.computed: <class 'numpy.ndarray'>\n",
      "[-7.1343500e-05  6.8689324e-04  1.9642515e-03 ...  7.1453106e-01\n",
      "  8.7887347e-01  6.9776797e-01]\n",
      "this is self.computed: <class 'numpy.ndarray'>\n",
      "[-0.2386007  -0.33099294 -0.32814455 ...  0.11969431  0.12532765\n",
      "  0.09111011]\n",
      "this is self.computed: <class 'numpy.ndarray'>\n",
      "[-0.26968613 -0.373362   -0.31141877 ... -0.14076771 -0.1657134\n",
      " -0.12869306]\n",
      "this is self.computed: <class 'numpy.ndarray'>\n",
      "[0.00460416 0.00622846 0.00588017 ... 0.07870273 0.10704221 0.0880803 ]\n",
      "this is self.computed: <class 'numpy.ndarray'>\n",
      "[0. 0. 0. ... 0. 0. 0.]\n",
      "this is self.computed: <class 'numpy.ndarray'>\n",
      "[0.48461252 0.6572855  0.5623729  ... 0.         0.         0.        ]\n",
      "this is self.computed: <class 'numpy.ndarray'>\n",
      "[-0.2700296  -0.379646   -0.34795946 ... -0.01849279 -0.02903894\n",
      " -0.02616481]\n",
      "this is self.computed: <class 'numpy.ndarray'>\n",
      "[ 0.3347084   0.459508    0.3962199  ... -0.34502506 -0.39189696\n",
      " -0.29813802]\n",
      "this is self.computed: <class 'numpy.ndarray'>\n",
      "[-0.01255734 -0.01519199 -0.01407166 ...  0.00627108  0.00721239\n",
      "  0.00553652]\n",
      "1/1 [==============================] - 0s 229ms/step\n",
      "1/1 [==============================] - 0s 26ms/step\n",
      "1/1 [==============================] - 0s 26ms/step\n",
      "1/1 [==============================] - 0s 26ms/step\n",
      "1/1 [==============================] - 0s 25ms/step\n",
      "1/1 [==============================] - 0s 26ms/step\n",
      "1/1 [==============================] - 0s 27ms/step\n",
      "1/1 [==============================] - 0s 26ms/step\n",
      "1/1 [==============================] - 0s 25ms/step\n",
      "1/1 [==============================] - 0s 25ms/step\n",
      "1/1 [==============================] - 0s 26ms/step\n",
      "1/1 [==============================] - 0s 27ms/step\n",
      "1/1 [==============================] - 0s 28ms/step\n",
      "1/1 [==============================] - 0s 27ms/step\n",
      "1/1 [==============================] - 0s 27ms/step\n",
      "1/1 [==============================] - 0s 26ms/step\n",
      "1/1 [==============================] - 0s 25ms/step\n",
      "1/1 [==============================] - 0s 26ms/step\n",
      "1/1 [==============================] - 0s 26ms/step\n",
      "1/1 [==============================] - 0s 25ms/step\n",
      "1/1 [==============================] - 0s 27ms/step\n",
      "1/1 [==============================] - 0s 28ms/step\n",
      "1/1 [==============================] - 0s 28ms/step\n",
      "1/1 [==============================] - 0s 26ms/step\n",
      "surah35_part2.mp3 Bayat\n",
      "MoviePy - Writing audio in temporary/clip1.mp3\n"
     ]
    },
    {
     "name": "stderr",
     "output_type": "stream",
     "text": [
      "                                                                                                                \r"
     ]
    },
    {
     "name": "stdout",
     "output_type": "stream",
     "text": [
      "MoviePy - Done.\n",
      "MoviePy - Writing audio in temporary/clip2.mp3\n"
     ]
    },
    {
     "name": "stderr",
     "output_type": "stream",
     "text": [
      "                                                                                                                \r"
     ]
    },
    {
     "name": "stdout",
     "output_type": "stream",
     "text": [
      "MoviePy - Done.\n",
      "MoviePy - Writing audio in temporary/clip3.mp3\n"
     ]
    },
    {
     "name": "stderr",
     "output_type": "stream",
     "text": [
      "                                                                                                                \r"
     ]
    },
    {
     "name": "stdout",
     "output_type": "stream",
     "text": [
      "MoviePy - Done.\n",
      "MoviePy - Writing audio in temporary/clip4.mp3\n"
     ]
    },
    {
     "name": "stderr",
     "output_type": "stream",
     "text": [
      "                                                                                                                \r"
     ]
    },
    {
     "name": "stdout",
     "output_type": "stream",
     "text": [
      "MoviePy - Done.\n",
      "MoviePy - Writing audio in temporary/clip5.mp3\n"
     ]
    },
    {
     "name": "stderr",
     "output_type": "stream",
     "text": [
      "                                                                                                                \r"
     ]
    },
    {
     "name": "stdout",
     "output_type": "stream",
     "text": [
      "MoviePy - Done.\n",
      "this is self.computed: <class 'numpy.ndarray'>\n",
      "[-0.05227183 -0.06681203 -0.06193287 ...  0.06481458  0.07822132\n",
      "  0.05794123]\n",
      "this is self.computed: <class 'numpy.ndarray'>\n",
      "[ 0.12668753  0.17032877  0.15390632 ... -0.06061162 -0.07328475\n",
      " -0.05910347]\n",
      "this is self.computed: <class 'numpy.ndarray'>\n",
      "[ 0.09565931  0.11903495  0.11373353 ... -0.13949701 -0.04579748\n",
      "  0.00393416]\n",
      "this is self.computed: <class 'numpy.ndarray'>\n",
      "[-0.00653664 -0.01046147 -0.00882012 ...  0.12038103  0.13667881\n",
      "  0.10429537]\n",
      "this is self.computed: <class 'numpy.ndarray'>\n",
      "[0.01304979 0.03302443 0.04399814 ... 0.18818545 0.20080557 0.15011865]\n",
      "1/1 [==============================] - 0s 215ms/step\n",
      "1/1 [==============================] - 0s 24ms/step\n",
      "1/1 [==============================] - 0s 24ms/step\n",
      "1/1 [==============================] - 0s 26ms/step\n",
      "1/1 [==============================] - 0s 25ms/step\n",
      "surah14_part5.mp3 Bayat\n",
      "MoviePy - Writing audio in temporary/clip1.mp3\n"
     ]
    },
    {
     "name": "stderr",
     "output_type": "stream",
     "text": [
      "                                                                                                                \r"
     ]
    },
    {
     "name": "stdout",
     "output_type": "stream",
     "text": [
      "MoviePy - Done.\n",
      "MoviePy - Writing audio in temporary/clip2.mp3\n"
     ]
    },
    {
     "name": "stderr",
     "output_type": "stream",
     "text": [
      "                                                                                                                \r"
     ]
    },
    {
     "name": "stdout",
     "output_type": "stream",
     "text": [
      "MoviePy - Done.\n",
      "MoviePy - Writing audio in temporary/clip3.mp3\n"
     ]
    },
    {
     "name": "stderr",
     "output_type": "stream",
     "text": [
      "                                                                                                                \r"
     ]
    },
    {
     "name": "stdout",
     "output_type": "stream",
     "text": [
      "MoviePy - Done.\n",
      "MoviePy - Writing audio in temporary/clip4.mp3\n"
     ]
    },
    {
     "name": "stderr",
     "output_type": "stream",
     "text": [
      "                                                                                                                \r"
     ]
    },
    {
     "name": "stdout",
     "output_type": "stream",
     "text": [
      "MoviePy - Done.\n",
      "MoviePy - Writing audio in temporary/clip5.mp3\n"
     ]
    },
    {
     "name": "stderr",
     "output_type": "stream",
     "text": [
      "                                                                                                                \r"
     ]
    },
    {
     "name": "stdout",
     "output_type": "stream",
     "text": [
      "MoviePy - Done.\n",
      "MoviePy - Writing audio in temporary/clip6.mp3\n"
     ]
    },
    {
     "name": "stderr",
     "output_type": "stream",
     "text": [
      "                                                                                                                \r"
     ]
    },
    {
     "name": "stdout",
     "output_type": "stream",
     "text": [
      "MoviePy - Done.\n",
      "MoviePy - Writing audio in temporary/clip7.mp3\n"
     ]
    },
    {
     "name": "stderr",
     "output_type": "stream",
     "text": [
      "                                                                                                                \r"
     ]
    },
    {
     "name": "stdout",
     "output_type": "stream",
     "text": [
      "MoviePy - Done.\n",
      "MoviePy - Writing audio in temporary/clip8.mp3\n"
     ]
    },
    {
     "name": "stderr",
     "output_type": "stream",
     "text": [
      "                                                                                                                \r"
     ]
    },
    {
     "name": "stdout",
     "output_type": "stream",
     "text": [
      "MoviePy - Done.\n",
      "MoviePy - Writing audio in temporary/clip9.mp3\n"
     ]
    },
    {
     "name": "stderr",
     "output_type": "stream",
     "text": [
      "                                                                                                                \r"
     ]
    },
    {
     "name": "stdout",
     "output_type": "stream",
     "text": [
      "MoviePy - Done.\n",
      "MoviePy - Writing audio in temporary/clip10.mp3\n"
     ]
    },
    {
     "name": "stderr",
     "output_type": "stream",
     "text": [
      "                                                                                                                \r"
     ]
    },
    {
     "name": "stdout",
     "output_type": "stream",
     "text": [
      "MoviePy - Done.\n",
      "MoviePy - Writing audio in temporary/clip11.mp3\n"
     ]
    },
    {
     "name": "stderr",
     "output_type": "stream",
     "text": [
      "                                                                                                                \r"
     ]
    },
    {
     "name": "stdout",
     "output_type": "stream",
     "text": [
      "MoviePy - Done.\n",
      "MoviePy - Writing audio in temporary/clip12.mp3\n"
     ]
    },
    {
     "name": "stderr",
     "output_type": "stream",
     "text": [
      "                                                                                                                \r"
     ]
    },
    {
     "name": "stdout",
     "output_type": "stream",
     "text": [
      "MoviePy - Done.\n",
      "this is self.computed: <class 'numpy.ndarray'>\n",
      "[-0.08100526 -0.0838128  -0.06855516 ... -0.18976119 -0.20408866\n",
      " -0.15736881]\n",
      "this is self.computed: <class 'numpy.ndarray'>\n",
      "[-0.15630402 -0.2450986  -0.28473318 ... -0.28879595 -0.29655993\n",
      " -0.20926437]\n",
      "this is self.computed: <class 'numpy.ndarray'>\n",
      "[ 0.06908748  0.12076275  0.15312171 ... -0.04850572 -0.0472528\n",
      " -0.02914104]\n",
      "this is self.computed: <class 'numpy.ndarray'>\n",
      "[-0.14300144 -0.19072485 -0.17394179 ... -0.16172685 -0.15789264\n",
      " -0.11007899]\n",
      "this is self.computed: <class 'numpy.ndarray'>\n",
      "[ 0.07818559  0.10597225  0.09470256 ... -0.31733194 -0.35174143\n",
      " -0.26387706]\n",
      "this is self.computed: <class 'numpy.ndarray'>\n",
      "[-0.02871086 -0.05433904 -0.08150066 ...  0.          0.\n",
      "  0.        ]\n",
      "this is self.computed: <class 'numpy.ndarray'>\n",
      "[-0.20739323 -0.27551806 -0.25955465 ... -0.15556821 -0.14982492\n",
      " -0.10201895]\n",
      "this is self.computed: <class 'numpy.ndarray'>\n",
      "[0. 0. 0. ... 0. 0. 0.]\n",
      "this is self.computed: <class 'numpy.ndarray'>\n",
      "[0.         0.         0.         ... 0.09125122 0.10810903 0.08363301]\n",
      "this is self.computed: <class 'numpy.ndarray'>\n",
      "[-0.16100544 -0.26976967 -0.3321789  ... -0.02519149  0.01692151\n",
      "  0.03165433]\n",
      "this is self.computed: <class 'numpy.ndarray'>\n",
      "[-0.26561302 -0.31005287 -0.20718414 ... -0.14629579 -0.17898679\n",
      " -0.14327209]\n",
      "this is self.computed: <class 'numpy.ndarray'>\n",
      "[-0.07448152 -0.08929799 -0.09047381 ... -0.12677476 -0.12072115\n",
      " -0.10458732]\n",
      "1/1 [==============================] - 0s 213ms/step\n",
      "1/1 [==============================] - 0s 28ms/step\n",
      "1/1 [==============================] - 0s 27ms/step\n",
      "1/1 [==============================] - 0s 27ms/step\n",
      "1/1 [==============================] - 0s 24ms/step\n",
      "1/1 [==============================] - 0s 24ms/step\n",
      "1/1 [==============================] - 0s 26ms/step\n",
      "1/1 [==============================] - 0s 26ms/step\n",
      "1/1 [==============================] - 0s 26ms/step\n",
      "1/1 [==============================] - 0s 27ms/step\n",
      "1/1 [==============================] - 0s 30ms/step\n",
      "1/1 [==============================] - 0s 27ms/step\n",
      "surah70_part1.mp3 Seekah\n",
      "MoviePy - Writing audio in temporary/clip1.mp3\n"
     ]
    },
    {
     "name": "stderr",
     "output_type": "stream",
     "text": [
      "                                                                                                                \r"
     ]
    },
    {
     "name": "stdout",
     "output_type": "stream",
     "text": [
      "MoviePy - Done.\n",
      "MoviePy - Writing audio in temporary/clip2.mp3\n"
     ]
    },
    {
     "name": "stderr",
     "output_type": "stream",
     "text": [
      "                                                                                                                \r"
     ]
    },
    {
     "name": "stdout",
     "output_type": "stream",
     "text": [
      "MoviePy - Done.\n",
      "MoviePy - Writing audio in temporary/clip3.mp3\n"
     ]
    },
    {
     "name": "stderr",
     "output_type": "stream",
     "text": [
      "                                                                                                                \r"
     ]
    },
    {
     "name": "stdout",
     "output_type": "stream",
     "text": [
      "MoviePy - Done.\n",
      "MoviePy - Writing audio in temporary/clip4.mp3\n"
     ]
    },
    {
     "name": "stderr",
     "output_type": "stream",
     "text": [
      "                                                                                                                \r"
     ]
    },
    {
     "name": "stdout",
     "output_type": "stream",
     "text": [
      "MoviePy - Done.\n",
      "MoviePy - Writing audio in temporary/clip5.mp3\n"
     ]
    },
    {
     "name": "stderr",
     "output_type": "stream",
     "text": [
      "                                                                                                                \r"
     ]
    },
    {
     "name": "stdout",
     "output_type": "stream",
     "text": [
      "MoviePy - Done.\n",
      "MoviePy - Writing audio in temporary/clip6.mp3\n"
     ]
    },
    {
     "name": "stderr",
     "output_type": "stream",
     "text": [
      "                                                                                                                \r"
     ]
    },
    {
     "name": "stdout",
     "output_type": "stream",
     "text": [
      "MoviePy - Done.\n",
      "MoviePy - Writing audio in temporary/clip7.mp3\n"
     ]
    },
    {
     "name": "stderr",
     "output_type": "stream",
     "text": [
      "                                                                                                                \r"
     ]
    },
    {
     "name": "stdout",
     "output_type": "stream",
     "text": [
      "MoviePy - Done.\n",
      "MoviePy - Writing audio in temporary/clip8.mp3\n"
     ]
    },
    {
     "name": "stderr",
     "output_type": "stream",
     "text": [
      "                                                                                                                \r"
     ]
    },
    {
     "name": "stdout",
     "output_type": "stream",
     "text": [
      "MoviePy - Done.\n",
      "MoviePy - Writing audio in temporary/clip9.mp3\n"
     ]
    },
    {
     "name": "stderr",
     "output_type": "stream",
     "text": [
      "                                                                                                                \r"
     ]
    },
    {
     "name": "stdout",
     "output_type": "stream",
     "text": [
      "MoviePy - Done.\n",
      "MoviePy - Writing audio in temporary/clip10.mp3\n"
     ]
    },
    {
     "name": "stderr",
     "output_type": "stream",
     "text": [
      "                                                                                                                \r"
     ]
    },
    {
     "name": "stdout",
     "output_type": "stream",
     "text": [
      "MoviePy - Done.\n",
      "this is self.computed: <class 'numpy.ndarray'>\n",
      "[-0.04981731  0.00788352  0.08943961 ...  0.27620775  0.30517265\n",
      "  0.23682316]\n",
      "this is self.computed: <class 'numpy.ndarray'>\n",
      "[0.22278276 0.26946104 0.20370667 ... 0.07450986 0.0925889  0.07394677]\n",
      "this is self.computed: <class 'numpy.ndarray'>\n",
      "[ 0.00231305  0.0012835  -0.00089127 ...  0.          0.\n",
      "  0.        ]\n",
      "this is self.computed: <class 'numpy.ndarray'>\n",
      "[-0.24457751 -0.3138652  -0.2903896  ... -0.4064624  -0.32364732\n",
      " -0.17574944]\n",
      "this is self.computed: <class 'numpy.ndarray'>\n",
      "[ 0.08738272  0.13365927  0.17416076 ... -0.247154   -0.27875826\n",
      " -0.20724364]\n",
      "this is self.computed: <class 'numpy.ndarray'>\n",
      "[ 0.08329629  0.10929295  0.09687361 ... -0.1223623  -0.10269327\n",
      " -0.05997701]\n",
      "this is self.computed: <class 'numpy.ndarray'>\n",
      "[-0.28910393 -0.44397306 -0.47265416 ...  0.10043301  0.10951671\n",
      "  0.07964695]\n",
      "this is self.computed: <class 'numpy.ndarray'>\n",
      "[-0.1172065  -0.17840044 -0.18848574 ...  0.0056042   0.00536448\n",
      "  0.00360857]\n",
      "this is self.computed: <class 'numpy.ndarray'>\n",
      "[-0.2269324  -0.26759565 -0.20954138 ... -0.20731863 -0.26759988\n",
      " -0.22759564]\n",
      "this is self.computed: <class 'numpy.ndarray'>\n",
      "[-0.01549394  0.00232029  0.02848327 ... -0.1410523  -0.17013548\n",
      " -0.13275543]\n",
      "1/1 [==============================] - 0s 212ms/step\n",
      "1/1 [==============================] - 0s 25ms/step\n",
      "1/1 [==============================] - 0s 24ms/step\n",
      "1/1 [==============================] - 0s 24ms/step\n",
      "1/1 [==============================] - 0s 25ms/step\n",
      "1/1 [==============================] - 0s 24ms/step\n",
      "1/1 [==============================] - 0s 24ms/step\n",
      "1/1 [==============================] - 0s 26ms/step\n",
      "1/1 [==============================] - 0s 26ms/step\n",
      "1/1 [==============================] - 0s 28ms/step\n",
      "surah55_part3.mp3 Bayat\n",
      "MoviePy - Writing audio in temporary/clip1.mp3\n"
     ]
    },
    {
     "name": "stderr",
     "output_type": "stream",
     "text": [
      "                                                                                                                \r"
     ]
    },
    {
     "name": "stdout",
     "output_type": "stream",
     "text": [
      "MoviePy - Done.\n",
      "MoviePy - Writing audio in temporary/clip2.mp3\n"
     ]
    },
    {
     "name": "stderr",
     "output_type": "stream",
     "text": [
      "                                                                                                                \r"
     ]
    },
    {
     "name": "stdout",
     "output_type": "stream",
     "text": [
      "MoviePy - Done.\n",
      "MoviePy - Writing audio in temporary/clip3.mp3\n"
     ]
    },
    {
     "name": "stderr",
     "output_type": "stream",
     "text": [
      "                                                                                                                \r"
     ]
    },
    {
     "name": "stdout",
     "output_type": "stream",
     "text": [
      "MoviePy - Done.\n",
      "MoviePy - Writing audio in temporary/clip4.mp3\n"
     ]
    },
    {
     "name": "stderr",
     "output_type": "stream",
     "text": [
      "                                                                                                                \r"
     ]
    },
    {
     "name": "stdout",
     "output_type": "stream",
     "text": [
      "MoviePy - Done.\n",
      "MoviePy - Writing audio in temporary/clip5.mp3\n"
     ]
    },
    {
     "name": "stderr",
     "output_type": "stream",
     "text": [
      "                                                                                                                \r"
     ]
    },
    {
     "name": "stdout",
     "output_type": "stream",
     "text": [
      "MoviePy - Done.\n",
      "MoviePy - Writing audio in temporary/clip6.mp3\n"
     ]
    },
    {
     "name": "stderr",
     "output_type": "stream",
     "text": [
      "                                                                                                                \r"
     ]
    },
    {
     "name": "stdout",
     "output_type": "stream",
     "text": [
      "MoviePy - Done.\n",
      "MoviePy - Writing audio in temporary/clip7.mp3\n"
     ]
    },
    {
     "name": "stderr",
     "output_type": "stream",
     "text": [
      "                                                                                                                \r"
     ]
    },
    {
     "name": "stdout",
     "output_type": "stream",
     "text": [
      "MoviePy - Done.\n",
      "MoviePy - Writing audio in temporary/clip8.mp3\n"
     ]
    },
    {
     "name": "stderr",
     "output_type": "stream",
     "text": [
      "                                                                                                                \r"
     ]
    },
    {
     "name": "stdout",
     "output_type": "stream",
     "text": [
      "MoviePy - Done.\n",
      "MoviePy - Writing audio in temporary/clip9.mp3\n"
     ]
    },
    {
     "name": "stderr",
     "output_type": "stream",
     "text": [
      "                                                                                                                \r"
     ]
    },
    {
     "name": "stdout",
     "output_type": "stream",
     "text": [
      "MoviePy - Done.\n",
      "MoviePy - Writing audio in temporary/clip10.mp3\n"
     ]
    },
    {
     "name": "stderr",
     "output_type": "stream",
     "text": [
      "                                                                                                                \r"
     ]
    },
    {
     "name": "stdout",
     "output_type": "stream",
     "text": [
      "MoviePy - Done.\n",
      "MoviePy - Writing audio in temporary/clip11.mp3\n"
     ]
    },
    {
     "name": "stderr",
     "output_type": "stream",
     "text": [
      "                                                                                                                \r"
     ]
    },
    {
     "name": "stdout",
     "output_type": "stream",
     "text": [
      "MoviePy - Done.\n",
      "MoviePy - Writing audio in temporary/clip12.mp3\n"
     ]
    },
    {
     "name": "stderr",
     "output_type": "stream",
     "text": [
      "                                                                                                                \r"
     ]
    },
    {
     "name": "stdout",
     "output_type": "stream",
     "text": [
      "MoviePy - Done.\n",
      "MoviePy - Writing audio in temporary/clip13.mp3\n"
     ]
    },
    {
     "name": "stderr",
     "output_type": "stream",
     "text": [
      "                                                                                                                \r"
     ]
    },
    {
     "name": "stdout",
     "output_type": "stream",
     "text": [
      "MoviePy - Done.\n",
      "this is self.computed: <class 'numpy.ndarray'>\n",
      "[-0.0766805  -0.08630688 -0.07160464 ... -0.18687885 -0.18973866\n",
      " -0.14201525]\n",
      "this is self.computed: <class 'numpy.ndarray'>\n",
      "[-0.12415805 -0.1391485  -0.1281979  ... -0.11041791 -0.18304251\n",
      " -0.16290268]\n",
      "this is self.computed: <class 'numpy.ndarray'>\n",
      "[ 0.03345142  0.0427546   0.03765392 ... -0.00760692 -0.01112379\n",
      " -0.0101174 ]\n",
      "this is self.computed: <class 'numpy.ndarray'>\n",
      "[ 0.17691287  0.23421907  0.2042531  ... -0.1285264  -0.13612701\n",
      " -0.10008062]\n",
      "this is self.computed: <class 'numpy.ndarray'>\n",
      "[-0.08180825 -0.11752722 -0.12890685 ...  0.10291336  0.11077181\n",
      "  0.08263168]\n",
      "this is self.computed: <class 'numpy.ndarray'>\n",
      "[-0.01023845 -0.01120726 -0.00728605 ...  0.06832227  0.08190601\n",
      "  0.0740326 ]\n",
      "this is self.computed: <class 'numpy.ndarray'>\n",
      "[-0.223461   -0.27614707 -0.28496513 ... -0.09190342 -0.10421215\n",
      " -0.08287808]\n",
      "this is self.computed: <class 'numpy.ndarray'>\n",
      "[ 0.15789771  0.30354533  0.38878417 ... -0.33088169 -0.39043477\n",
      " -0.3119572 ]\n",
      "this is self.computed: <class 'numpy.ndarray'>\n",
      "[-0.34180266 -0.43264422 -0.4050166  ...  0.4100383   0.48085454\n",
      "  0.3781228 ]\n",
      "this is self.computed: <class 'numpy.ndarray'>\n",
      "[ 0.13814643  0.22546683  0.21644408 ... -0.09013942 -0.10620815\n",
      " -0.08529933]\n",
      "this is self.computed: <class 'numpy.ndarray'>\n",
      "[-0.16910076 -0.23406602 -0.23792145 ...  0.0511608   0.05206364\n",
      "  0.03961542]\n",
      "this is self.computed: <class 'numpy.ndarray'>\n",
      "[0.08524381 0.08821538 0.07476141 ... 0.17319597 0.22555175 0.18461856]\n",
      "this is self.computed: <class 'numpy.ndarray'>\n",
      "[-0.0864866  -0.11981321 -0.10545365 ... -0.190325   -0.2343953\n",
      " -0.18467414]\n",
      "1/1 [==============================] - 0s 214ms/step\n",
      "1/1 [==============================] - 0s 24ms/step\n",
      "1/1 [==============================] - 0s 24ms/step\n",
      "1/1 [==============================] - 0s 25ms/step\n",
      "1/1 [==============================] - 0s 24ms/step\n",
      "1/1 [==============================] - 0s 24ms/step\n",
      "1/1 [==============================] - 0s 28ms/step\n",
      "1/1 [==============================] - 0s 26ms/step\n",
      "1/1 [==============================] - 0s 24ms/step\n",
      "1/1 [==============================] - 0s 24ms/step\n",
      "1/1 [==============================] - 0s 25ms/step\n",
      "1/1 [==============================] - 0s 25ms/step\n",
      "1/1 [==============================] - 0s 25ms/step\n",
      "surah4_part5.mp3 Hejaz\n",
      "MoviePy - Writing audio in temporary/clip1.mp3\n"
     ]
    },
    {
     "name": "stderr",
     "output_type": "stream",
     "text": [
      "                                                                                                                \r"
     ]
    },
    {
     "name": "stdout",
     "output_type": "stream",
     "text": [
      "MoviePy - Done.\n",
      "MoviePy - Writing audio in temporary/clip2.mp3\n"
     ]
    },
    {
     "name": "stderr",
     "output_type": "stream",
     "text": [
      "                                                                                                                \r"
     ]
    },
    {
     "name": "stdout",
     "output_type": "stream",
     "text": [
      "MoviePy - Done.\n",
      "MoviePy - Writing audio in temporary/clip3.mp3\n"
     ]
    },
    {
     "name": "stderr",
     "output_type": "stream",
     "text": [
      "                                                                                                                \r"
     ]
    },
    {
     "name": "stdout",
     "output_type": "stream",
     "text": [
      "MoviePy - Done.\n",
      "MoviePy - Writing audio in temporary/clip4.mp3\n"
     ]
    },
    {
     "name": "stderr",
     "output_type": "stream",
     "text": [
      "                                                                                                                \r"
     ]
    },
    {
     "name": "stdout",
     "output_type": "stream",
     "text": [
      "MoviePy - Done.\n",
      "MoviePy - Writing audio in temporary/clip5.mp3\n"
     ]
    },
    {
     "name": "stderr",
     "output_type": "stream",
     "text": [
      "                                                                                                                \r"
     ]
    },
    {
     "name": "stdout",
     "output_type": "stream",
     "text": [
      "MoviePy - Done.\n",
      "MoviePy - Writing audio in temporary/clip6.mp3\n"
     ]
    },
    {
     "name": "stderr",
     "output_type": "stream",
     "text": [
      "                                                                                                                \r"
     ]
    },
    {
     "name": "stdout",
     "output_type": "stream",
     "text": [
      "MoviePy - Done.\n",
      "MoviePy - Writing audio in temporary/clip7.mp3\n"
     ]
    },
    {
     "name": "stderr",
     "output_type": "stream",
     "text": [
      "                                                                                                                \r"
     ]
    },
    {
     "name": "stdout",
     "output_type": "stream",
     "text": [
      "MoviePy - Done.\n",
      "MoviePy - Writing audio in temporary/clip8.mp3\n"
     ]
    },
    {
     "name": "stderr",
     "output_type": "stream",
     "text": [
      "                                                                                                                \r"
     ]
    },
    {
     "name": "stdout",
     "output_type": "stream",
     "text": [
      "MoviePy - Done.\n",
      "this is self.computed: <class 'numpy.ndarray'>\n",
      "[0.1979618  0.25063467 0.25550026 ... 0.02547002 0.03596399 0.02014151]\n",
      "this is self.computed: <class 'numpy.ndarray'>\n",
      "[ 0.00688391 -0.02682881 -0.07829267 ...  0.18188143  0.22473128\n",
      "  0.16674434]\n",
      "this is self.computed: <class 'numpy.ndarray'>\n",
      "[0.01044988 0.01451008 0.0136588  ... 0.14966634 0.20282042 0.17495947]\n",
      "this is self.computed: <class 'numpy.ndarray'>\n",
      "[-0.034224   -0.04378219 -0.04182013 ... -0.02960593 -0.09897605\n",
      " -0.09777667]\n",
      "this is self.computed: <class 'numpy.ndarray'>\n",
      "[0.1419946  0.17724006 0.18173587 ... 0.04555322 0.05654572 0.04789658]\n",
      "this is self.computed: <class 'numpy.ndarray'>\n",
      "[ 0.          0.          0.         ... -0.03734217 -0.03902135\n",
      " -0.0291765 ]\n",
      "this is self.computed: <class 'numpy.ndarray'>\n",
      "[-0.09641571 -0.14560732 -0.15506427 ...  0.01158618  0.01312866\n",
      "  0.01026152]\n",
      "this is self.computed: <class 'numpy.ndarray'>\n",
      "[ 0.04842035  0.07875693  0.07935271 ... -0.01398922 -0.01700389\n",
      " -0.01346537]\n",
      "1/1 [==============================] - 0s 210ms/step\n",
      "1/1 [==============================] - 0s 26ms/step\n",
      "1/1 [==============================] - 0s 30ms/step\n",
      "1/1 [==============================] - 0s 26ms/step\n",
      "1/1 [==============================] - 0s 24ms/step\n",
      "1/1 [==============================] - 0s 24ms/step\n",
      "1/1 [==============================] - 0s 24ms/step\n",
      "1/1 [==============================] - 0s 24ms/step\n",
      "surah57_part1.mp3 Ajam\n",
      "MoviePy - Writing audio in temporary/clip1.mp3\n"
     ]
    },
    {
     "name": "stderr",
     "output_type": "stream",
     "text": [
      "                                                                                                                \r"
     ]
    },
    {
     "name": "stdout",
     "output_type": "stream",
     "text": [
      "MoviePy - Done.\n",
      "MoviePy - Writing audio in temporary/clip2.mp3\n"
     ]
    },
    {
     "name": "stderr",
     "output_type": "stream",
     "text": [
      "                                                                                                                \r"
     ]
    },
    {
     "name": "stdout",
     "output_type": "stream",
     "text": [
      "MoviePy - Done.\n",
      "MoviePy - Writing audio in temporary/clip3.mp3\n"
     ]
    },
    {
     "name": "stderr",
     "output_type": "stream",
     "text": [
      "                                                                                                                \r"
     ]
    },
    {
     "name": "stdout",
     "output_type": "stream",
     "text": [
      "MoviePy - Done.\n",
      "MoviePy - Writing audio in temporary/clip4.mp3\n"
     ]
    },
    {
     "name": "stderr",
     "output_type": "stream",
     "text": [
      "                                                                                                                \r"
     ]
    },
    {
     "name": "stdout",
     "output_type": "stream",
     "text": [
      "MoviePy - Done.\n",
      "MoviePy - Writing audio in temporary/clip5.mp3\n"
     ]
    },
    {
     "name": "stderr",
     "output_type": "stream",
     "text": [
      "                                                                                                                \r"
     ]
    },
    {
     "name": "stdout",
     "output_type": "stream",
     "text": [
      "MoviePy - Done.\n",
      "this is self.computed: <class 'numpy.ndarray'>\n",
      "[-0.04189943 -0.05618913 -0.05446091 ... -0.00046333 -0.00258606\n",
      " -0.00315024]\n",
      "this is self.computed: <class 'numpy.ndarray'>\n",
      "[-0.13014764 -0.19435853 -0.20003203 ... -0.02153262 -0.05059102\n",
      " -0.04755918]\n",
      "this is self.computed: <class 'numpy.ndarray'>\n",
      "[0.40766305 0.42590147 0.28967613 ... 0.10052676 0.13116947 0.10624504]\n",
      "this is self.computed: <class 'numpy.ndarray'>\n",
      "[-0.25197574 -0.34843066 -0.3524238  ...  0.576344    0.61671656\n",
      "  0.4468724 ]\n",
      "this is self.computed: <class 'numpy.ndarray'>\n",
      "[ 0.10883738  0.14195636  0.12409174 ... -0.05768611 -0.1141022\n",
      " -0.11020672]\n",
      "1/1 [==============================] - 0s 215ms/step\n",
      "1/1 [==============================] - 0s 25ms/step\n",
      "1/1 [==============================] - 0s 26ms/step\n",
      "1/1 [==============================] - 0s 26ms/step\n",
      "1/1 [==============================] - 0s 25ms/step\n",
      "surah57_part2.mp3 Hejaz\n",
      "MoviePy - Writing audio in temporary/clip1.mp3\n"
     ]
    },
    {
     "name": "stderr",
     "output_type": "stream",
     "text": [
      "                                                                                                                \r"
     ]
    },
    {
     "name": "stdout",
     "output_type": "stream",
     "text": [
      "MoviePy - Done.\n",
      "this is self.computed: <class 'numpy.ndarray'>\n",
      "[ 0.0000000e+00  0.0000000e+00  0.0000000e+00 ... -2.2267690e-05\n",
      " -1.1191866e-04 -1.7085206e-04]\n",
      "1/1 [==============================] - 0s 212ms/step\n",
      "surah112_part1.mp3 Bayat\n",
      "MoviePy - Writing audio in temporary/clip1.mp3\n"
     ]
    },
    {
     "name": "stderr",
     "output_type": "stream",
     "text": [
      "                                                                                                                \r"
     ]
    },
    {
     "name": "stdout",
     "output_type": "stream",
     "text": [
      "MoviePy - Done.\n",
      "MoviePy - Writing audio in temporary/clip2.mp3\n"
     ]
    },
    {
     "name": "stderr",
     "output_type": "stream",
     "text": [
      "                                                                                                                \r"
     ]
    },
    {
     "name": "stdout",
     "output_type": "stream",
     "text": [
      "MoviePy - Done.\n",
      "MoviePy - Writing audio in temporary/clip3.mp3\n"
     ]
    },
    {
     "name": "stderr",
     "output_type": "stream",
     "text": [
      "                                                                                                                \r"
     ]
    },
    {
     "name": "stdout",
     "output_type": "stream",
     "text": [
      "MoviePy - Done.\n",
      "MoviePy - Writing audio in temporary/clip4.mp3\n"
     ]
    },
    {
     "name": "stderr",
     "output_type": "stream",
     "text": [
      "                                                                                                                \r"
     ]
    },
    {
     "name": "stdout",
     "output_type": "stream",
     "text": [
      "MoviePy - Done.\n",
      "MoviePy - Writing audio in temporary/clip5.mp3\n"
     ]
    },
    {
     "name": "stderr",
     "output_type": "stream",
     "text": [
      "                                                                                                                \r"
     ]
    },
    {
     "name": "stdout",
     "output_type": "stream",
     "text": [
      "MoviePy - Done.\n",
      "MoviePy - Writing audio in temporary/clip6.mp3\n"
     ]
    },
    {
     "name": "stderr",
     "output_type": "stream",
     "text": [
      "                                                                                                                \r"
     ]
    },
    {
     "name": "stdout",
     "output_type": "stream",
     "text": [
      "MoviePy - Done.\n",
      "MoviePy - Writing audio in temporary/clip7.mp3\n"
     ]
    },
    {
     "name": "stderr",
     "output_type": "stream",
     "text": [
      "                                                                                                                \r"
     ]
    },
    {
     "name": "stdout",
     "output_type": "stream",
     "text": [
      "MoviePy - Done.\n",
      "this is self.computed: <class 'numpy.ndarray'>\n",
      "[ 0.03717003  0.0922624   0.10490407 ... -0.16452222 -0.17857085\n",
      " -0.13245338]\n",
      "this is self.computed: <class 'numpy.ndarray'>\n",
      "[-0.14139295 -0.17995104 -0.14425576 ...  0.02014463  0.01740544\n",
      "  0.01065061]\n",
      "this is self.computed: <class 'numpy.ndarray'>\n",
      "[0.22112313 0.27772337 0.23327276 ... 0.08357001 0.07398197 0.03315401]\n",
      "this is self.computed: <class 'numpy.ndarray'>\n",
      "[ 0.06929609  0.09434809  0.08465609 ... -0.29621997 -0.37964833\n",
      " -0.30107573]\n",
      "this is self.computed: <class 'numpy.ndarray'>\n",
      "[ 0.00167613 -0.00165316 -0.00768764 ...  0.00330817  0.0021036\n",
      "  0.00118726]\n",
      "this is self.computed: <class 'numpy.ndarray'>\n",
      "[0.         0.         0.         ... 0.11582602 0.12868547 0.09621204]\n",
      "this is self.computed: <class 'numpy.ndarray'>\n",
      "[-0.30670035 -0.35771608 -0.3136981  ...  0.2900723   0.31637567\n",
      "  0.23507775]\n",
      "1/1 [==============================] - 0s 209ms/step\n",
      "1/1 [==============================] - 0s 25ms/step\n",
      "1/1 [==============================] - 0s 25ms/step\n",
      "1/1 [==============================] - 0s 26ms/step\n",
      "1/1 [==============================] - 0s 26ms/step\n",
      "1/1 [==============================] - 0s 27ms/step\n",
      "1/1 [==============================] - 0s 28ms/step\n",
      "surah31_part1.mp3 Bayat\n",
      "MoviePy - Writing audio in temporary/clip1.mp3\n"
     ]
    },
    {
     "name": "stderr",
     "output_type": "stream",
     "text": [
      "                                                                                                                \r"
     ]
    },
    {
     "name": "stdout",
     "output_type": "stream",
     "text": [
      "MoviePy - Done.\n",
      "MoviePy - Writing audio in temporary/clip2.mp3\n"
     ]
    },
    {
     "name": "stderr",
     "output_type": "stream",
     "text": [
      "                                                                                                                \r"
     ]
    },
    {
     "name": "stdout",
     "output_type": "stream",
     "text": [
      "MoviePy - Done.\n",
      "MoviePy - Writing audio in temporary/clip3.mp3\n"
     ]
    },
    {
     "name": "stderr",
     "output_type": "stream",
     "text": [
      "                                                                                                                \r"
     ]
    },
    {
     "name": "stdout",
     "output_type": "stream",
     "text": [
      "MoviePy - Done.\n",
      "MoviePy - Writing audio in temporary/clip4.mp3\n"
     ]
    },
    {
     "name": "stderr",
     "output_type": "stream",
     "text": [
      "                                                                                                                \r"
     ]
    },
    {
     "name": "stdout",
     "output_type": "stream",
     "text": [
      "MoviePy - Done.\n",
      "MoviePy - Writing audio in temporary/clip5.mp3\n"
     ]
    },
    {
     "name": "stderr",
     "output_type": "stream",
     "text": [
      "                                                                                                                \r"
     ]
    },
    {
     "name": "stdout",
     "output_type": "stream",
     "text": [
      "MoviePy - Done.\n",
      "MoviePy - Writing audio in temporary/clip6.mp3\n"
     ]
    },
    {
     "name": "stderr",
     "output_type": "stream",
     "text": [
      "                                                                                                                \r"
     ]
    },
    {
     "name": "stdout",
     "output_type": "stream",
     "text": [
      "MoviePy - Done.\n",
      "MoviePy - Writing audio in temporary/clip7.mp3\n"
     ]
    },
    {
     "name": "stderr",
     "output_type": "stream",
     "text": [
      "                                                                                                                \r"
     ]
    },
    {
     "name": "stdout",
     "output_type": "stream",
     "text": [
      "MoviePy - Done.\n",
      "MoviePy - Writing audio in temporary/clip8.mp3\n"
     ]
    },
    {
     "name": "stderr",
     "output_type": "stream",
     "text": [
      "                                                                                                                \r"
     ]
    },
    {
     "name": "stdout",
     "output_type": "stream",
     "text": [
      "MoviePy - Done.\n",
      "MoviePy - Writing audio in temporary/clip9.mp3\n"
     ]
    },
    {
     "name": "stderr",
     "output_type": "stream",
     "text": [
      "                                                                                                                \r"
     ]
    },
    {
     "name": "stdout",
     "output_type": "stream",
     "text": [
      "MoviePy - Done.\n",
      "MoviePy - Writing audio in temporary/clip10.mp3\n"
     ]
    },
    {
     "name": "stderr",
     "output_type": "stream",
     "text": [
      "                                                                                                                \r"
     ]
    },
    {
     "name": "stdout",
     "output_type": "stream",
     "text": [
      "MoviePy - Done.\n",
      "MoviePy - Writing audio in temporary/clip11.mp3\n"
     ]
    },
    {
     "name": "stderr",
     "output_type": "stream",
     "text": [
      "                                                                                                                \r"
     ]
    },
    {
     "name": "stdout",
     "output_type": "stream",
     "text": [
      "MoviePy - Done.\n",
      "this is self.computed: <class 'numpy.ndarray'>\n",
      "[ 0.12974341  0.15849118  0.10704659 ... -0.02486111 -0.02631339\n",
      " -0.01871437]\n",
      "this is self.computed: <class 'numpy.ndarray'>\n",
      "[-0.01335531 -0.01636233 -0.01396936 ...  0.01667144  0.00640595\n",
      " -0.00072087]\n",
      "this is self.computed: <class 'numpy.ndarray'>\n",
      "[0.2246747  0.2735061  0.25902525 ... 0.         0.         0.        ]\n",
      "this is self.computed: <class 'numpy.ndarray'>\n",
      "[-0.04812351 -0.07775263 -0.09644148 ...  0.25848395  0.2643044\n",
      "  0.18837142]\n",
      "this is self.computed: <class 'numpy.ndarray'>\n",
      "[-0.01647902 -0.01934864 -0.01192358 ... -0.28644928 -0.3095073\n",
      " -0.22552612]\n",
      "this is self.computed: <class 'numpy.ndarray'>\n",
      "[0. 0. 0. ... 0. 0. 0.]\n",
      "this is self.computed: <class 'numpy.ndarray'>\n",
      "[-0.02886678 -0.03704912 -0.03563701 ... -0.51881266 -0.59489936\n",
      " -0.4566249 ]\n",
      "this is self.computed: <class 'numpy.ndarray'>\n",
      "[ 0.          0.          0.         ... -0.02878834 -0.02798919\n",
      " -0.01940543]\n",
      "this is self.computed: <class 'numpy.ndarray'>\n",
      "[0.15637994 0.17791215 0.15492642 ... 0.2535508  0.29268706 0.22717848]\n",
      "this is self.computed: <class 'numpy.ndarray'>\n",
      "[-0.20796046 -0.22454046 -0.19546099 ...  0.01438251 -0.02411033\n",
      " -0.03441955]\n",
      "this is self.computed: <class 'numpy.ndarray'>\n",
      "[-0.4624086  -0.59260654 -0.4745968  ...  0.15054724  0.17857435\n",
      "  0.14376025]\n",
      "1/1 [==============================] - 0s 210ms/step\n",
      "1/1 [==============================] - 0s 26ms/step\n",
      "1/1 [==============================] - 0s 24ms/step\n",
      "1/1 [==============================] - 0s 24ms/step\n",
      "1/1 [==============================] - 0s 24ms/step\n",
      "1/1 [==============================] - 0s 24ms/step\n",
      "1/1 [==============================] - 0s 25ms/step\n",
      "1/1 [==============================] - 0s 26ms/step\n",
      "1/1 [==============================] - 0s 25ms/step\n",
      "1/1 [==============================] - 0s 25ms/step\n",
      "1/1 [==============================] - 0s 24ms/step\n",
      "surah73_part1.mp3 Ajam\n",
      "MoviePy - Writing audio in temporary/clip1.mp3\n"
     ]
    },
    {
     "name": "stderr",
     "output_type": "stream",
     "text": [
      "                                                                                                                \r"
     ]
    },
    {
     "name": "stdout",
     "output_type": "stream",
     "text": [
      "MoviePy - Done.\n",
      "MoviePy - Writing audio in temporary/clip2.mp3\n"
     ]
    },
    {
     "name": "stderr",
     "output_type": "stream",
     "text": [
      "                                                                                                                \r"
     ]
    },
    {
     "name": "stdout",
     "output_type": "stream",
     "text": [
      "MoviePy - Done.\n",
      "MoviePy - Writing audio in temporary/clip3.mp3\n"
     ]
    },
    {
     "name": "stderr",
     "output_type": "stream",
     "text": [
      "                                                                                                                \r"
     ]
    },
    {
     "name": "stdout",
     "output_type": "stream",
     "text": [
      "MoviePy - Done.\n",
      "MoviePy - Writing audio in temporary/clip4.mp3\n"
     ]
    },
    {
     "name": "stderr",
     "output_type": "stream",
     "text": [
      "                                                                                                                \r"
     ]
    },
    {
     "name": "stdout",
     "output_type": "stream",
     "text": [
      "MoviePy - Done.\n",
      "MoviePy - Writing audio in temporary/clip5.mp3\n"
     ]
    },
    {
     "name": "stderr",
     "output_type": "stream",
     "text": [
      "                                                                                                                \r"
     ]
    },
    {
     "name": "stdout",
     "output_type": "stream",
     "text": [
      "MoviePy - Done.\n",
      "MoviePy - Writing audio in temporary/clip6.mp3\n"
     ]
    },
    {
     "name": "stderr",
     "output_type": "stream",
     "text": [
      "                                                                                                                \r"
     ]
    },
    {
     "name": "stdout",
     "output_type": "stream",
     "text": [
      "MoviePy - Done.\n",
      "MoviePy - Writing audio in temporary/clip7.mp3\n"
     ]
    },
    {
     "name": "stderr",
     "output_type": "stream",
     "text": [
      "                                                                                                                \r"
     ]
    },
    {
     "name": "stdout",
     "output_type": "stream",
     "text": [
      "MoviePy - Done.\n",
      "MoviePy - Writing audio in temporary/clip8.mp3\n"
     ]
    },
    {
     "name": "stderr",
     "output_type": "stream",
     "text": [
      "                                                                                                                \r"
     ]
    },
    {
     "name": "stdout",
     "output_type": "stream",
     "text": [
      "MoviePy - Done.\n",
      "MoviePy - Writing audio in temporary/clip9.mp3\n"
     ]
    },
    {
     "name": "stderr",
     "output_type": "stream",
     "text": [
      "                                                                                                                \r"
     ]
    },
    {
     "name": "stdout",
     "output_type": "stream",
     "text": [
      "MoviePy - Done.\n",
      "this is self.computed: <class 'numpy.ndarray'>\n",
      "[0.00965889 0.02086276 0.02814852 ... 0.08767573 0.10965788 0.09122093]\n",
      "this is self.computed: <class 'numpy.ndarray'>\n",
      "[0.09405591 0.13374166 0.1449387  ... 0.25996947 0.26434544 0.17986974]\n",
      "this is self.computed: <class 'numpy.ndarray'>\n",
      "[ 0.33632714  0.40759975  0.3542269  ... -0.02602217 -0.01384258\n",
      " -0.00281104]\n",
      "this is self.computed: <class 'numpy.ndarray'>\n",
      "[ 0.13487764  0.20011121  0.21829419 ... -0.018859   -0.01931578\n",
      " -0.01363068]\n",
      "this is self.computed: <class 'numpy.ndarray'>\n",
      "[ 0.13289359  0.14066261  0.07521365 ... -0.46039063 -0.45226717\n",
      " -0.2999766 ]\n",
      "this is self.computed: <class 'numpy.ndarray'>\n",
      "[0.42787603 0.5364883  0.5472045  ... 0.04826272 0.08270878 0.07308806]\n",
      "this is self.computed: <class 'numpy.ndarray'>\n",
      "[0.26909176 0.35956597 0.3046335  ... 0.         0.         0.        ]\n",
      "this is self.computed: <class 'numpy.ndarray'>\n",
      "[-0.01184549 -0.01446189 -0.01444908 ...  0.38259625  0.42371866\n",
      "  0.3325426 ]\n",
      "this is self.computed: <class 'numpy.ndarray'>\n",
      "[-0.19664213 -0.2175292  -0.15604118 ...  0.31907523  0.37124234\n",
      "  0.28690135]\n",
      "1/1 [==============================] - 0s 212ms/step\n",
      "1/1 [==============================] - 0s 26ms/step\n",
      "1/1 [==============================] - 0s 25ms/step\n",
      "1/1 [==============================] - 0s 26ms/step\n",
      "1/1 [==============================] - 0s 26ms/step\n",
      "1/1 [==============================] - 0s 24ms/step\n",
      "1/1 [==============================] - 0s 26ms/step\n",
      "1/1 [==============================] - 0s 25ms/step\n",
      "1/1 [==============================] - 0s 24ms/step\n",
      "surah38_part3.mp3 Bayat\n",
      "MoviePy - Writing audio in temporary/clip1.mp3\n"
     ]
    },
    {
     "name": "stderr",
     "output_type": "stream",
     "text": [
      "                                                                                                                \r"
     ]
    },
    {
     "name": "stdout",
     "output_type": "stream",
     "text": [
      "MoviePy - Done.\n",
      "MoviePy - Writing audio in temporary/clip2.mp3\n"
     ]
    },
    {
     "name": "stderr",
     "output_type": "stream",
     "text": [
      "                                                                                                                \r"
     ]
    },
    {
     "name": "stdout",
     "output_type": "stream",
     "text": [
      "MoviePy - Done.\n",
      "MoviePy - Writing audio in temporary/clip3.mp3\n"
     ]
    },
    {
     "name": "stderr",
     "output_type": "stream",
     "text": [
      "                                                                                                                \r"
     ]
    },
    {
     "name": "stdout",
     "output_type": "stream",
     "text": [
      "MoviePy - Done.\n",
      "MoviePy - Writing audio in temporary/clip4.mp3\n"
     ]
    },
    {
     "name": "stderr",
     "output_type": "stream",
     "text": [
      "                                                                                                                \r"
     ]
    },
    {
     "name": "stdout",
     "output_type": "stream",
     "text": [
      "MoviePy - Done.\n",
      "MoviePy - Writing audio in temporary/clip5.mp3\n"
     ]
    },
    {
     "name": "stderr",
     "output_type": "stream",
     "text": [
      "                                                                                                                \r"
     ]
    },
    {
     "name": "stdout",
     "output_type": "stream",
     "text": [
      "MoviePy - Done.\n",
      "MoviePy - Writing audio in temporary/clip6.mp3\n"
     ]
    },
    {
     "name": "stderr",
     "output_type": "stream",
     "text": [
      "                                                                                                                \r"
     ]
    },
    {
     "name": "stdout",
     "output_type": "stream",
     "text": [
      "MoviePy - Done.\n",
      "MoviePy - Writing audio in temporary/clip7.mp3\n"
     ]
    },
    {
     "name": "stderr",
     "output_type": "stream",
     "text": [
      "                                                                                                                \r"
     ]
    },
    {
     "name": "stdout",
     "output_type": "stream",
     "text": [
      "MoviePy - Done.\n",
      "MoviePy - Writing audio in temporary/clip8.mp3\n"
     ]
    },
    {
     "name": "stderr",
     "output_type": "stream",
     "text": [
      "                                                                                                                \r"
     ]
    },
    {
     "name": "stdout",
     "output_type": "stream",
     "text": [
      "MoviePy - Done.\n",
      "MoviePy - Writing audio in temporary/clip9.mp3\n"
     ]
    },
    {
     "name": "stderr",
     "output_type": "stream",
     "text": [
      "                                                                                                                \r"
     ]
    },
    {
     "name": "stdout",
     "output_type": "stream",
     "text": [
      "MoviePy - Done.\n",
      "MoviePy - Writing audio in temporary/clip10.mp3\n"
     ]
    },
    {
     "name": "stderr",
     "output_type": "stream",
     "text": [
      "                                                                                                                \r"
     ]
    },
    {
     "name": "stdout",
     "output_type": "stream",
     "text": [
      "MoviePy - Done.\n",
      "MoviePy - Writing audio in temporary/clip11.mp3\n"
     ]
    },
    {
     "name": "stderr",
     "output_type": "stream",
     "text": [
      "                                                                                                                \r"
     ]
    },
    {
     "name": "stdout",
     "output_type": "stream",
     "text": [
      "MoviePy - Done.\n",
      "MoviePy - Writing audio in temporary/clip12.mp3\n"
     ]
    },
    {
     "name": "stderr",
     "output_type": "stream",
     "text": [
      "                                                                                                                \r"
     ]
    },
    {
     "name": "stdout",
     "output_type": "stream",
     "text": [
      "MoviePy - Done.\n",
      "this is self.computed: <class 'numpy.ndarray'>\n",
      "[ 0.18499762  0.22202857  0.22160146 ... -0.2174778  -0.25106353\n",
      " -0.19894555]\n",
      "this is self.computed: <class 'numpy.ndarray'>\n",
      "[-0.19263932 -0.23458752 -0.19589058 ... -0.32634422 -0.42382824\n",
      " -0.36576372]\n",
      "this is self.computed: <class 'numpy.ndarray'>\n",
      "[-0.24463704 -0.32998842 -0.26939258 ... -0.15919182 -0.13567263\n",
      " -0.07849276]\n",
      "this is self.computed: <class 'numpy.ndarray'>\n",
      "[-0.20714268 -0.2236317  -0.13259794 ...  0.19097823  0.25156617\n",
      "  0.20511888]\n",
      "this is self.computed: <class 'numpy.ndarray'>\n",
      "[-0.24369538 -0.33486575 -0.30829236 ...  0.39769453  0.4617107\n",
      "  0.35724372]\n",
      "this is self.computed: <class 'numpy.ndarray'>\n",
      "[-0.04362585 -0.05546829 -0.03032029 ...  0.35601306  0.43661678\n",
      "  0.3492882 ]\n",
      "this is self.computed: <class 'numpy.ndarray'>\n",
      "[-0.38701057 -0.5136438  -0.4568398  ... -0.05316941 -0.09594834\n",
      " -0.07921235]\n",
      "this is self.computed: <class 'numpy.ndarray'>\n",
      "[ 0.38308376  0.5056331   0.4646835  ... -0.00449455 -0.00513796\n",
      " -0.00376228]\n",
      "this is self.computed: <class 'numpy.ndarray'>\n",
      "[ 0.34699053  0.43696967  0.33264208 ... -0.2277532  -0.2928316\n",
      " -0.23857859]\n",
      "this is self.computed: <class 'numpy.ndarray'>\n",
      "[ 0.31560495  0.45042503  0.47729284 ... -0.2684682  -0.3181945\n",
      " -0.25250587]\n",
      "this is self.computed: <class 'numpy.ndarray'>\n",
      "[ 0.34582424  0.40532535  0.35942388 ... -0.24077407 -0.2695318\n",
      " -0.20302278]\n",
      "this is self.computed: <class 'numpy.ndarray'>\n",
      "[-0.06315194 -0.10858297 -0.12383487 ...  0.26340616  0.36707872\n",
      "  0.310452  ]\n",
      "1/1 [==============================] - 0s 223ms/step\n",
      "1/1 [==============================] - 0s 26ms/step\n",
      "1/1 [==============================] - 0s 24ms/step\n",
      "1/1 [==============================] - 0s 24ms/step\n",
      "1/1 [==============================] - 0s 24ms/step\n",
      "1/1 [==============================] - 0s 24ms/step\n",
      "1/1 [==============================] - 0s 26ms/step\n",
      "1/1 [==============================] - 0s 25ms/step\n",
      "1/1 [==============================] - 0s 25ms/step\n",
      "1/1 [==============================] - 0s 24ms/step\n",
      "1/1 [==============================] - 0s 24ms/step\n",
      "1/1 [==============================] - 0s 24ms/step\n",
      "surah20_part3.mp3 Seekah\n",
      "MoviePy - Writing audio in temporary/clip1.mp3\n"
     ]
    },
    {
     "name": "stderr",
     "output_type": "stream",
     "text": [
      "                                                                                                                \r"
     ]
    },
    {
     "name": "stdout",
     "output_type": "stream",
     "text": [
      "MoviePy - Done.\n",
      "MoviePy - Writing audio in temporary/clip2.mp3\n"
     ]
    },
    {
     "name": "stderr",
     "output_type": "stream",
     "text": [
      "                                                                                                                \r"
     ]
    },
    {
     "name": "stdout",
     "output_type": "stream",
     "text": [
      "MoviePy - Done.\n",
      "MoviePy - Writing audio in temporary/clip3.mp3\n"
     ]
    },
    {
     "name": "stderr",
     "output_type": "stream",
     "text": [
      "                                                                                                                \r"
     ]
    },
    {
     "name": "stdout",
     "output_type": "stream",
     "text": [
      "MoviePy - Done.\n",
      "MoviePy - Writing audio in temporary/clip4.mp3\n"
     ]
    },
    {
     "name": "stderr",
     "output_type": "stream",
     "text": [
      "                                                                                                                \r"
     ]
    },
    {
     "name": "stdout",
     "output_type": "stream",
     "text": [
      "MoviePy - Done.\n",
      "MoviePy - Writing audio in temporary/clip5.mp3\n"
     ]
    },
    {
     "name": "stderr",
     "output_type": "stream",
     "text": [
      "                                                                                                                \r"
     ]
    },
    {
     "name": "stdout",
     "output_type": "stream",
     "text": [
      "MoviePy - Done.\n",
      "MoviePy - Writing audio in temporary/clip6.mp3\n"
     ]
    },
    {
     "name": "stderr",
     "output_type": "stream",
     "text": [
      "                                                                                                                \r"
     ]
    },
    {
     "name": "stdout",
     "output_type": "stream",
     "text": [
      "MoviePy - Done.\n",
      "MoviePy - Writing audio in temporary/clip7.mp3\n"
     ]
    },
    {
     "name": "stderr",
     "output_type": "stream",
     "text": [
      "                                                                                                                \r"
     ]
    },
    {
     "name": "stdout",
     "output_type": "stream",
     "text": [
      "MoviePy - Done.\n",
      "MoviePy - Writing audio in temporary/clip8.mp3\n"
     ]
    },
    {
     "name": "stderr",
     "output_type": "stream",
     "text": [
      "                                                                                                                \r"
     ]
    },
    {
     "name": "stdout",
     "output_type": "stream",
     "text": [
      "MoviePy - Done.\n",
      "MoviePy - Writing audio in temporary/clip9.mp3\n"
     ]
    },
    {
     "name": "stderr",
     "output_type": "stream",
     "text": [
      "                                                                                                                \r"
     ]
    },
    {
     "name": "stdout",
     "output_type": "stream",
     "text": [
      "MoviePy - Done.\n",
      "MoviePy - Writing audio in temporary/clip10.mp3\n"
     ]
    },
    {
     "name": "stderr",
     "output_type": "stream",
     "text": [
      "                                                                                                                \r"
     ]
    },
    {
     "name": "stdout",
     "output_type": "stream",
     "text": [
      "MoviePy - Done.\n",
      "MoviePy - Writing audio in temporary/clip11.mp3\n"
     ]
    },
    {
     "name": "stderr",
     "output_type": "stream",
     "text": [
      "                                                                                                                \r"
     ]
    },
    {
     "name": "stdout",
     "output_type": "stream",
     "text": [
      "MoviePy - Done.\n",
      "MoviePy - Writing audio in temporary/clip12.mp3\n"
     ]
    },
    {
     "name": "stderr",
     "output_type": "stream",
     "text": [
      "                                                                                                                \r"
     ]
    },
    {
     "name": "stdout",
     "output_type": "stream",
     "text": [
      "MoviePy - Done.\n",
      "MoviePy - Writing audio in temporary/clip13.mp3\n"
     ]
    },
    {
     "name": "stderr",
     "output_type": "stream",
     "text": [
      "                                                                                                                \r"
     ]
    },
    {
     "name": "stdout",
     "output_type": "stream",
     "text": [
      "MoviePy - Done.\n",
      "MoviePy - Writing audio in temporary/clip14.mp3\n"
     ]
    },
    {
     "name": "stderr",
     "output_type": "stream",
     "text": [
      "                                                                                                                \r"
     ]
    },
    {
     "name": "stdout",
     "output_type": "stream",
     "text": [
      "MoviePy - Done.\n",
      "this is self.computed: <class 'numpy.ndarray'>\n",
      "[-0.14166641 -0.20635456 -0.21106803 ...  0.23508483  0.24986912\n",
      "  0.18564242]\n",
      "this is self.computed: <class 'numpy.ndarray'>\n",
      "[0.1487814  0.19169226 0.15382826 ... 0.06848245 0.04106067 0.01591777]\n",
      "this is self.computed: <class 'numpy.ndarray'>\n",
      "[ 0.03633259  0.03905284  0.0254262  ... -0.10719552 -0.0288968\n",
      " -0.00386062]\n",
      "this is self.computed: <class 'numpy.ndarray'>\n",
      "[ 0.07897399  0.09965353  0.07395925 ... -0.15011442 -0.1946118\n",
      " -0.15844046]\n",
      "this is self.computed: <class 'numpy.ndarray'>\n",
      "[ 4.9750051e-03 -2.4729595e-04 -6.0208882e-03 ... -3.3272272e-01\n",
      " -4.3060583e-01 -3.7449461e-01]\n",
      "this is self.computed: <class 'numpy.ndarray'>\n",
      "[0.03933591 0.09874229 0.14108208 ... 0.09046352 0.07528497 0.04531976]\n",
      "this is self.computed: <class 'numpy.ndarray'>\n",
      "[-0.00692283 -0.02738854 -0.04962437 ...  0.3291831   0.3345562\n",
      "  0.23973924]\n",
      "this is self.computed: <class 'numpy.ndarray'>\n",
      "[ 0.01775464  0.0067737  -0.01556192 ...  0.48271197  0.5415498\n",
      "  0.408917  ]\n",
      "this is self.computed: <class 'numpy.ndarray'>\n",
      "[0.39499903 0.47908616 0.3834113  ... 0.11106458 0.12242161 0.09377572]\n",
      "this is self.computed: <class 'numpy.ndarray'>\n",
      "[-0.33057725 -0.4956462  -0.375912   ...  0.0115499   0.00639631\n",
      "  0.0061554 ]\n",
      "this is self.computed: <class 'numpy.ndarray'>\n",
      "[0.08040638 0.09682316 0.09259932 ... 0.62914836 0.79394484 0.6424995 ]\n",
      "this is self.computed: <class 'numpy.ndarray'>\n",
      "[-0.24916816 -0.24698076 -0.16464283 ...  0.04131586  0.05035193\n",
      "  0.03788302]\n",
      "this is self.computed: <class 'numpy.ndarray'>\n",
      "[-0.36189893 -0.5205604  -0.49834353 ...  0.07503937  0.09091006\n",
      "  0.07529335]\n",
      "this is self.computed: <class 'numpy.ndarray'>\n",
      "[ 0.21888627  0.2607753   0.18114875 ... -0.28226423 -0.34316176\n",
      " -0.27024505]\n",
      "1/1 [==============================] - 0s 211ms/step\n",
      "1/1 [==============================] - 0s 25ms/step\n",
      "1/1 [==============================] - 0s 26ms/step\n",
      "1/1 [==============================] - 0s 28ms/step\n",
      "1/1 [==============================] - 0s 25ms/step\n",
      "1/1 [==============================] - 0s 25ms/step\n",
      "1/1 [==============================] - 0s 24ms/step\n",
      "1/1 [==============================] - 0s 25ms/step\n",
      "1/1 [==============================] - 0s 26ms/step\n",
      "1/1 [==============================] - 0s 26ms/step\n",
      "1/1 [==============================] - 0s 25ms/step\n",
      "1/1 [==============================] - 0s 25ms/step\n",
      "1/1 [==============================] - 0s 26ms/step\n",
      "1/1 [==============================] - 0s 28ms/step\n",
      "surah9_part14.mp3 Hejaz\n",
      "MoviePy - Writing audio in temporary/clip1.mp3\n"
     ]
    },
    {
     "name": "stderr",
     "output_type": "stream",
     "text": [
      "                                                                                                                \r"
     ]
    },
    {
     "name": "stdout",
     "output_type": "stream",
     "text": [
      "MoviePy - Done.\n",
      "MoviePy - Writing audio in temporary/clip2.mp3\n"
     ]
    },
    {
     "name": "stderr",
     "output_type": "stream",
     "text": [
      "                                                                                                                \r"
     ]
    },
    {
     "name": "stdout",
     "output_type": "stream",
     "text": [
      "MoviePy - Done.\n",
      "MoviePy - Writing audio in temporary/clip3.mp3\n"
     ]
    },
    {
     "name": "stderr",
     "output_type": "stream",
     "text": [
      "                                                                                                                \r"
     ]
    },
    {
     "name": "stdout",
     "output_type": "stream",
     "text": [
      "MoviePy - Done.\n",
      "MoviePy - Writing audio in temporary/clip4.mp3\n"
     ]
    },
    {
     "name": "stderr",
     "output_type": "stream",
     "text": [
      "                                                                                                                \r"
     ]
    },
    {
     "name": "stdout",
     "output_type": "stream",
     "text": [
      "MoviePy - Done.\n",
      "MoviePy - Writing audio in temporary/clip5.mp3\n"
     ]
    },
    {
     "name": "stderr",
     "output_type": "stream",
     "text": [
      "                                                                                                                \r"
     ]
    },
    {
     "name": "stdout",
     "output_type": "stream",
     "text": [
      "MoviePy - Done.\n",
      "MoviePy - Writing audio in temporary/clip6.mp3\n"
     ]
    },
    {
     "name": "stderr",
     "output_type": "stream",
     "text": [
      "                                                                                                                \r"
     ]
    },
    {
     "name": "stdout",
     "output_type": "stream",
     "text": [
      "MoviePy - Done.\n",
      "MoviePy - Writing audio in temporary/clip7.mp3\n"
     ]
    },
    {
     "name": "stderr",
     "output_type": "stream",
     "text": [
      "                                                                                                                \r"
     ]
    },
    {
     "name": "stdout",
     "output_type": "stream",
     "text": [
      "MoviePy - Done.\n",
      "MoviePy - Writing audio in temporary/clip8.mp3\n"
     ]
    },
    {
     "name": "stderr",
     "output_type": "stream",
     "text": [
      "                                                                                                                \r"
     ]
    },
    {
     "name": "stdout",
     "output_type": "stream",
     "text": [
      "MoviePy - Done.\n",
      "MoviePy - Writing audio in temporary/clip9.mp3\n"
     ]
    },
    {
     "name": "stderr",
     "output_type": "stream",
     "text": [
      "                                                                                                                \r"
     ]
    },
    {
     "name": "stdout",
     "output_type": "stream",
     "text": [
      "MoviePy - Done.\n",
      "MoviePy - Writing audio in temporary/clip10.mp3\n"
     ]
    },
    {
     "name": "stderr",
     "output_type": "stream",
     "text": [
      "                                                                                                                \r"
     ]
    },
    {
     "name": "stdout",
     "output_type": "stream",
     "text": [
      "MoviePy - Done.\n",
      "MoviePy - Writing audio in temporary/clip11.mp3\n"
     ]
    },
    {
     "name": "stderr",
     "output_type": "stream",
     "text": [
      "                                                                                                                \r"
     ]
    },
    {
     "name": "stdout",
     "output_type": "stream",
     "text": [
      "MoviePy - Done.\n",
      "MoviePy - Writing audio in temporary/clip12.mp3\n"
     ]
    },
    {
     "name": "stderr",
     "output_type": "stream",
     "text": [
      "                                                                                                                \r"
     ]
    },
    {
     "name": "stdout",
     "output_type": "stream",
     "text": [
      "MoviePy - Done.\n",
      "MoviePy - Writing audio in temporary/clip13.mp3\n"
     ]
    },
    {
     "name": "stderr",
     "output_type": "stream",
     "text": [
      "                                                                                                                \r"
     ]
    },
    {
     "name": "stdout",
     "output_type": "stream",
     "text": [
      "MoviePy - Done.\n",
      "MoviePy - Writing audio in temporary/clip14.mp3\n"
     ]
    },
    {
     "name": "stderr",
     "output_type": "stream",
     "text": [
      "                                                                                                                \r"
     ]
    },
    {
     "name": "stdout",
     "output_type": "stream",
     "text": [
      "MoviePy - Done.\n",
      "MoviePy - Writing audio in temporary/clip15.mp3\n"
     ]
    },
    {
     "name": "stderr",
     "output_type": "stream",
     "text": [
      "                                                                                                                \r"
     ]
    },
    {
     "name": "stdout",
     "output_type": "stream",
     "text": [
      "MoviePy - Done.\n",
      "MoviePy - Writing audio in temporary/clip16.mp3\n"
     ]
    },
    {
     "name": "stderr",
     "output_type": "stream",
     "text": [
      "                                                                                                                \r"
     ]
    },
    {
     "name": "stdout",
     "output_type": "stream",
     "text": [
      "MoviePy - Done.\n",
      "MoviePy - Writing audio in temporary/clip17.mp3\n"
     ]
    },
    {
     "name": "stderr",
     "output_type": "stream",
     "text": [
      "                                                                                                                \r"
     ]
    },
    {
     "name": "stdout",
     "output_type": "stream",
     "text": [
      "MoviePy - Done.\n",
      "MoviePy - Writing audio in temporary/clip18.mp3\n"
     ]
    },
    {
     "name": "stderr",
     "output_type": "stream",
     "text": [
      "                                                                                                                \r"
     ]
    },
    {
     "name": "stdout",
     "output_type": "stream",
     "text": [
      "MoviePy - Done.\n",
      "MoviePy - Writing audio in temporary/clip19.mp3\n"
     ]
    },
    {
     "name": "stderr",
     "output_type": "stream",
     "text": [
      "                                                                                                                \r"
     ]
    },
    {
     "name": "stdout",
     "output_type": "stream",
     "text": [
      "MoviePy - Done.\n",
      "this is self.computed: <class 'numpy.ndarray'>\n",
      "[-0.00596678 -0.00863668 -0.00950141 ...  0.22371908  0.19888912\n",
      "  0.12508185]\n",
      "this is self.computed: <class 'numpy.ndarray'>\n",
      "[ 0.08807972  0.07207118  0.0127211  ... -0.66375005 -0.77810085\n",
      " -0.6147822 ]\n",
      "this is self.computed: <class 'numpy.ndarray'>\n",
      "[-0.12654436 -0.154602   -0.16555075 ... -0.16270031 -0.15944391\n",
      " -0.1138615 ]\n",
      "this is self.computed: <class 'numpy.ndarray'>\n",
      "[-0.10399073 -0.12694457 -0.08257515 ...  0.          0.\n",
      "  0.        ]\n",
      "this is self.computed: <class 'numpy.ndarray'>\n",
      "[-0.0104988  -0.01342008 -0.01194509 ... -0.09582619 -0.10836518\n",
      " -0.0789433 ]\n",
      "this is self.computed: <class 'numpy.ndarray'>\n",
      "[ 0.24270758  0.27631697  0.22327922 ... -0.00523542 -0.00669325\n",
      " -0.00566852]\n",
      "this is self.computed: <class 'numpy.ndarray'>\n",
      "[0. 0. 0. ... 0. 0. 0.]\n",
      "this is self.computed: <class 'numpy.ndarray'>\n",
      "[-3.2190498e-02 -1.5352100e-02  1.2167543e-04 ... -3.3429271e-01\n",
      " -3.2469863e-01 -2.3092549e-01]\n",
      "this is self.computed: <class 'numpy.ndarray'>\n",
      "[-0.12059395 -0.12827682 -0.11822819 ... -0.01950898  0.00269727\n",
      "  0.01005616]\n",
      "this is self.computed: <class 'numpy.ndarray'>\n",
      "[-0.5751704  -0.7137559  -0.60134083 ...  0.008536    0.01372232\n",
      "  0.01131266]\n",
      "this is self.computed: <class 'numpy.ndarray'>\n",
      "[ 0.00789082  0.00349155 -0.00449894 ... -0.16208926 -0.19993755\n",
      " -0.16321522]\n",
      "this is self.computed: <class 'numpy.ndarray'>\n",
      "[-0.15506887 -0.19325097 -0.17565484 ... -0.01696567 -0.0661675\n",
      " -0.06903686]\n",
      "this is self.computed: <class 'numpy.ndarray'>\n",
      "[ 0.24077109  0.36304122  0.30914342 ... -0.16949058 -0.13686106\n",
      " -0.08452961]\n",
      "this is self.computed: <class 'numpy.ndarray'>\n",
      "[ 0.00146871 -0.02479198 -0.05935006 ... -0.01215233 -0.01420829\n",
      " -0.01108064]\n",
      "this is self.computed: <class 'numpy.ndarray'>\n",
      "[ 0.46325147  0.58031213  0.4759959  ... -0.13657773 -0.1472716\n",
      " -0.10847556]\n",
      "this is self.computed: <class 'numpy.ndarray'>\n",
      "[ 0.05529123  0.06270056  0.05545467 ... -0.1017237  -0.15127078\n",
      " -0.126227  ]\n",
      "this is self.computed: <class 'numpy.ndarray'>\n",
      "[-0.22029328 -0.2748433  -0.22977433 ...  0.3103725   0.3467451\n",
      "  0.2647634 ]\n",
      "this is self.computed: <class 'numpy.ndarray'>\n",
      "[-0.05615225 -0.05965159 -0.02431023 ...  0.41935736  0.54310596\n",
      "  0.43931603]\n",
      "this is self.computed: <class 'numpy.ndarray'>\n",
      "[0.01141271 0.01796738 0.02321175 ... 0.04151123 0.05627734 0.04849902]\n",
      "1/1 [==============================] - 1s 718ms/step\n",
      "1/1 [==============================] - 0s 34ms/step\n",
      "1/1 [==============================] - 0s 33ms/step\n",
      "1/1 [==============================] - 0s 34ms/step\n",
      "1/1 [==============================] - 0s 35ms/step\n",
      "1/1 [==============================] - 0s 31ms/step\n",
      "1/1 [==============================] - 0s 31ms/step\n",
      "1/1 [==============================] - 0s 31ms/step\n",
      "1/1 [==============================] - 0s 32ms/step\n",
      "1/1 [==============================] - 0s 33ms/step\n",
      "1/1 [==============================] - 0s 31ms/step\n",
      "1/1 [==============================] - 0s 29ms/step\n",
      "1/1 [==============================] - 0s 32ms/step\n",
      "1/1 [==============================] - 0s 30ms/step\n",
      "1/1 [==============================] - 0s 29ms/step\n",
      "1/1 [==============================] - 0s 29ms/step\n",
      "1/1 [==============================] - 0s 29ms/step\n",
      "1/1 [==============================] - 0s 31ms/step\n",
      "1/1 [==============================] - 0s 32ms/step\n",
      "surah12_part6.mp3 Bayat\n",
      "MoviePy - Writing audio in temporary/clip1.mp3\n"
     ]
    },
    {
     "name": "stderr",
     "output_type": "stream",
     "text": [
      "                                                                                                                \r"
     ]
    },
    {
     "name": "stdout",
     "output_type": "stream",
     "text": [
      "MoviePy - Done.\n",
      "MoviePy - Writing audio in temporary/clip2.mp3\n"
     ]
    },
    {
     "name": "stderr",
     "output_type": "stream",
     "text": [
      "                                                                                                                \r"
     ]
    },
    {
     "name": "stdout",
     "output_type": "stream",
     "text": [
      "MoviePy - Done.\n",
      "MoviePy - Writing audio in temporary/clip3.mp3\n"
     ]
    },
    {
     "name": "stderr",
     "output_type": "stream",
     "text": [
      "                                                                                                                \r"
     ]
    },
    {
     "name": "stdout",
     "output_type": "stream",
     "text": [
      "MoviePy - Done.\n",
      "MoviePy - Writing audio in temporary/clip4.mp3\n"
     ]
    },
    {
     "name": "stderr",
     "output_type": "stream",
     "text": [
      "                                                                                                                \r"
     ]
    },
    {
     "name": "stdout",
     "output_type": "stream",
     "text": [
      "MoviePy - Done.\n",
      "MoviePy - Writing audio in temporary/clip5.mp3\n"
     ]
    },
    {
     "name": "stderr",
     "output_type": "stream",
     "text": [
      "                                                                                                                \r"
     ]
    },
    {
     "name": "stdout",
     "output_type": "stream",
     "text": [
      "MoviePy - Done.\n",
      "MoviePy - Writing audio in temporary/clip6.mp3\n"
     ]
    },
    {
     "name": "stderr",
     "output_type": "stream",
     "text": [
      "                                                                                                                \r"
     ]
    },
    {
     "name": "stdout",
     "output_type": "stream",
     "text": [
      "MoviePy - Done.\n",
      "MoviePy - Writing audio in temporary/clip7.mp3\n"
     ]
    },
    {
     "name": "stderr",
     "output_type": "stream",
     "text": [
      "                                                                                                                \r"
     ]
    },
    {
     "name": "stdout",
     "output_type": "stream",
     "text": [
      "MoviePy - Done.\n",
      "MoviePy - Writing audio in temporary/clip8.mp3\n"
     ]
    },
    {
     "name": "stderr",
     "output_type": "stream",
     "text": [
      "                                                                                                                \r"
     ]
    },
    {
     "name": "stdout",
     "output_type": "stream",
     "text": [
      "MoviePy - Done.\n",
      "MoviePy - Writing audio in temporary/clip9.mp3\n"
     ]
    },
    {
     "name": "stderr",
     "output_type": "stream",
     "text": [
      "                                                                                                                \r"
     ]
    },
    {
     "name": "stdout",
     "output_type": "stream",
     "text": [
      "MoviePy - Done.\n",
      "MoviePy - Writing audio in temporary/clip10.mp3\n"
     ]
    },
    {
     "name": "stderr",
     "output_type": "stream",
     "text": [
      "                                                                                                                \r"
     ]
    },
    {
     "name": "stdout",
     "output_type": "stream",
     "text": [
      "MoviePy - Done.\n",
      "MoviePy - Writing audio in temporary/clip11.mp3\n"
     ]
    },
    {
     "name": "stderr",
     "output_type": "stream",
     "text": [
      "                                                                                                                \r"
     ]
    },
    {
     "name": "stdout",
     "output_type": "stream",
     "text": [
      "MoviePy - Done.\n",
      "MoviePy - Writing audio in temporary/clip12.mp3\n"
     ]
    },
    {
     "name": "stderr",
     "output_type": "stream",
     "text": [
      "                                                                                                                \r"
     ]
    },
    {
     "name": "stdout",
     "output_type": "stream",
     "text": [
      "MoviePy - Done.\n",
      "MoviePy - Writing audio in temporary/clip13.mp3\n"
     ]
    },
    {
     "name": "stderr",
     "output_type": "stream",
     "text": [
      "                                                                                                                \r"
     ]
    },
    {
     "name": "stdout",
     "output_type": "stream",
     "text": [
      "MoviePy - Done.\n",
      "MoviePy - Writing audio in temporary/clip14.mp3\n"
     ]
    },
    {
     "name": "stderr",
     "output_type": "stream",
     "text": [
      "                                                                                                                \r"
     ]
    },
    {
     "name": "stdout",
     "output_type": "stream",
     "text": [
      "MoviePy - Done.\n",
      "MoviePy - Writing audio in temporary/clip15.mp3\n"
     ]
    },
    {
     "name": "stderr",
     "output_type": "stream",
     "text": [
      "                                                                                                                \r"
     ]
    },
    {
     "name": "stdout",
     "output_type": "stream",
     "text": [
      "MoviePy - Done.\n",
      "MoviePy - Writing audio in temporary/clip16.mp3\n"
     ]
    },
    {
     "name": "stderr",
     "output_type": "stream",
     "text": [
      "                                                                                                                \r"
     ]
    },
    {
     "name": "stdout",
     "output_type": "stream",
     "text": [
      "MoviePy - Done.\n",
      "MoviePy - Writing audio in temporary/clip17.mp3\n"
     ]
    },
    {
     "name": "stderr",
     "output_type": "stream",
     "text": [
      "                                                                                                                \r"
     ]
    },
    {
     "name": "stdout",
     "output_type": "stream",
     "text": [
      "MoviePy - Done.\n",
      "MoviePy - Writing audio in temporary/clip18.mp3\n"
     ]
    },
    {
     "name": "stderr",
     "output_type": "stream",
     "text": [
      "                                                                                                                \r"
     ]
    },
    {
     "name": "stdout",
     "output_type": "stream",
     "text": [
      "MoviePy - Done.\n",
      "MoviePy - Writing audio in temporary/clip19.mp3\n"
     ]
    },
    {
     "name": "stderr",
     "output_type": "stream",
     "text": [
      "                                                                                                                \r"
     ]
    },
    {
     "name": "stdout",
     "output_type": "stream",
     "text": [
      "MoviePy - Done.\n",
      "MoviePy - Writing audio in temporary/clip20.mp3\n"
     ]
    },
    {
     "name": "stderr",
     "output_type": "stream",
     "text": [
      "                                                                                                                \r"
     ]
    },
    {
     "name": "stdout",
     "output_type": "stream",
     "text": [
      "MoviePy - Done.\n",
      "this is self.computed: <class 'numpy.ndarray'>\n",
      "[-0.3909347  -0.46065146 -0.40592408 ... -0.41370487 -0.48070157\n",
      " -0.3720315 ]\n",
      "this is self.computed: <class 'numpy.ndarray'>\n",
      "[-0.36396617 -0.49517962 -0.4686504  ...  0.08923035  0.01223723\n",
      " -0.03932428]\n",
      "this is self.computed: <class 'numpy.ndarray'>\n",
      "[ 0.3988521   0.4920286   0.40259722 ... -0.10259579 -0.11201857\n",
      " -0.08724375]\n",
      "this is self.computed: <class 'numpy.ndarray'>\n",
      "[-0.00315045  0.00104189  0.00734258 ...  0.00878556  0.00045538\n",
      " -0.00583461]\n",
      "this is self.computed: <class 'numpy.ndarray'>\n",
      "[-0.25961414 -0.2717986  -0.10583954 ... -0.05561526 -0.08413832\n",
      " -0.07574998]\n",
      "this is self.computed: <class 'numpy.ndarray'>\n",
      "[-0.5870038  -0.7145275  -0.55259013 ... -0.5665053  -0.59220266\n",
      " -0.42052412]\n",
      "this is self.computed: <class 'numpy.ndarray'>\n",
      "[0.41922545 0.4945567  0.32606515 ... 0.00950338 0.0145372  0.01339176]\n",
      "this is self.computed: <class 'numpy.ndarray'>\n",
      "[-0.0191778  -0.03600645 -0.05476949 ...  0.5758967   0.64720666\n",
      "  0.47479838]\n",
      "this is self.computed: <class 'numpy.ndarray'>\n",
      "[0.49474323 0.68934727 0.6267692  ... 0.33941054 0.39489368 0.30702412]\n",
      "this is self.computed: <class 'numpy.ndarray'>\n",
      "[-0.06415267 -0.07359639 -0.05227809 ... -0.2523012  -0.29563853\n",
      " -0.2299358 ]\n",
      "this is self.computed: <class 'numpy.ndarray'>\n",
      "[-0.10050254 -0.15907544 -0.19154173 ...  0.44298756  0.4404141\n",
      "  0.3083734 ]\n",
      "this is self.computed: <class 'numpy.ndarray'>\n",
      "[-0.23506917 -0.30553597 -0.3054068  ...  0.6501225   0.73689616\n",
      "  0.56287456]\n",
      "this is self.computed: <class 'numpy.ndarray'>\n",
      "[ 0.5205792   0.663852    0.6226605  ... -0.4133265  -0.4902526\n",
      " -0.39443433]\n",
      "this is self.computed: <class 'numpy.ndarray'>\n",
      "[0.         0.         0.         ... 0.4964061  0.62256503 0.5047246 ]\n",
      "this is self.computed: <class 'numpy.ndarray'>\n",
      "[-0.39682633 -0.570873   -0.4872942  ... -0.3756503  -0.42409992\n",
      " -0.3134895 ]\n",
      "this is self.computed: <class 'numpy.ndarray'>\n",
      "[-0.47371602 -0.63082635 -0.6046109  ... -0.01693883 -0.01416631\n",
      " -0.0082056 ]\n",
      "this is self.computed: <class 'numpy.ndarray'>\n",
      "[-0.63336635 -0.824606   -0.6872915  ...  0.29569298  0.43037945\n",
      "  0.37999123]\n",
      "this is self.computed: <class 'numpy.ndarray'>\n",
      "[ 0.30172813  0.37040448  0.29093876 ... -0.62313867 -0.706573\n",
      " -0.526396  ]\n",
      "this is self.computed: <class 'numpy.ndarray'>\n",
      "[-0.07866199 -0.09998529 -0.08959724 ... -0.46900165 -0.5700544\n",
      " -0.45473343]\n",
      "this is self.computed: <class 'numpy.ndarray'>\n",
      "[ 0.26749283  0.33481702  0.22685733 ... -0.6431981  -0.76444554\n",
      " -0.6206115 ]\n",
      "1/1 [==============================] - 0s 265ms/step\n",
      "1/1 [==============================] - 0s 29ms/step\n",
      "1/1 [==============================] - 0s 27ms/step\n",
      "1/1 [==============================] - 0s 27ms/step\n",
      "1/1 [==============================] - 0s 27ms/step\n",
      "1/1 [==============================] - 0s 27ms/step\n",
      "1/1 [==============================] - 0s 30ms/step\n",
      "1/1 [==============================] - 0s 28ms/step\n",
      "1/1 [==============================] - 0s 30ms/step\n",
      "1/1 [==============================] - 0s 29ms/step\n",
      "1/1 [==============================] - 0s 28ms/step\n",
      "1/1 [==============================] - 0s 29ms/step\n",
      "1/1 [==============================] - 0s 28ms/step\n",
      "1/1 [==============================] - 0s 28ms/step\n",
      "1/1 [==============================] - 0s 27ms/step\n",
      "1/1 [==============================] - 0s 31ms/step\n",
      "1/1 [==============================] - 0s 31ms/step\n",
      "1/1 [==============================] - 0s 28ms/step\n",
      "1/1 [==============================] - 0s 27ms/step\n",
      "1/1 [==============================] - 0s 26ms/step\n",
      "surah28_part1.mp3 Hejaz\n",
      "MoviePy - Writing audio in temporary/clip1.mp3\n"
     ]
    },
    {
     "name": "stderr",
     "output_type": "stream",
     "text": [
      "                                                                                                                \r"
     ]
    },
    {
     "name": "stdout",
     "output_type": "stream",
     "text": [
      "MoviePy - Done.\n",
      "MoviePy - Writing audio in temporary/clip2.mp3\n"
     ]
    },
    {
     "name": "stderr",
     "output_type": "stream",
     "text": [
      "                                                                                                                \r"
     ]
    },
    {
     "name": "stdout",
     "output_type": "stream",
     "text": [
      "MoviePy - Done.\n",
      "MoviePy - Writing audio in temporary/clip3.mp3\n"
     ]
    },
    {
     "name": "stderr",
     "output_type": "stream",
     "text": [
      "                                                                                                                \r"
     ]
    },
    {
     "name": "stdout",
     "output_type": "stream",
     "text": [
      "MoviePy - Done.\n",
      "this is self.computed: <class 'numpy.ndarray'>\n",
      "[ 0.08972329  0.15745446  0.20117666 ... -0.17646351 -0.23896068\n",
      " -0.19754982]\n",
      "this is self.computed: <class 'numpy.ndarray'>\n",
      "[ 0.01638934  0.02242793  0.01497477 ... -0.0249156   0.02326879\n",
      "  0.05169423]\n",
      "this is self.computed: <class 'numpy.ndarray'>\n",
      "[-0.21126616 -0.2558145  -0.23312593 ... -0.01966849 -0.02341949\n",
      " -0.01889781]\n",
      "1/1 [==============================] - 0s 230ms/step\n",
      "1/1 [==============================] - 0s 25ms/step\n",
      "1/1 [==============================] - 0s 25ms/step\n",
      "surah7_part3.mp3 Hejaz\n",
      "MoviePy - Writing audio in temporary/clip1.mp3\n"
     ]
    },
    {
     "name": "stderr",
     "output_type": "stream",
     "text": [
      "                                                                                                                \r"
     ]
    },
    {
     "name": "stdout",
     "output_type": "stream",
     "text": [
      "MoviePy - Done.\n",
      "MoviePy - Writing audio in temporary/clip2.mp3\n"
     ]
    },
    {
     "name": "stderr",
     "output_type": "stream",
     "text": [
      "                                                                                                                \r"
     ]
    },
    {
     "name": "stdout",
     "output_type": "stream",
     "text": [
      "MoviePy - Done.\n",
      "MoviePy - Writing audio in temporary/clip3.mp3\n"
     ]
    },
    {
     "name": "stderr",
     "output_type": "stream",
     "text": [
      "                                                                                                                \r"
     ]
    },
    {
     "name": "stdout",
     "output_type": "stream",
     "text": [
      "MoviePy - Done.\n",
      "MoviePy - Writing audio in temporary/clip4.mp3\n"
     ]
    },
    {
     "name": "stderr",
     "output_type": "stream",
     "text": [
      "                                                                                                                \r"
     ]
    },
    {
     "name": "stdout",
     "output_type": "stream",
     "text": [
      "MoviePy - Done.\n",
      "MoviePy - Writing audio in temporary/clip5.mp3\n"
     ]
    },
    {
     "name": "stderr",
     "output_type": "stream",
     "text": [
      "                                                                                                                \r"
     ]
    },
    {
     "name": "stdout",
     "output_type": "stream",
     "text": [
      "MoviePy - Done.\n",
      "MoviePy - Writing audio in temporary/clip6.mp3\n"
     ]
    },
    {
     "name": "stderr",
     "output_type": "stream",
     "text": [
      "                                                                                                                \r"
     ]
    },
    {
     "name": "stdout",
     "output_type": "stream",
     "text": [
      "MoviePy - Done.\n",
      "MoviePy - Writing audio in temporary/clip7.mp3\n"
     ]
    },
    {
     "name": "stderr",
     "output_type": "stream",
     "text": [
      "                                                                                                                \r"
     ]
    },
    {
     "name": "stdout",
     "output_type": "stream",
     "text": [
      "MoviePy - Done.\n",
      "MoviePy - Writing audio in temporary/clip8.mp3\n"
     ]
    },
    {
     "name": "stderr",
     "output_type": "stream",
     "text": [
      "                                                                                                                \r"
     ]
    },
    {
     "name": "stdout",
     "output_type": "stream",
     "text": [
      "MoviePy - Done.\n",
      "MoviePy - Writing audio in temporary/clip9.mp3\n"
     ]
    },
    {
     "name": "stderr",
     "output_type": "stream",
     "text": [
      "                                                                                                                \r"
     ]
    },
    {
     "name": "stdout",
     "output_type": "stream",
     "text": [
      "MoviePy - Done.\n",
      "MoviePy - Writing audio in temporary/clip10.mp3\n"
     ]
    },
    {
     "name": "stderr",
     "output_type": "stream",
     "text": [
      "                                                                                                                \r"
     ]
    },
    {
     "name": "stdout",
     "output_type": "stream",
     "text": [
      "MoviePy - Done.\n",
      "MoviePy - Writing audio in temporary/clip11.mp3\n"
     ]
    },
    {
     "name": "stderr",
     "output_type": "stream",
     "text": [
      "                                                                                                                \r"
     ]
    },
    {
     "name": "stdout",
     "output_type": "stream",
     "text": [
      "MoviePy - Done.\n",
      "MoviePy - Writing audio in temporary/clip12.mp3\n"
     ]
    },
    {
     "name": "stderr",
     "output_type": "stream",
     "text": [
      "                                                                                                                \r"
     ]
    },
    {
     "name": "stdout",
     "output_type": "stream",
     "text": [
      "MoviePy - Done.\n",
      "MoviePy - Writing audio in temporary/clip13.mp3\n"
     ]
    },
    {
     "name": "stderr",
     "output_type": "stream",
     "text": [
      "                                                                                                                \r"
     ]
    },
    {
     "name": "stdout",
     "output_type": "stream",
     "text": [
      "MoviePy - Done.\n",
      "MoviePy - Writing audio in temporary/clip14.mp3\n"
     ]
    },
    {
     "name": "stderr",
     "output_type": "stream",
     "text": [
      "                                                                                                                \r"
     ]
    },
    {
     "name": "stdout",
     "output_type": "stream",
     "text": [
      "MoviePy - Done.\n",
      "this is self.computed: <class 'numpy.ndarray'>\n",
      "[0.05666019 0.06740685 0.0677767  ... 0.14666028 0.1705585  0.13111776]\n",
      "this is self.computed: <class 'numpy.ndarray'>\n",
      "[ 0.12899563  0.15788427  0.13344234 ... -0.10445395 -0.00889525\n",
      "  0.03623352]\n",
      "this is self.computed: <class 'numpy.ndarray'>\n",
      "[0.00564883 0.00307348 0.00069068 ... 0.43041158 0.45391196 0.34508532]\n",
      "this is self.computed: <class 'numpy.ndarray'>\n",
      "[0.16085404 0.20042656 0.15485123 ... 0.0294956  0.04915924 0.04416388]\n",
      "this is self.computed: <class 'numpy.ndarray'>\n",
      "[-0.40331382 -0.4860197  -0.3975489  ... -0.02129302 -0.0217848\n",
      " -0.01333959]\n",
      "this is self.computed: <class 'numpy.ndarray'>\n",
      "[ 0.3273121   0.37581965  0.33761346 ... -0.4833774  -0.5251585\n",
      " -0.39267647]\n",
      "this is self.computed: <class 'numpy.ndarray'>\n",
      "[0.07775282 0.09471667 0.06294778 ... 0.5840054  0.69215375 0.527444  ]\n",
      "this is self.computed: <class 'numpy.ndarray'>\n",
      "[-0.37485558 -0.40501523 -0.2520957  ...  0.34853613  0.37592512\n",
      "  0.28647295]\n",
      "this is self.computed: <class 'numpy.ndarray'>\n",
      "[0.23927814 0.28693742 0.19546269 ... 0.19114703 0.23760536 0.18932901]\n",
      "this is self.computed: <class 'numpy.ndarray'>\n",
      "[-0.5084264  -0.7922921  -0.5777254  ... -0.34009457 -0.46273476\n",
      " -0.37552637]\n",
      "this is self.computed: <class 'numpy.ndarray'>\n",
      "[0.22043723 0.29734787 0.27749047 ... 0.06316002 0.07775185 0.0622293 ]\n",
      "this is self.computed: <class 'numpy.ndarray'>\n",
      "[ 0.01087773  0.01892017  0.01027028 ... -0.01929655 -0.0129514\n",
      " -0.00392274]\n",
      "this is self.computed: <class 'numpy.ndarray'>\n",
      "[-0.01767008 -0.01656263 -0.00637895 ...  0.31847754  0.3201688\n",
      "  0.22804785]\n",
      "this is self.computed: <class 'numpy.ndarray'>\n",
      "[ 0.52831835  0.6277977   0.48652554 ... -0.00686811  0.00367991\n",
      "  0.00913415]\n",
      "1/1 [==============================] - 0s 234ms/step\n",
      "1/1 [==============================] - 0s 27ms/step\n",
      "1/1 [==============================] - 0s 26ms/step\n",
      "1/1 [==============================] - 0s 27ms/step\n",
      "1/1 [==============================] - 0s 27ms/step\n",
      "1/1 [==============================] - 0s 26ms/step\n",
      "1/1 [==============================] - 0s 28ms/step\n",
      "1/1 [==============================] - 0s 26ms/step\n",
      "1/1 [==============================] - 0s 26ms/step\n",
      "1/1 [==============================] - 0s 28ms/step\n",
      "1/1 [==============================] - 0s 28ms/step\n",
      "1/1 [==============================] - 0s 27ms/step\n",
      "1/1 [==============================] - 0s 27ms/step\n",
      "1/1 [==============================] - 0s 26ms/step\n",
      "surah6_part6.mp3 Hejaz\n",
      "MoviePy - Writing audio in temporary/clip1.mp3\n"
     ]
    },
    {
     "name": "stderr",
     "output_type": "stream",
     "text": [
      "                                                                                                                \r"
     ]
    },
    {
     "name": "stdout",
     "output_type": "stream",
     "text": [
      "MoviePy - Done.\n",
      "MoviePy - Writing audio in temporary/clip2.mp3\n"
     ]
    },
    {
     "name": "stderr",
     "output_type": "stream",
     "text": [
      "                                                                                                                \r"
     ]
    },
    {
     "name": "stdout",
     "output_type": "stream",
     "text": [
      "MoviePy - Done.\n",
      "MoviePy - Writing audio in temporary/clip3.mp3\n"
     ]
    },
    {
     "name": "stderr",
     "output_type": "stream",
     "text": [
      "                                                                                                                \r"
     ]
    },
    {
     "name": "stdout",
     "output_type": "stream",
     "text": [
      "MoviePy - Done.\n",
      "MoviePy - Writing audio in temporary/clip4.mp3\n"
     ]
    },
    {
     "name": "stderr",
     "output_type": "stream",
     "text": [
      "                                                                                                                \r"
     ]
    },
    {
     "name": "stdout",
     "output_type": "stream",
     "text": [
      "MoviePy - Done.\n",
      "MoviePy - Writing audio in temporary/clip5.mp3\n"
     ]
    },
    {
     "name": "stderr",
     "output_type": "stream",
     "text": [
      "                                                                                                                \r"
     ]
    },
    {
     "name": "stdout",
     "output_type": "stream",
     "text": [
      "MoviePy - Done.\n",
      "MoviePy - Writing audio in temporary/clip6.mp3\n"
     ]
    },
    {
     "name": "stderr",
     "output_type": "stream",
     "text": [
      "                                                                                                                \r"
     ]
    },
    {
     "name": "stdout",
     "output_type": "stream",
     "text": [
      "MoviePy - Done.\n",
      "MoviePy - Writing audio in temporary/clip7.mp3\n"
     ]
    },
    {
     "name": "stderr",
     "output_type": "stream",
     "text": [
      "                                                                                                                \r"
     ]
    },
    {
     "name": "stdout",
     "output_type": "stream",
     "text": [
      "MoviePy - Done.\n",
      "MoviePy - Writing audio in temporary/clip8.mp3\n"
     ]
    },
    {
     "name": "stderr",
     "output_type": "stream",
     "text": [
      "                                                                                                                \r"
     ]
    },
    {
     "name": "stdout",
     "output_type": "stream",
     "text": [
      "MoviePy - Done.\n",
      "MoviePy - Writing audio in temporary/clip9.mp3\n"
     ]
    },
    {
     "name": "stderr",
     "output_type": "stream",
     "text": [
      "                                                                                                                \r"
     ]
    },
    {
     "name": "stdout",
     "output_type": "stream",
     "text": [
      "MoviePy - Done.\n",
      "MoviePy - Writing audio in temporary/clip10.mp3\n"
     ]
    },
    {
     "name": "stderr",
     "output_type": "stream",
     "text": [
      "                                                                                                                \r"
     ]
    },
    {
     "name": "stdout",
     "output_type": "stream",
     "text": [
      "MoviePy - Done.\n",
      "MoviePy - Writing audio in temporary/clip11.mp3\n"
     ]
    },
    {
     "name": "stderr",
     "output_type": "stream",
     "text": [
      "                                                                                                                \r"
     ]
    },
    {
     "name": "stdout",
     "output_type": "stream",
     "text": [
      "MoviePy - Done.\n",
      "MoviePy - Writing audio in temporary/clip12.mp3\n"
     ]
    },
    {
     "name": "stderr",
     "output_type": "stream",
     "text": [
      "                                                                                                                \r"
     ]
    },
    {
     "name": "stdout",
     "output_type": "stream",
     "text": [
      "MoviePy - Done.\n",
      "MoviePy - Writing audio in temporary/clip13.mp3\n"
     ]
    },
    {
     "name": "stderr",
     "output_type": "stream",
     "text": [
      "                                                                                                                \r"
     ]
    },
    {
     "name": "stdout",
     "output_type": "stream",
     "text": [
      "MoviePy - Done.\n",
      "MoviePy - Writing audio in temporary/clip14.mp3\n"
     ]
    },
    {
     "name": "stderr",
     "output_type": "stream",
     "text": [
      "                                                                                                                \r"
     ]
    },
    {
     "name": "stdout",
     "output_type": "stream",
     "text": [
      "MoviePy - Done.\n",
      "MoviePy - Writing audio in temporary/clip15.mp3\n"
     ]
    },
    {
     "name": "stderr",
     "output_type": "stream",
     "text": [
      "                                                                                                                \r"
     ]
    },
    {
     "name": "stdout",
     "output_type": "stream",
     "text": [
      "MoviePy - Done.\n",
      "MoviePy - Writing audio in temporary/clip16.mp3\n"
     ]
    },
    {
     "name": "stderr",
     "output_type": "stream",
     "text": [
      "                                                                                                                \r"
     ]
    },
    {
     "name": "stdout",
     "output_type": "stream",
     "text": [
      "MoviePy - Done.\n",
      "MoviePy - Writing audio in temporary/clip17.mp3\n"
     ]
    },
    {
     "name": "stderr",
     "output_type": "stream",
     "text": [
      "                                                                                                                \r"
     ]
    },
    {
     "name": "stdout",
     "output_type": "stream",
     "text": [
      "MoviePy - Done.\n",
      "MoviePy - Writing audio in temporary/clip18.mp3\n"
     ]
    },
    {
     "name": "stderr",
     "output_type": "stream",
     "text": [
      "                                                                                                                \r"
     ]
    },
    {
     "name": "stdout",
     "output_type": "stream",
     "text": [
      "MoviePy - Done.\n",
      "MoviePy - Writing audio in temporary/clip19.mp3\n"
     ]
    },
    {
     "name": "stderr",
     "output_type": "stream",
     "text": [
      "                                                                                                                \r"
     ]
    },
    {
     "name": "stdout",
     "output_type": "stream",
     "text": [
      "MoviePy - Done.\n",
      "MoviePy - Writing audio in temporary/clip20.mp3\n"
     ]
    },
    {
     "name": "stderr",
     "output_type": "stream",
     "text": [
      "                                                                                                                \r"
     ]
    },
    {
     "name": "stdout",
     "output_type": "stream",
     "text": [
      "MoviePy - Done.\n",
      "MoviePy - Writing audio in temporary/clip21.mp3\n"
     ]
    },
    {
     "name": "stderr",
     "output_type": "stream",
     "text": [
      "                                                                                                                \r"
     ]
    },
    {
     "name": "stdout",
     "output_type": "stream",
     "text": [
      "MoviePy - Done.\n",
      "MoviePy - Writing audio in temporary/clip22.mp3\n"
     ]
    },
    {
     "name": "stderr",
     "output_type": "stream",
     "text": [
      "                                                                                                                \r"
     ]
    },
    {
     "name": "stdout",
     "output_type": "stream",
     "text": [
      "MoviePy - Done.\n",
      "MoviePy - Writing audio in temporary/clip23.mp3\n"
     ]
    },
    {
     "name": "stderr",
     "output_type": "stream",
     "text": [
      "                                                                                                                \r"
     ]
    },
    {
     "name": "stdout",
     "output_type": "stream",
     "text": [
      "MoviePy - Done.\n",
      "MoviePy - Writing audio in temporary/clip24.mp3\n"
     ]
    },
    {
     "name": "stderr",
     "output_type": "stream",
     "text": [
      "                                                                                                                \r"
     ]
    },
    {
     "name": "stdout",
     "output_type": "stream",
     "text": [
      "MoviePy - Done.\n",
      "MoviePy - Writing audio in temporary/clip25.mp3\n"
     ]
    },
    {
     "name": "stderr",
     "output_type": "stream",
     "text": [
      "                                                                                                                \r"
     ]
    },
    {
     "name": "stdout",
     "output_type": "stream",
     "text": [
      "MoviePy - Done.\n",
      "MoviePy - Writing audio in temporary/clip26.mp3\n"
     ]
    },
    {
     "name": "stderr",
     "output_type": "stream",
     "text": [
      "                                                                                                                \r"
     ]
    },
    {
     "name": "stdout",
     "output_type": "stream",
     "text": [
      "MoviePy - Done.\n",
      "MoviePy - Writing audio in temporary/clip27.mp3\n"
     ]
    },
    {
     "name": "stderr",
     "output_type": "stream",
     "text": [
      "                                                                                                                \r"
     ]
    },
    {
     "name": "stdout",
     "output_type": "stream",
     "text": [
      "MoviePy - Done.\n",
      "MoviePy - Writing audio in temporary/clip28.mp3\n"
     ]
    },
    {
     "name": "stderr",
     "output_type": "stream",
     "text": [
      "                                                                                                                \r"
     ]
    },
    {
     "name": "stdout",
     "output_type": "stream",
     "text": [
      "MoviePy - Done.\n",
      "MoviePy - Writing audio in temporary/clip29.mp3\n"
     ]
    },
    {
     "name": "stderr",
     "output_type": "stream",
     "text": [
      "                                                                                                                \r"
     ]
    },
    {
     "name": "stdout",
     "output_type": "stream",
     "text": [
      "MoviePy - Done.\n",
      "this is self.computed: <class 'numpy.ndarray'>\n",
      "[-0.03035118 -0.02373903  0.02653316 ...  0.19420624  0.23368075\n",
      "  0.19104591]\n",
      "this is self.computed: <class 'numpy.ndarray'>\n",
      "[0.16520199 0.2449258  0.21592245 ... 0.18623799 0.20480627 0.15498133]\n",
      "this is self.computed: <class 'numpy.ndarray'>\n",
      "[-0.08559382 -0.11374276 -0.08923472 ... -0.3987969  -0.36903155\n",
      " -0.25008774]\n",
      "this is self.computed: <class 'numpy.ndarray'>\n",
      "[-0.20452619 -0.23415264 -0.17486897 ... -0.01674088 -0.02111924\n",
      " -0.01760143]\n",
      "this is self.computed: <class 'numpy.ndarray'>\n",
      "[0.10529479 0.14017542 0.1171101  ... 0.21443483 0.20698065 0.1427297 ]\n",
      "this is self.computed: <class 'numpy.ndarray'>\n",
      "[-0.02178054 -0.02158967 -0.01370393 ...  0.22710486  0.26464444\n",
      "  0.20448606]\n",
      "this is self.computed: <class 'numpy.ndarray'>\n",
      "[-0.09420604 -0.12761843 -0.12679656 ... -0.02181985 -0.0286567\n",
      " -0.02493164]\n",
      "this is self.computed: <class 'numpy.ndarray'>\n",
      "[0.00202901 0.00779    0.01409915 ... 0.07324147 0.09940875 0.04273178]\n",
      "this is self.computed: <class 'numpy.ndarray'>\n",
      "[-0.03324462 -0.04817672 -0.05057864 ...  0.0774994   0.10257567\n",
      "  0.0852142 ]\n",
      "this is self.computed: <class 'numpy.ndarray'>\n",
      "[ 0.18232808  0.24217816  0.23162141 ... -0.02306729 -0.0385052\n",
      " -0.03526495]\n",
      "this is self.computed: <class 'numpy.ndarray'>\n",
      "[0.08197496 0.11367665 0.10555419 ... 0.44118437 0.47123957 0.35140732]\n",
      "this is self.computed: <class 'numpy.ndarray'>\n",
      "[-0.02566765 -0.0341614  -0.02876487 ... -0.06859526 -0.01110075\n",
      "  0.0357969 ]\n",
      "this is self.computed: <class 'numpy.ndarray'>\n",
      "[-0.03565374 -0.0627732  -0.08960447 ... -0.17433447 -0.22630824\n",
      " -0.18837376]\n",
      "this is self.computed: <class 'numpy.ndarray'>\n",
      "[-0.25020483 -0.319655   -0.31420994 ...  0.01080758  0.00728059\n",
      "  0.00377514]\n",
      "this is self.computed: <class 'numpy.ndarray'>\n",
      "[ 0.14307712  0.18058306  0.13999295 ... -0.11285481 -0.12510745\n",
      " -0.0944605 ]\n",
      "this is self.computed: <class 'numpy.ndarray'>\n",
      "[ 0.00024369 -0.0004177  -0.00181215 ... -0.2094335  -0.24011075\n",
      " -0.18079731]\n",
      "this is self.computed: <class 'numpy.ndarray'>\n",
      "[ 0.05821712  0.07132526  0.0622207  ...  0.04251805  0.00924675\n",
      " -0.01208857]\n",
      "this is self.computed: <class 'numpy.ndarray'>\n",
      "[ 0.33105797  0.40027738  0.31078497 ... -0.17789425 -0.21094453\n",
      " -0.1633372 ]\n",
      "this is self.computed: <class 'numpy.ndarray'>\n",
      "[-0.18130763 -0.2379452  -0.2036263  ... -0.18124674 -0.20434156\n",
      " -0.15684234]\n",
      "this is self.computed: <class 'numpy.ndarray'>\n",
      "[0.09150528 0.09286004 0.06790761 ... 0.06822903 0.0806901  0.0630273 ]\n",
      "this is self.computed: <class 'numpy.ndarray'>\n",
      "[-0.05779511 -0.0793616  -0.06981128 ... -0.06040336 -0.06101959\n",
      " -0.04018628]\n",
      "this is self.computed: <class 'numpy.ndarray'>\n",
      "[-0.16369188 -0.1884157  -0.14953916 ... -0.08283491 -0.10770911\n",
      " -0.08913583]\n",
      "this is self.computed: <class 'numpy.ndarray'>\n",
      "[ 0.3508355   0.4462247   0.3432447  ... -0.04070853 -0.03769756\n",
      " -0.02608144]\n",
      "this is self.computed: <class 'numpy.ndarray'>\n",
      "[-0.37483448 -0.4690264  -0.4133508  ... -0.06366895 -0.09072748\n",
      " -0.07627183]\n",
      "this is self.computed: <class 'numpy.ndarray'>\n",
      "[-0.03476136 -0.05666243 -0.07087164 ...  0.12009336  0.13369453\n",
      "  0.10120651]\n",
      "this is self.computed: <class 'numpy.ndarray'>\n",
      "[-0.16717744 -0.22788842 -0.19607481 ... -0.0121218  -0.02983366\n",
      " -0.02895076]\n",
      "this is self.computed: <class 'numpy.ndarray'>\n",
      "[ 0.04353977  0.06310778  0.05509103 ... -0.02658916 -0.02027428\n",
      " -0.00903701]\n",
      "this is self.computed: <class 'numpy.ndarray'>\n",
      "[-0.02430027 -0.0282546  -0.0256107  ...  0.39577985  0.47915772\n",
      "  0.36969727]\n",
      "this is self.computed: <class 'numpy.ndarray'>\n",
      "[-0.05307544 -0.04154159 -0.00357594 ... -0.41580755 -0.48050076\n",
      " -0.36972883]\n",
      "1/1 [==============================] - 0s 220ms/step\n",
      "1/1 [==============================] - 0s 25ms/step\n",
      "1/1 [==============================] - 0s 26ms/step\n",
      "1/1 [==============================] - 0s 26ms/step\n",
      "1/1 [==============================] - 0s 28ms/step\n",
      "1/1 [==============================] - 0s 25ms/step\n",
      "1/1 [==============================] - 0s 26ms/step\n",
      "1/1 [==============================] - 0s 27ms/step\n",
      "1/1 [==============================] - 0s 26ms/step\n",
      "1/1 [==============================] - 0s 26ms/step\n",
      "1/1 [==============================] - 0s 26ms/step\n",
      "1/1 [==============================] - 0s 25ms/step\n",
      "1/1 [==============================] - 0s 26ms/step\n",
      "1/1 [==============================] - 0s 27ms/step\n",
      "1/1 [==============================] - 0s 27ms/step\n",
      "1/1 [==============================] - 0s 28ms/step\n",
      "1/1 [==============================] - 0s 26ms/step\n",
      "1/1 [==============================] - 0s 25ms/step\n",
      "1/1 [==============================] - 0s 25ms/step\n",
      "1/1 [==============================] - 0s 25ms/step\n",
      "1/1 [==============================] - 0s 27ms/step\n",
      "1/1 [==============================] - 0s 26ms/step\n",
      "1/1 [==============================] - 0s 26ms/step\n",
      "1/1 [==============================] - 0s 27ms/step\n",
      "1/1 [==============================] - 0s 27ms/step\n",
      "1/1 [==============================] - 0s 25ms/step\n",
      "1/1 [==============================] - 0s 24ms/step\n",
      "1/1 [==============================] - 0s 25ms/step\n",
      "1/1 [==============================] - 0s 25ms/step\n",
      "surah3_part6.mp3 Nahawand\n",
      "MoviePy - Writing audio in temporary/clip1.mp3\n"
     ]
    },
    {
     "name": "stderr",
     "output_type": "stream",
     "text": [
      "                                                                                                                \r"
     ]
    },
    {
     "name": "stdout",
     "output_type": "stream",
     "text": [
      "MoviePy - Done.\n",
      "MoviePy - Writing audio in temporary/clip2.mp3\n"
     ]
    },
    {
     "name": "stderr",
     "output_type": "stream",
     "text": [
      "                                                                                                                \r"
     ]
    },
    {
     "name": "stdout",
     "output_type": "stream",
     "text": [
      "MoviePy - Done.\n",
      "MoviePy - Writing audio in temporary/clip3.mp3\n"
     ]
    },
    {
     "name": "stderr",
     "output_type": "stream",
     "text": [
      "                                                                                                                \r"
     ]
    },
    {
     "name": "stdout",
     "output_type": "stream",
     "text": [
      "MoviePy - Done.\n",
      "MoviePy - Writing audio in temporary/clip4.mp3\n"
     ]
    },
    {
     "name": "stderr",
     "output_type": "stream",
     "text": [
      "                                                                                                                \r"
     ]
    },
    {
     "name": "stdout",
     "output_type": "stream",
     "text": [
      "MoviePy - Done.\n",
      "MoviePy - Writing audio in temporary/clip5.mp3\n"
     ]
    },
    {
     "name": "stderr",
     "output_type": "stream",
     "text": [
      "                                                                                                                \r"
     ]
    },
    {
     "name": "stdout",
     "output_type": "stream",
     "text": [
      "MoviePy - Done.\n",
      "MoviePy - Writing audio in temporary/clip6.mp3\n"
     ]
    },
    {
     "name": "stderr",
     "output_type": "stream",
     "text": [
      "                                                                                                                \r"
     ]
    },
    {
     "name": "stdout",
     "output_type": "stream",
     "text": [
      "MoviePy - Done.\n",
      "MoviePy - Writing audio in temporary/clip7.mp3\n"
     ]
    },
    {
     "name": "stderr",
     "output_type": "stream",
     "text": [
      "                                                                                                                \r"
     ]
    },
    {
     "name": "stdout",
     "output_type": "stream",
     "text": [
      "MoviePy - Done.\n",
      "this is self.computed: <class 'numpy.ndarray'>\n",
      "[0.10299049 0.11389498 0.05912136 ... 0.660502   0.73036426 0.5412054 ]\n",
      "this is self.computed: <class 'numpy.ndarray'>\n",
      "[ 0.48666224  0.5663952   0.41824847 ... -0.12106451 -0.13041069\n",
      " -0.09468108]\n",
      "this is self.computed: <class 'numpy.ndarray'>\n",
      "[0.24121839 0.30355424 0.24746747 ... 0.19399875 0.18527526 0.12143479]\n",
      "this is self.computed: <class 'numpy.ndarray'>\n",
      "[0.01915894 0.0271047  0.02499578 ... 0.0687452  0.07658993 0.05794349]\n",
      "this is self.computed: <class 'numpy.ndarray'>\n",
      "[-0.09215025 -0.10559337 -0.07143021 ... -0.01540763 -0.01544487\n",
      " -0.01050447]\n",
      "this is self.computed: <class 'numpy.ndarray'>\n",
      "[-0.20978105 -0.31387946 -0.272475   ...  0.05411889  0.05627077\n",
      "  0.0390924 ]\n",
      "this is self.computed: <class 'numpy.ndarray'>\n",
      "[0.04736417 0.06013053 0.04861627 ... 0.2717709  0.31608075 0.24126014]\n",
      "1/1 [==============================] - 0s 215ms/step\n",
      "1/1 [==============================] - 0s 25ms/step\n",
      "1/1 [==============================] - 0s 25ms/step\n",
      "1/1 [==============================] - 0s 26ms/step\n",
      "1/1 [==============================] - 0s 26ms/step\n",
      "1/1 [==============================] - 0s 25ms/step\n",
      "1/1 [==============================] - 0s 24ms/step\n",
      "surah6_part5.mp3 Hejaz\n",
      "MoviePy - Writing audio in temporary/clip1.mp3\n"
     ]
    },
    {
     "name": "stderr",
     "output_type": "stream",
     "text": [
      "                                                                                                                \r"
     ]
    },
    {
     "name": "stdout",
     "output_type": "stream",
     "text": [
      "MoviePy - Done.\n",
      "MoviePy - Writing audio in temporary/clip2.mp3\n"
     ]
    },
    {
     "name": "stderr",
     "output_type": "stream",
     "text": [
      "                                                                                                                \r"
     ]
    },
    {
     "name": "stdout",
     "output_type": "stream",
     "text": [
      "MoviePy - Done.\n",
      "MoviePy - Writing audio in temporary/clip3.mp3\n"
     ]
    },
    {
     "name": "stderr",
     "output_type": "stream",
     "text": [
      "                                                                                                                \r"
     ]
    },
    {
     "name": "stdout",
     "output_type": "stream",
     "text": [
      "MoviePy - Done.\n",
      "MoviePy - Writing audio in temporary/clip4.mp3\n"
     ]
    },
    {
     "name": "stderr",
     "output_type": "stream",
     "text": [
      "                                                                                                                \r"
     ]
    },
    {
     "name": "stdout",
     "output_type": "stream",
     "text": [
      "MoviePy - Done.\n",
      "MoviePy - Writing audio in temporary/clip5.mp3\n"
     ]
    },
    {
     "name": "stderr",
     "output_type": "stream",
     "text": [
      "                                                                                                                \r"
     ]
    },
    {
     "name": "stdout",
     "output_type": "stream",
     "text": [
      "MoviePy - Done.\n",
      "MoviePy - Writing audio in temporary/clip6.mp3\n"
     ]
    },
    {
     "name": "stderr",
     "output_type": "stream",
     "text": [
      "                                                                                                                \r"
     ]
    },
    {
     "name": "stdout",
     "output_type": "stream",
     "text": [
      "MoviePy - Done.\n",
      "this is self.computed: <class 'numpy.ndarray'>\n",
      "[-0.25202608 -0.39812386 -0.4014681  ...  0.411116    0.46609357\n",
      "  0.34697968]\n",
      "this is self.computed: <class 'numpy.ndarray'>\n",
      "[ 0.3957793   0.4830026   0.38785094 ... -0.00318634 -0.0031458\n",
      " -0.00203947]\n",
      "this is self.computed: <class 'numpy.ndarray'>\n",
      "[-0.02806161 -0.03452608 -0.03202365 ... -0.18387558 -0.2675801\n",
      " -0.22955894]\n",
      "this is self.computed: <class 'numpy.ndarray'>\n",
      "[0.2822563  0.38409984 0.31663054 ... 0.11269808 0.12979874 0.10185662]\n",
      "this is self.computed: <class 'numpy.ndarray'>\n",
      "[-0.14150506 -0.20609024 -0.15023941 ...  0.32283035  0.37720245\n",
      "  0.28913292]\n",
      "this is self.computed: <class 'numpy.ndarray'>\n",
      "[ 0.09738684  0.12512937  0.11980905 ... -0.03061883 -0.03538145\n",
      " -0.02844176]\n",
      "1/1 [==============================] - 0s 219ms/step\n",
      "1/1 [==============================] - 0s 26ms/step\n",
      "1/1 [==============================] - 0s 25ms/step\n",
      "1/1 [==============================] - 0s 25ms/step\n",
      "1/1 [==============================] - 0s 25ms/step\n",
      "1/1 [==============================] - 0s 26ms/step\n",
      "surah25_part6.mp3 Hejaz\n",
      "MoviePy - Writing audio in temporary/clip1.mp3\n"
     ]
    },
    {
     "name": "stderr",
     "output_type": "stream",
     "text": [
      "                                                                                                                \r"
     ]
    },
    {
     "name": "stdout",
     "output_type": "stream",
     "text": [
      "MoviePy - Done.\n",
      "MoviePy - Writing audio in temporary/clip2.mp3\n"
     ]
    },
    {
     "name": "stderr",
     "output_type": "stream",
     "text": [
      "                                                                                                                \r"
     ]
    },
    {
     "name": "stdout",
     "output_type": "stream",
     "text": [
      "MoviePy - Done.\n",
      "MoviePy - Writing audio in temporary/clip3.mp3\n"
     ]
    },
    {
     "name": "stderr",
     "output_type": "stream",
     "text": [
      "                                                                                                                \r"
     ]
    },
    {
     "name": "stdout",
     "output_type": "stream",
     "text": [
      "MoviePy - Done.\n",
      "MoviePy - Writing audio in temporary/clip4.mp3\n"
     ]
    },
    {
     "name": "stderr",
     "output_type": "stream",
     "text": [
      "                                                                                                                \r"
     ]
    },
    {
     "name": "stdout",
     "output_type": "stream",
     "text": [
      "MoviePy - Done.\n",
      "MoviePy - Writing audio in temporary/clip5.mp3\n"
     ]
    },
    {
     "name": "stderr",
     "output_type": "stream",
     "text": [
      "                                                                                                                \r"
     ]
    },
    {
     "name": "stdout",
     "output_type": "stream",
     "text": [
      "MoviePy - Done.\n",
      "MoviePy - Writing audio in temporary/clip6.mp3\n"
     ]
    },
    {
     "name": "stderr",
     "output_type": "stream",
     "text": [
      "                                                                                                                \r"
     ]
    },
    {
     "name": "stdout",
     "output_type": "stream",
     "text": [
      "MoviePy - Done.\n",
      "MoviePy - Writing audio in temporary/clip7.mp3\n"
     ]
    },
    {
     "name": "stderr",
     "output_type": "stream",
     "text": [
      "                                                                                                                \r"
     ]
    },
    {
     "name": "stdout",
     "output_type": "stream",
     "text": [
      "MoviePy - Done.\n",
      "MoviePy - Writing audio in temporary/clip8.mp3\n"
     ]
    },
    {
     "name": "stderr",
     "output_type": "stream",
     "text": [
      "                                                                                                                \r"
     ]
    },
    {
     "name": "stdout",
     "output_type": "stream",
     "text": [
      "MoviePy - Done.\n",
      "this is self.computed: <class 'numpy.ndarray'>\n",
      "[-0.03880732 -0.05334207 -0.05732796 ...  0.23436442  0.2562036\n",
      "  0.18858178]\n",
      "this is self.computed: <class 'numpy.ndarray'>\n",
      "[0.18459882 0.21938197 0.17457388 ... 0.03078879 0.03771283 0.0298831 ]\n",
      "this is self.computed: <class 'numpy.ndarray'>\n",
      "[-0.15431991 -0.22849262 -0.22637588 ... -0.03008726 -0.03922604\n",
      " -0.03398914]\n",
      "this is self.computed: <class 'numpy.ndarray'>\n",
      "[0.04326631 0.05163368 0.04134611 ... 0.30823553 0.33718044 0.2523062 ]\n",
      "this is self.computed: <class 'numpy.ndarray'>\n",
      "[ 0.03041828  0.0408421   0.03413476 ... -0.00810003  0.03570854\n",
      "  0.04243076]\n",
      "this is self.computed: <class 'numpy.ndarray'>\n",
      "[0.         0.         0.         ... 0.05457628 0.061434   0.04681233]\n",
      "this is self.computed: <class 'numpy.ndarray'>\n",
      "[ 0.25945306  0.31899568  0.24941391 ... -0.10852969 -0.15855959\n",
      " -0.13742098]\n",
      "this is self.computed: <class 'numpy.ndarray'>\n",
      "[0.06440911 0.11445192 0.14717008 ... 0.         0.         0.        ]\n",
      "1/1 [==============================] - 0s 230ms/step\n",
      "1/1 [==============================] - 0s 30ms/step\n",
      "1/1 [==============================] - 0s 25ms/step\n",
      "1/1 [==============================] - 0s 25ms/step\n",
      "1/1 [==============================] - 0s 24ms/step\n",
      "1/1 [==============================] - 0s 25ms/step\n",
      "1/1 [==============================] - 0s 24ms/step\n",
      "1/1 [==============================] - 0s 26ms/step\n",
      "surah80_part1.mp3 Bayat\n",
      "MoviePy - Writing audio in temporary/clip1.mp3\n"
     ]
    },
    {
     "name": "stderr",
     "output_type": "stream",
     "text": [
      "                                                                                                                \r"
     ]
    },
    {
     "name": "stdout",
     "output_type": "stream",
     "text": [
      "MoviePy - Done.\n",
      "MoviePy - Writing audio in temporary/clip2.mp3\n"
     ]
    },
    {
     "name": "stderr",
     "output_type": "stream",
     "text": [
      "                                                                                                                \r"
     ]
    },
    {
     "name": "stdout",
     "output_type": "stream",
     "text": [
      "MoviePy - Done.\n",
      "MoviePy - Writing audio in temporary/clip3.mp3\n"
     ]
    },
    {
     "name": "stderr",
     "output_type": "stream",
     "text": [
      "                                                                                                                \r"
     ]
    },
    {
     "name": "stdout",
     "output_type": "stream",
     "text": [
      "MoviePy - Done.\n",
      "MoviePy - Writing audio in temporary/clip4.mp3\n"
     ]
    },
    {
     "name": "stderr",
     "output_type": "stream",
     "text": [
      "                                                                                                                \r"
     ]
    },
    {
     "name": "stdout",
     "output_type": "stream",
     "text": [
      "MoviePy - Done.\n",
      "MoviePy - Writing audio in temporary/clip5.mp3\n"
     ]
    },
    {
     "name": "stderr",
     "output_type": "stream",
     "text": [
      "                                                                                                                \r"
     ]
    },
    {
     "name": "stdout",
     "output_type": "stream",
     "text": [
      "MoviePy - Done.\n",
      "MoviePy - Writing audio in temporary/clip6.mp3\n"
     ]
    },
    {
     "name": "stderr",
     "output_type": "stream",
     "text": [
      "                                                                                                                \r"
     ]
    },
    {
     "name": "stdout",
     "output_type": "stream",
     "text": [
      "MoviePy - Done.\n",
      "MoviePy - Writing audio in temporary/clip7.mp3\n"
     ]
    },
    {
     "name": "stderr",
     "output_type": "stream",
     "text": [
      "                                                                                                                \r"
     ]
    },
    {
     "name": "stdout",
     "output_type": "stream",
     "text": [
      "MoviePy - Done.\n",
      "MoviePy - Writing audio in temporary/clip8.mp3\n"
     ]
    },
    {
     "name": "stderr",
     "output_type": "stream",
     "text": [
      "                                                                                                                \r"
     ]
    },
    {
     "name": "stdout",
     "output_type": "stream",
     "text": [
      "MoviePy - Done.\n",
      "MoviePy - Writing audio in temporary/clip9.mp3\n"
     ]
    },
    {
     "name": "stderr",
     "output_type": "stream",
     "text": [
      "                                                                                                                \r"
     ]
    },
    {
     "name": "stdout",
     "output_type": "stream",
     "text": [
      "MoviePy - Done.\n",
      "MoviePy - Writing audio in temporary/clip10.mp3\n"
     ]
    },
    {
     "name": "stderr",
     "output_type": "stream",
     "text": [
      "                                                                                                                \r"
     ]
    },
    {
     "name": "stdout",
     "output_type": "stream",
     "text": [
      "MoviePy - Done.\n",
      "MoviePy - Writing audio in temporary/clip11.mp3\n"
     ]
    },
    {
     "name": "stderr",
     "output_type": "stream",
     "text": [
      "                                                                                                                \r"
     ]
    },
    {
     "name": "stdout",
     "output_type": "stream",
     "text": [
      "MoviePy - Done.\n",
      "MoviePy - Writing audio in temporary/clip12.mp3\n"
     ]
    },
    {
     "name": "stderr",
     "output_type": "stream",
     "text": [
      "                                                                                                                \r"
     ]
    },
    {
     "name": "stdout",
     "output_type": "stream",
     "text": [
      "MoviePy - Done.\n",
      "MoviePy - Writing audio in temporary/clip13.mp3\n"
     ]
    },
    {
     "name": "stderr",
     "output_type": "stream",
     "text": [
      "                                                                                                                \r"
     ]
    },
    {
     "name": "stdout",
     "output_type": "stream",
     "text": [
      "MoviePy - Done.\n",
      "MoviePy - Writing audio in temporary/clip14.mp3\n"
     ]
    },
    {
     "name": "stderr",
     "output_type": "stream",
     "text": [
      "                                                                                                                \r"
     ]
    },
    {
     "name": "stdout",
     "output_type": "stream",
     "text": [
      "MoviePy - Done.\n",
      "MoviePy - Writing audio in temporary/clip15.mp3\n"
     ]
    },
    {
     "name": "stderr",
     "output_type": "stream",
     "text": [
      "                                                                                                                \r"
     ]
    },
    {
     "name": "stdout",
     "output_type": "stream",
     "text": [
      "MoviePy - Done.\n",
      "MoviePy - Writing audio in temporary/clip16.mp3\n"
     ]
    },
    {
     "name": "stderr",
     "output_type": "stream",
     "text": [
      "                                                                                                                \r"
     ]
    },
    {
     "name": "stdout",
     "output_type": "stream",
     "text": [
      "MoviePy - Done.\n",
      "MoviePy - Writing audio in temporary/clip17.mp3\n"
     ]
    },
    {
     "name": "stderr",
     "output_type": "stream",
     "text": [
      "                                                                                                                \r"
     ]
    },
    {
     "name": "stdout",
     "output_type": "stream",
     "text": [
      "MoviePy - Done.\n",
      "MoviePy - Writing audio in temporary/clip18.mp3\n"
     ]
    },
    {
     "name": "stderr",
     "output_type": "stream",
     "text": [
      "                                                                                                                \r"
     ]
    },
    {
     "name": "stdout",
     "output_type": "stream",
     "text": [
      "MoviePy - Done.\n",
      "MoviePy - Writing audio in temporary/clip19.mp3\n"
     ]
    },
    {
     "name": "stderr",
     "output_type": "stream",
     "text": [
      "                                                                                                                \r"
     ]
    },
    {
     "name": "stdout",
     "output_type": "stream",
     "text": [
      "MoviePy - Done.\n",
      "MoviePy - Writing audio in temporary/clip20.mp3\n"
     ]
    },
    {
     "name": "stderr",
     "output_type": "stream",
     "text": [
      "                                                                                                                \r"
     ]
    },
    {
     "name": "stdout",
     "output_type": "stream",
     "text": [
      "MoviePy - Done.\n",
      "MoviePy - Writing audio in temporary/clip21.mp3\n"
     ]
    },
    {
     "name": "stderr",
     "output_type": "stream",
     "text": [
      "                                                                                                                \r"
     ]
    },
    {
     "name": "stdout",
     "output_type": "stream",
     "text": [
      "MoviePy - Done.\n",
      "MoviePy - Writing audio in temporary/clip22.mp3\n"
     ]
    },
    {
     "name": "stderr",
     "output_type": "stream",
     "text": [
      "                                                                                                                \r"
     ]
    },
    {
     "name": "stdout",
     "output_type": "stream",
     "text": [
      "MoviePy - Done.\n",
      "MoviePy - Writing audio in temporary/clip23.mp3\n"
     ]
    },
    {
     "name": "stderr",
     "output_type": "stream",
     "text": [
      "                                                                                                                \r"
     ]
    },
    {
     "name": "stdout",
     "output_type": "stream",
     "text": [
      "MoviePy - Done.\n",
      "MoviePy - Writing audio in temporary/clip24.mp3\n"
     ]
    },
    {
     "name": "stderr",
     "output_type": "stream",
     "text": [
      "                                                                                                                \r"
     ]
    },
    {
     "name": "stdout",
     "output_type": "stream",
     "text": [
      "MoviePy - Done.\n",
      "MoviePy - Writing audio in temporary/clip25.mp3\n"
     ]
    },
    {
     "name": "stderr",
     "output_type": "stream",
     "text": [
      "                                                                                                                \r"
     ]
    },
    {
     "name": "stdout",
     "output_type": "stream",
     "text": [
      "MoviePy - Done.\n",
      "MoviePy - Writing audio in temporary/clip26.mp3\n"
     ]
    },
    {
     "name": "stderr",
     "output_type": "stream",
     "text": [
      "                                                                                                                \r"
     ]
    },
    {
     "name": "stdout",
     "output_type": "stream",
     "text": [
      "MoviePy - Done.\n",
      "MoviePy - Writing audio in temporary/clip27.mp3\n"
     ]
    },
    {
     "name": "stderr",
     "output_type": "stream",
     "text": [
      "                                                                                                                \r"
     ]
    },
    {
     "name": "stdout",
     "output_type": "stream",
     "text": [
      "MoviePy - Done.\n",
      "this is self.computed: <class 'numpy.ndarray'>\n",
      "[0.05950244 0.07561433 0.07195389 ... 0.27417928 0.32407498 0.2488939 ]\n",
      "this is self.computed: <class 'numpy.ndarray'>\n",
      "[0.23447387 0.283415   0.20961216 ... 0.03795207 0.05387136 0.04584856]\n",
      "this is self.computed: <class 'numpy.ndarray'>\n",
      "[ 0.15154126  0.20529738  0.19156483 ... -0.03746825 -0.0720185\n",
      " -0.06736249]\n",
      "this is self.computed: <class 'numpy.ndarray'>\n",
      "[-0.10498501 -0.09704672 -0.03386139 ...  0.11480254  0.15347952\n",
      "  0.13199292]\n",
      "this is self.computed: <class 'numpy.ndarray'>\n",
      "[-0.25709778 -0.33577833 -0.293804   ... -0.10614385 -0.12616333\n",
      " -0.09889547]\n",
      "this is self.computed: <class 'numpy.ndarray'>\n",
      "[-0.00415277  0.00709638  0.02433583 ...  0.18482104  0.17509258\n",
      "  0.12403277]\n",
      "this is self.computed: <class 'numpy.ndarray'>\n",
      "[-0.02790245 -0.0341538  -0.02940198 ...  0.05666504  0.07487587\n",
      "  0.0613023 ]\n",
      "this is self.computed: <class 'numpy.ndarray'>\n",
      "[0.01464813 0.01560634 0.01239407 ... 0.0391168  0.02463209 0.00923109]\n",
      "this is self.computed: <class 'numpy.ndarray'>\n",
      "[-0.07936011 -0.0914199  -0.07030839 ...  0.01550763  0.01456179\n",
      "  0.00916464]\n",
      "this is self.computed: <class 'numpy.ndarray'>\n",
      "[-0.00365382 -0.01913833 -0.03032544 ...  0.15971318  0.17477298\n",
      "  0.1290172 ]\n",
      "this is self.computed: <class 'numpy.ndarray'>\n",
      "[-0.19149077 -0.21263103 -0.1512502  ... -0.29740036 -0.33244222\n",
      " -0.25194508]\n",
      "this is self.computed: <class 'numpy.ndarray'>\n",
      "[-0.08355713 -0.10332991 -0.09007098 ...  0.00425992 -0.0313344\n",
      " -0.04005405]\n",
      "this is self.computed: <class 'numpy.ndarray'>\n",
      "[ 0.05191253  0.0726801   0.06364162 ... -0.21593997 -0.24524257\n",
      " -0.18123764]\n",
      "this is self.computed: <class 'numpy.ndarray'>\n",
      "[-0.04179487 -0.05474083 -0.05853192 ...  0.16456172  0.20578973\n",
      "  0.16256487]\n",
      "this is self.computed: <class 'numpy.ndarray'>\n",
      "[ 0.32881552  0.3545524   0.13169236 ... -0.01371925 -0.01646457\n",
      " -0.01323952]\n",
      "this is self.computed: <class 'numpy.ndarray'>\n",
      "[0.13183805 0.13366209 0.10362428 ... 0.0770974  0.11676621 0.09863849]\n",
      "this is self.computed: <class 'numpy.ndarray'>\n",
      "[0.15953238 0.21460089 0.19476083 ... 0.23695955 0.308007   0.2512061 ]\n",
      "this is self.computed: <class 'numpy.ndarray'>\n",
      "[0.13315159 0.19504327 0.19238338 ... 0.61666656 0.6272046  0.44440827]\n",
      "this is self.computed: <class 'numpy.ndarray'>\n",
      "[ 0.17267916  0.24147561  0.17727566 ... -0.24658138 -0.27515757\n",
      " -0.19942933]\n",
      "this is self.computed: <class 'numpy.ndarray'>\n",
      "[ 0.3050974   0.3893904   0.38065296 ... -0.02239727 -0.02344869\n",
      " -0.01663711]\n",
      "this is self.computed: <class 'numpy.ndarray'>\n",
      "[ 0.06213815  0.0050734  -0.07137607 ... -0.27774814 -0.3499009\n",
      " -0.27725163]\n",
      "this is self.computed: <class 'numpy.ndarray'>\n",
      "[-0.00283141  0.00562699  0.00493049 ...  0.1200896   0.15597634\n",
      "  0.12785062]\n",
      "this is self.computed: <class 'numpy.ndarray'>\n",
      "[-0.28220937 -0.3579986  -0.2569898  ... -0.15742044 -0.1870015\n",
      " -0.13924798]\n",
      "this is self.computed: <class 'numpy.ndarray'>\n",
      "[ 0.11689617  0.16082217  0.16952853 ... -0.3544131  -0.39209276\n",
      " -0.3008619 ]\n",
      "this is self.computed: <class 'numpy.ndarray'>\n",
      "[-0.25047028 -0.31685004 -0.24754763 ... -0.00055421 -0.02286218\n",
      " -0.02572161]\n",
      "this is self.computed: <class 'numpy.ndarray'>\n",
      "[0.108198   0.16877282 0.22032277 ... 0.3329773  0.26779142 0.1537573 ]\n",
      "this is self.computed: <class 'numpy.ndarray'>\n",
      "[-0.16110033 -0.17251763 -0.16220933 ...  0.0153948   0.01101983\n",
      "  0.00412165]\n",
      "1/1 [==============================] - 0s 216ms/step\n",
      "1/1 [==============================] - 0s 26ms/step\n",
      "1/1 [==============================] - 0s 25ms/step\n",
      "1/1 [==============================] - 0s 24ms/step\n",
      "1/1 [==============================] - 0s 26ms/step\n",
      "1/1 [==============================] - 0s 24ms/step\n",
      "1/1 [==============================] - 0s 24ms/step\n",
      "1/1 [==============================] - 0s 24ms/step\n",
      "1/1 [==============================] - 0s 24ms/step\n",
      "1/1 [==============================] - 0s 25ms/step\n",
      "1/1 [==============================] - 0s 25ms/step\n",
      "1/1 [==============================] - 0s 26ms/step\n",
      "1/1 [==============================] - 0s 24ms/step\n",
      "1/1 [==============================] - 0s 25ms/step\n",
      "1/1 [==============================] - 0s 25ms/step\n",
      "1/1 [==============================] - 0s 24ms/step\n",
      "1/1 [==============================] - 0s 24ms/step\n",
      "1/1 [==============================] - 0s 25ms/step\n",
      "1/1 [==============================] - 0s 26ms/step\n",
      "1/1 [==============================] - 0s 27ms/step\n",
      "1/1 [==============================] - 0s 25ms/step\n",
      "1/1 [==============================] - 0s 24ms/step\n",
      "1/1 [==============================] - 0s 26ms/step\n",
      "1/1 [==============================] - 0s 25ms/step\n",
      "1/1 [==============================] - 0s 24ms/step\n",
      "1/1 [==============================] - 0s 26ms/step\n",
      "1/1 [==============================] - 0s 25ms/step\n",
      "surah2_part11.mp3 Hejaz\n",
      "MoviePy - Writing audio in temporary/clip1.mp3\n"
     ]
    },
    {
     "name": "stderr",
     "output_type": "stream",
     "text": [
      "                                                                                                                \r"
     ]
    },
    {
     "name": "stdout",
     "output_type": "stream",
     "text": [
      "MoviePy - Done.\n",
      "MoviePy - Writing audio in temporary/clip2.mp3\n"
     ]
    },
    {
     "name": "stderr",
     "output_type": "stream",
     "text": [
      "                                                                                                                \r"
     ]
    },
    {
     "name": "stdout",
     "output_type": "stream",
     "text": [
      "MoviePy - Done.\n",
      "MoviePy - Writing audio in temporary/clip3.mp3\n"
     ]
    },
    {
     "name": "stderr",
     "output_type": "stream",
     "text": [
      "                                                                                                                \r"
     ]
    },
    {
     "name": "stdout",
     "output_type": "stream",
     "text": [
      "MoviePy - Done.\n",
      "MoviePy - Writing audio in temporary/clip4.mp3\n"
     ]
    },
    {
     "name": "stderr",
     "output_type": "stream",
     "text": [
      "                                                                                                                \r"
     ]
    },
    {
     "name": "stdout",
     "output_type": "stream",
     "text": [
      "MoviePy - Done.\n",
      "MoviePy - Writing audio in temporary/clip5.mp3\n"
     ]
    },
    {
     "name": "stderr",
     "output_type": "stream",
     "text": [
      "                                                                                                                \r"
     ]
    },
    {
     "name": "stdout",
     "output_type": "stream",
     "text": [
      "MoviePy - Done.\n",
      "MoviePy - Writing audio in temporary/clip6.mp3\n"
     ]
    },
    {
     "name": "stderr",
     "output_type": "stream",
     "text": [
      "                                                                                                                \r"
     ]
    },
    {
     "name": "stdout",
     "output_type": "stream",
     "text": [
      "MoviePy - Done.\n",
      "this is self.computed: <class 'numpy.ndarray'>\n",
      "[ 0.03512178  0.03717303  0.0268909  ... -0.0090836  -0.00999\n",
      " -0.0076817 ]\n",
      "this is self.computed: <class 'numpy.ndarray'>\n",
      "[-0.00702787 -0.00851106 -0.00711145 ...  0.          0.\n",
      "  0.        ]\n",
      "this is self.computed: <class 'numpy.ndarray'>\n",
      "[0.19893786 0.264905   0.2153885  ... 0.05285221 0.0529897  0.03843258]\n",
      "this is self.computed: <class 'numpy.ndarray'>\n",
      "[-0.07257506 -0.09161922 -0.08335803 ... -0.1220381  -0.14014456\n",
      " -0.10771781]\n",
      "this is self.computed: <class 'numpy.ndarray'>\n",
      "[-0.00314814 -0.002942   -0.00208056 ... -0.08647226 -0.09651409\n",
      " -0.07569623]\n",
      "this is self.computed: <class 'numpy.ndarray'>\n",
      "[-0.10530525 -0.11804359 -0.10050862 ...  0.23680267  0.27415764\n",
      "  0.21043041]\n",
      "1/1 [==============================] - 0s 214ms/step\n",
      "1/1 [==============================] - 0s 25ms/step\n",
      "1/1 [==============================] - 0s 25ms/step\n",
      "1/1 [==============================] - 0s 24ms/step\n",
      "1/1 [==============================] - 0s 24ms/step\n",
      "1/1 [==============================] - 0s 24ms/step\n",
      "surah22_part4.mp3 Bayat\n",
      "MoviePy - Writing audio in temporary/clip1.mp3\n"
     ]
    },
    {
     "name": "stderr",
     "output_type": "stream",
     "text": [
      "                                                                                                                \r"
     ]
    },
    {
     "name": "stdout",
     "output_type": "stream",
     "text": [
      "MoviePy - Done.\n",
      "MoviePy - Writing audio in temporary/clip2.mp3\n"
     ]
    },
    {
     "name": "stderr",
     "output_type": "stream",
     "text": [
      "                                                                                                                \r"
     ]
    },
    {
     "name": "stdout",
     "output_type": "stream",
     "text": [
      "MoviePy - Done.\n",
      "this is self.computed: <class 'numpy.ndarray'>\n",
      "[ 5.4068733e-03 -4.6708472e-03 -2.2357769e-02 ...  4.9185786e-05\n",
      "  4.0854826e-05  2.9380444e-05]\n",
      "this is self.computed: <class 'numpy.ndarray'>\n",
      "[ 0.          0.          0.         ... -0.00858864 -0.046074\n",
      " -0.04430191]\n",
      "1/1 [==============================] - 0s 212ms/step\n",
      "1/1 [==============================] - 0s 24ms/step\n",
      "surah113_part1.mp3 Bayat\n",
      "MoviePy - Writing audio in temporary/clip1.mp3\n"
     ]
    },
    {
     "name": "stderr",
     "output_type": "stream",
     "text": [
      "                                                                                                                \r"
     ]
    },
    {
     "name": "stdout",
     "output_type": "stream",
     "text": [
      "MoviePy - Done.\n",
      "MoviePy - Writing audio in temporary/clip2.mp3\n"
     ]
    },
    {
     "name": "stderr",
     "output_type": "stream",
     "text": [
      "                                                                                                                \r"
     ]
    },
    {
     "name": "stdout",
     "output_type": "stream",
     "text": [
      "MoviePy - Done.\n",
      "MoviePy - Writing audio in temporary/clip3.mp3\n"
     ]
    },
    {
     "name": "stderr",
     "output_type": "stream",
     "text": [
      "                                                                                                                \r"
     ]
    },
    {
     "name": "stdout",
     "output_type": "stream",
     "text": [
      "MoviePy - Done.\n",
      "MoviePy - Writing audio in temporary/clip4.mp3\n"
     ]
    },
    {
     "name": "stderr",
     "output_type": "stream",
     "text": [
      "                                                                                                                \r"
     ]
    },
    {
     "name": "stdout",
     "output_type": "stream",
     "text": [
      "MoviePy - Done.\n",
      "MoviePy - Writing audio in temporary/clip5.mp3\n"
     ]
    },
    {
     "name": "stderr",
     "output_type": "stream",
     "text": [
      "                                                                                                                \r"
     ]
    },
    {
     "name": "stdout",
     "output_type": "stream",
     "text": [
      "MoviePy - Done.\n",
      "MoviePy - Writing audio in temporary/clip6.mp3\n"
     ]
    },
    {
     "name": "stderr",
     "output_type": "stream",
     "text": [
      "                                                                                                                \r"
     ]
    },
    {
     "name": "stdout",
     "output_type": "stream",
     "text": [
      "MoviePy - Done.\n",
      "MoviePy - Writing audio in temporary/clip7.mp3\n"
     ]
    },
    {
     "name": "stderr",
     "output_type": "stream",
     "text": [
      "                                                                                                                \r"
     ]
    },
    {
     "name": "stdout",
     "output_type": "stream",
     "text": [
      "MoviePy - Done.\n",
      "MoviePy - Writing audio in temporary/clip8.mp3\n"
     ]
    },
    {
     "name": "stderr",
     "output_type": "stream",
     "text": [
      "                                                                                                                \r"
     ]
    },
    {
     "name": "stdout",
     "output_type": "stream",
     "text": [
      "MoviePy - Done.\n",
      "MoviePy - Writing audio in temporary/clip9.mp3\n"
     ]
    },
    {
     "name": "stderr",
     "output_type": "stream",
     "text": [
      "                                                                                                                \r"
     ]
    },
    {
     "name": "stdout",
     "output_type": "stream",
     "text": [
      "MoviePy - Done.\n",
      "MoviePy - Writing audio in temporary/clip10.mp3\n"
     ]
    },
    {
     "name": "stderr",
     "output_type": "stream",
     "text": [
      "                                                                                                                \r"
     ]
    },
    {
     "name": "stdout",
     "output_type": "stream",
     "text": [
      "MoviePy - Done.\n",
      "MoviePy - Writing audio in temporary/clip11.mp3\n"
     ]
    },
    {
     "name": "stderr",
     "output_type": "stream",
     "text": [
      "                                                                                                                \r"
     ]
    },
    {
     "name": "stdout",
     "output_type": "stream",
     "text": [
      "MoviePy - Done.\n",
      "MoviePy - Writing audio in temporary/clip12.mp3\n"
     ]
    },
    {
     "name": "stderr",
     "output_type": "stream",
     "text": [
      "                                                                                                                \r"
     ]
    },
    {
     "name": "stdout",
     "output_type": "stream",
     "text": [
      "MoviePy - Done.\n",
      "MoviePy - Writing audio in temporary/clip13.mp3\n"
     ]
    },
    {
     "name": "stderr",
     "output_type": "stream",
     "text": [
      "                                                                                                                \r"
     ]
    },
    {
     "name": "stdout",
     "output_type": "stream",
     "text": [
      "MoviePy - Done.\n",
      "MoviePy - Writing audio in temporary/clip14.mp3\n"
     ]
    },
    {
     "name": "stderr",
     "output_type": "stream",
     "text": [
      "                                                                                                                \r"
     ]
    },
    {
     "name": "stdout",
     "output_type": "stream",
     "text": [
      "MoviePy - Done.\n",
      "MoviePy - Writing audio in temporary/clip15.mp3\n"
     ]
    },
    {
     "name": "stderr",
     "output_type": "stream",
     "text": [
      "                                                                                                                \r"
     ]
    },
    {
     "name": "stdout",
     "output_type": "stream",
     "text": [
      "MoviePy - Done.\n",
      "MoviePy - Writing audio in temporary/clip16.mp3\n"
     ]
    },
    {
     "name": "stderr",
     "output_type": "stream",
     "text": [
      "                                                                                                                \r"
     ]
    },
    {
     "name": "stdout",
     "output_type": "stream",
     "text": [
      "MoviePy - Done.\n",
      "MoviePy - Writing audio in temporary/clip17.mp3\n"
     ]
    },
    {
     "name": "stderr",
     "output_type": "stream",
     "text": [
      "                                                                                                                \r"
     ]
    },
    {
     "name": "stdout",
     "output_type": "stream",
     "text": [
      "MoviePy - Done.\n",
      "MoviePy - Writing audio in temporary/clip18.mp3\n"
     ]
    },
    {
     "name": "stderr",
     "output_type": "stream",
     "text": [
      "                                                                                                                \r"
     ]
    },
    {
     "name": "stdout",
     "output_type": "stream",
     "text": [
      "MoviePy - Done.\n",
      "MoviePy - Writing audio in temporary/clip19.mp3\n"
     ]
    },
    {
     "name": "stderr",
     "output_type": "stream",
     "text": [
      "                                                                                                                \r"
     ]
    },
    {
     "name": "stdout",
     "output_type": "stream",
     "text": [
      "MoviePy - Done.\n",
      "MoviePy - Writing audio in temporary/clip20.mp3\n"
     ]
    },
    {
     "name": "stderr",
     "output_type": "stream",
     "text": [
      "                                                                                                                \r"
     ]
    },
    {
     "name": "stdout",
     "output_type": "stream",
     "text": [
      "MoviePy - Done.\n",
      "MoviePy - Writing audio in temporary/clip21.mp3\n"
     ]
    },
    {
     "name": "stderr",
     "output_type": "stream",
     "text": [
      "                                                                                                                \r"
     ]
    },
    {
     "name": "stdout",
     "output_type": "stream",
     "text": [
      "MoviePy - Done.\n",
      "MoviePy - Writing audio in temporary/clip22.mp3\n"
     ]
    },
    {
     "name": "stderr",
     "output_type": "stream",
     "text": [
      "                                                                                                                \r"
     ]
    },
    {
     "name": "stdout",
     "output_type": "stream",
     "text": [
      "MoviePy - Done.\n",
      "MoviePy - Writing audio in temporary/clip23.mp3\n"
     ]
    },
    {
     "name": "stderr",
     "output_type": "stream",
     "text": [
      "                                                                                                                \r"
     ]
    },
    {
     "name": "stdout",
     "output_type": "stream",
     "text": [
      "MoviePy - Done.\n",
      "MoviePy - Writing audio in temporary/clip24.mp3\n"
     ]
    },
    {
     "name": "stderr",
     "output_type": "stream",
     "text": [
      "                                                                                                                \r"
     ]
    },
    {
     "name": "stdout",
     "output_type": "stream",
     "text": [
      "MoviePy - Done.\n",
      "MoviePy - Writing audio in temporary/clip25.mp3\n"
     ]
    },
    {
     "name": "stderr",
     "output_type": "stream",
     "text": [
      "                                                                                                                \r"
     ]
    },
    {
     "name": "stdout",
     "output_type": "stream",
     "text": [
      "MoviePy - Done.\n",
      "MoviePy - Writing audio in temporary/clip26.mp3\n"
     ]
    },
    {
     "name": "stderr",
     "output_type": "stream",
     "text": [
      "                                                                                                                \r"
     ]
    },
    {
     "name": "stdout",
     "output_type": "stream",
     "text": [
      "MoviePy - Done.\n",
      "MoviePy - Writing audio in temporary/clip27.mp3\n"
     ]
    },
    {
     "name": "stderr",
     "output_type": "stream",
     "text": [
      "                                                                                                                \r"
     ]
    },
    {
     "name": "stdout",
     "output_type": "stream",
     "text": [
      "MoviePy - Done.\n",
      "MoviePy - Writing audio in temporary/clip28.mp3\n"
     ]
    },
    {
     "name": "stderr",
     "output_type": "stream",
     "text": [
      "                                                                                                                \r"
     ]
    },
    {
     "name": "stdout",
     "output_type": "stream",
     "text": [
      "MoviePy - Done.\n",
      "MoviePy - Writing audio in temporary/clip29.mp3\n"
     ]
    },
    {
     "name": "stderr",
     "output_type": "stream",
     "text": [
      "                                                                                                                \r"
     ]
    },
    {
     "name": "stdout",
     "output_type": "stream",
     "text": [
      "MoviePy - Done.\n",
      "MoviePy - Writing audio in temporary/clip30.mp3\n"
     ]
    },
    {
     "name": "stderr",
     "output_type": "stream",
     "text": [
      "                                                                                                                \r"
     ]
    },
    {
     "name": "stdout",
     "output_type": "stream",
     "text": [
      "MoviePy - Done.\n",
      "this is self.computed: <class 'numpy.ndarray'>\n",
      "[-0.1054996  -0.14443994 -0.13987973 ... -0.5314281  -0.63994694\n",
      " -0.49725372]\n",
      "this is self.computed: <class 'numpy.ndarray'>\n",
      "[-0.5228418  -0.6661419  -0.5512477  ...  0.08151098  0.07061002\n",
      "  0.04095601]\n",
      "this is self.computed: <class 'numpy.ndarray'>\n",
      "[ 0.00187861  0.02578301  0.0521977  ...  0.02032356  0.00088792\n",
      " -0.00953085]\n",
      "this is self.computed: <class 'numpy.ndarray'>\n",
      "[-0.02806766 -0.041732   -0.04115169 ...  0.2132484   0.26080993\n",
      "  0.2032255 ]\n",
      "this is self.computed: <class 'numpy.ndarray'>\n",
      "[-0.00197938 -0.01706253 -0.0324946  ...  0.08767337  0.10016362\n",
      "  0.0776857 ]\n",
      "this is self.computed: <class 'numpy.ndarray'>\n",
      "[-0.39592862 -0.52305853 -0.4518376  ...  0.30215266  0.33375332\n",
      "  0.24554272]\n",
      "this is self.computed: <class 'numpy.ndarray'>\n",
      "[-0.11436057 -0.14695708 -0.13778198 ... -0.11530589 -0.14651924\n",
      " -0.12001183]\n",
      "this is self.computed: <class 'numpy.ndarray'>\n",
      "[ 0.00132359 -0.00093334 -0.01038485 ... -0.06680829 -0.11588722\n",
      " -0.09932838]\n",
      "this is self.computed: <class 'numpy.ndarray'>\n",
      "[-0.01304013 -0.00515737  0.00423857 ... -0.07114619 -0.09526627\n",
      " -0.079831  ]\n",
      "this is self.computed: <class 'numpy.ndarray'>\n",
      "[ 0.22338423  0.24926224  0.14127415 ... -0.07250954 -0.05825835\n",
      " -0.03278072]\n",
      "this is self.computed: <class 'numpy.ndarray'>\n",
      "[-0.08143454 -0.11449298 -0.10899803 ...  0.16133529  0.18686819\n",
      "  0.14280245]\n",
      "this is self.computed: <class 'numpy.ndarray'>\n",
      "[-0.32896125 -0.37424248 -0.25943592 ...  0.03676412  0.03708559\n",
      "  0.02572467]\n",
      "this is self.computed: <class 'numpy.ndarray'>\n",
      "[-0.01588822 -0.01492372 -0.00639003 ... -0.04309194 -0.04565765\n",
      " -0.03275549]\n",
      "this is self.computed: <class 'numpy.ndarray'>\n",
      "[-0.00040104 -0.00405631  0.00761236 ...  0.09053138  0.12019362\n",
      "  0.09987441]\n",
      "this is self.computed: <class 'numpy.ndarray'>\n",
      "[ 0.01725425  0.01157451  0.00447016 ... -0.12924206 -0.15550114\n",
      " -0.1213969 ]\n",
      "this is self.computed: <class 'numpy.ndarray'>\n",
      "[ 0.09947632  0.1672986   0.18591173 ... -0.28637958 -0.36397222\n",
      " -0.29346985]\n",
      "this is self.computed: <class 'numpy.ndarray'>\n",
      "[-0.1191056  -0.13882703 -0.1047167  ... -0.04299051 -0.03854282\n",
      " -0.02516729]\n",
      "this is self.computed: <class 'numpy.ndarray'>\n",
      "[ 0.150013    0.19430271  0.1545698  ... -0.15116082 -0.21652219\n",
      " -0.18320866]\n",
      "this is self.computed: <class 'numpy.ndarray'>\n",
      "[-0.35303342 -0.4232518  -0.38262668 ... -0.06248333 -0.07896329\n",
      " -0.06421528]\n",
      "this is self.computed: <class 'numpy.ndarray'>\n",
      "[ 0.07916304  0.09937818  0.08878594 ... -0.1239461  -0.15195486\n",
      " -0.11728378]\n",
      "this is self.computed: <class 'numpy.ndarray'>\n",
      "[ 0.2423113  0.3878998  0.3514066 ... -0.4782917 -0.484168  -0.3430878]\n",
      "this is self.computed: <class 'numpy.ndarray'>\n",
      "[-0.07280655 -0.09581142 -0.10189165 ... -0.13689157 -0.15591167\n",
      " -0.12249899]\n",
      "this is self.computed: <class 'numpy.ndarray'>\n",
      "[-0.01795236 -0.02854489 -0.02929834 ... -0.3883862  -0.46956885\n",
      " -0.37266523]\n",
      "this is self.computed: <class 'numpy.ndarray'>\n",
      "[ 0.04603592  0.05109493  0.03696104 ... -0.11604393 -0.10277982\n",
      " -0.06044918]\n",
      "this is self.computed: <class 'numpy.ndarray'>\n",
      "[-0.04276942 -0.07595367 -0.09818363 ...  0.00609358 -0.00103293\n",
      " -0.00461163]\n",
      "this is self.computed: <class 'numpy.ndarray'>\n",
      "[-0.1925802  -0.28563553 -0.28984523 ...  0.05849395  0.01635034\n",
      " -0.00911338]\n",
      "this is self.computed: <class 'numpy.ndarray'>\n",
      "[0.02978148 0.03434191 0.03145735 ... 0.01628885 0.01513943 0.01030559]\n",
      "this is self.computed: <class 'numpy.ndarray'>\n",
      "[0.20265952 0.27307737 0.21708727 ... 0.04585864 0.0482217  0.03489645]\n",
      "this is self.computed: <class 'numpy.ndarray'>\n",
      "[-0.11651644 -0.16395909 -0.13815436 ... -0.01329022 -0.01365193\n",
      " -0.0125131 ]\n",
      "this is self.computed: <class 'numpy.ndarray'>\n",
      "[-0.12586032 -0.1562418  -0.15537593 ...  0.05524034  0.06558207\n",
      "  0.05094018]\n",
      "1/1 [==============================] - 0s 225ms/step\n",
      "1/1 [==============================] - 0s 26ms/step\n",
      "1/1 [==============================] - 0s 25ms/step\n",
      "1/1 [==============================] - 0s 27ms/step\n",
      "1/1 [==============================] - 0s 25ms/step\n",
      "1/1 [==============================] - 0s 25ms/step\n",
      "1/1 [==============================] - 0s 24ms/step\n",
      "1/1 [==============================] - 0s 24ms/step\n",
      "1/1 [==============================] - 0s 25ms/step\n",
      "1/1 [==============================] - 0s 25ms/step\n",
      "1/1 [==============================] - 0s 26ms/step\n",
      "1/1 [==============================] - 0s 27ms/step\n",
      "1/1 [==============================] - 0s 27ms/step\n",
      "1/1 [==============================] - 0s 25ms/step\n",
      "1/1 [==============================] - 0s 25ms/step\n",
      "1/1 [==============================] - 0s 24ms/step\n",
      "1/1 [==============================] - 0s 25ms/step\n",
      "1/1 [==============================] - 0s 25ms/step\n",
      "1/1 [==============================] - 0s 25ms/step\n",
      "1/1 [==============================] - 0s 24ms/step\n",
      "1/1 [==============================] - 0s 27ms/step\n",
      "1/1 [==============================] - 0s 27ms/step\n",
      "1/1 [==============================] - 0s 25ms/step\n",
      "1/1 [==============================] - 0s 25ms/step\n",
      "1/1 [==============================] - 0s 26ms/step\n",
      "1/1 [==============================] - 0s 26ms/step\n",
      "1/1 [==============================] - 0s 26ms/step\n",
      "1/1 [==============================] - 0s 25ms/step\n",
      "1/1 [==============================] - 0s 26ms/step\n",
      "1/1 [==============================] - 0s 27ms/step\n",
      "surah2_part10.mp3 Bayat\n",
      "MoviePy - Writing audio in temporary/clip1.mp3\n"
     ]
    },
    {
     "name": "stderr",
     "output_type": "stream",
     "text": [
      "                                                                                                                \r"
     ]
    },
    {
     "name": "stdout",
     "output_type": "stream",
     "text": [
      "MoviePy - Done.\n",
      "MoviePy - Writing audio in temporary/clip2.mp3\n"
     ]
    },
    {
     "name": "stderr",
     "output_type": "stream",
     "text": [
      "                                                                                                                \r"
     ]
    },
    {
     "name": "stdout",
     "output_type": "stream",
     "text": [
      "MoviePy - Done.\n",
      "MoviePy - Writing audio in temporary/clip3.mp3\n"
     ]
    },
    {
     "name": "stderr",
     "output_type": "stream",
     "text": [
      "                                                                                                                \r"
     ]
    },
    {
     "name": "stdout",
     "output_type": "stream",
     "text": [
      "MoviePy - Done.\n",
      "MoviePy - Writing audio in temporary/clip4.mp3\n"
     ]
    },
    {
     "name": "stderr",
     "output_type": "stream",
     "text": [
      "                                                                                                                \r"
     ]
    },
    {
     "name": "stdout",
     "output_type": "stream",
     "text": [
      "MoviePy - Done.\n",
      "MoviePy - Writing audio in temporary/clip5.mp3\n"
     ]
    },
    {
     "name": "stderr",
     "output_type": "stream",
     "text": [
      "                                                                                                                \r"
     ]
    },
    {
     "name": "stdout",
     "output_type": "stream",
     "text": [
      "MoviePy - Done.\n",
      "MoviePy - Writing audio in temporary/clip6.mp3\n"
     ]
    },
    {
     "name": "stderr",
     "output_type": "stream",
     "text": [
      "                                                                                                                \r"
     ]
    },
    {
     "name": "stdout",
     "output_type": "stream",
     "text": [
      "MoviePy - Done.\n",
      "this is self.computed: <class 'numpy.ndarray'>\n",
      "[0.0260744  0.04084839 0.04662644 ... 0.         0.         0.        ]\n",
      "this is self.computed: <class 'numpy.ndarray'>\n",
      "[0. 0. 0. ... 0. 0. 0.]\n",
      "this is self.computed: <class 'numpy.ndarray'>\n",
      "[0.4132431  0.61120975 0.5956619  ... 0.01198962 0.02498603 0.02495442]\n",
      "this is self.computed: <class 'numpy.ndarray'>\n",
      "[ 0.04941702  0.06605703  0.05482632 ... -0.10195842 -0.13813455\n",
      " -0.11428958]\n",
      "this is self.computed: <class 'numpy.ndarray'>\n",
      "[0.00396692 0.02032709 0.03663829 ... 0.06184332 0.06379905 0.05055416]\n",
      "this is self.computed: <class 'numpy.ndarray'>\n",
      "[-0.10752498 -0.14858471 -0.15073664 ...  0.12389082  0.2569254\n",
      "  0.2584765 ]\n",
      "1/1 [==============================] - 0s 213ms/step\n",
      "1/1 [==============================] - 0s 24ms/step\n",
      "1/1 [==============================] - 0s 25ms/step\n",
      "1/1 [==============================] - 0s 25ms/step\n",
      "1/1 [==============================] - 0s 25ms/step\n",
      "1/1 [==============================] - 0s 27ms/step\n",
      "surah32_part3.mp3 Bayat\n",
      "MoviePy - Writing audio in temporary/clip1.mp3\n"
     ]
    },
    {
     "name": "stderr",
     "output_type": "stream",
     "text": [
      "                                                                                                                \r"
     ]
    },
    {
     "name": "stdout",
     "output_type": "stream",
     "text": [
      "MoviePy - Done.\n",
      "MoviePy - Writing audio in temporary/clip2.mp3\n"
     ]
    },
    {
     "name": "stderr",
     "output_type": "stream",
     "text": [
      "                                                                                                                \r"
     ]
    },
    {
     "name": "stdout",
     "output_type": "stream",
     "text": [
      "MoviePy - Done.\n",
      "MoviePy - Writing audio in temporary/clip3.mp3\n"
     ]
    },
    {
     "name": "stderr",
     "output_type": "stream",
     "text": [
      "                                                                                                                \r"
     ]
    },
    {
     "name": "stdout",
     "output_type": "stream",
     "text": [
      "MoviePy - Done.\n",
      "MoviePy - Writing audio in temporary/clip4.mp3\n"
     ]
    },
    {
     "name": "stderr",
     "output_type": "stream",
     "text": [
      "                                                                                                                \r"
     ]
    },
    {
     "name": "stdout",
     "output_type": "stream",
     "text": [
      "MoviePy - Done.\n",
      "MoviePy - Writing audio in temporary/clip5.mp3\n"
     ]
    },
    {
     "name": "stderr",
     "output_type": "stream",
     "text": [
      "                                                                                                                \r"
     ]
    },
    {
     "name": "stdout",
     "output_type": "stream",
     "text": [
      "MoviePy - Done.\n",
      "MoviePy - Writing audio in temporary/clip6.mp3\n"
     ]
    },
    {
     "name": "stderr",
     "output_type": "stream",
     "text": [
      "                                                                                                                \r"
     ]
    },
    {
     "name": "stdout",
     "output_type": "stream",
     "text": [
      "MoviePy - Done.\n",
      "MoviePy - Writing audio in temporary/clip7.mp3\n"
     ]
    },
    {
     "name": "stderr",
     "output_type": "stream",
     "text": [
      "                                                                                                                \r"
     ]
    },
    {
     "name": "stdout",
     "output_type": "stream",
     "text": [
      "MoviePy - Done.\n",
      "MoviePy - Writing audio in temporary/clip8.mp3\n"
     ]
    },
    {
     "name": "stderr",
     "output_type": "stream",
     "text": [
      "                                                                                                                \r"
     ]
    },
    {
     "name": "stdout",
     "output_type": "stream",
     "text": [
      "MoviePy - Done.\n",
      "MoviePy - Writing audio in temporary/clip9.mp3\n"
     ]
    },
    {
     "name": "stderr",
     "output_type": "stream",
     "text": [
      "                                                                                                                \r"
     ]
    },
    {
     "name": "stdout",
     "output_type": "stream",
     "text": [
      "MoviePy - Done.\n",
      "MoviePy - Writing audio in temporary/clip10.mp3\n"
     ]
    },
    {
     "name": "stderr",
     "output_type": "stream",
     "text": [
      "                                                                                                                \r"
     ]
    },
    {
     "name": "stdout",
     "output_type": "stream",
     "text": [
      "MoviePy - Done.\n",
      "MoviePy - Writing audio in temporary/clip11.mp3\n"
     ]
    },
    {
     "name": "stderr",
     "output_type": "stream",
     "text": [
      "                                                                                                                \r"
     ]
    },
    {
     "name": "stdout",
     "output_type": "stream",
     "text": [
      "MoviePy - Done.\n",
      "MoviePy - Writing audio in temporary/clip12.mp3\n"
     ]
    },
    {
     "name": "stderr",
     "output_type": "stream",
     "text": [
      "                                                                                                                \r"
     ]
    },
    {
     "name": "stdout",
     "output_type": "stream",
     "text": [
      "MoviePy - Done.\n",
      "MoviePy - Writing audio in temporary/clip13.mp3\n"
     ]
    },
    {
     "name": "stderr",
     "output_type": "stream",
     "text": [
      "                                                                                                                \r"
     ]
    },
    {
     "name": "stdout",
     "output_type": "stream",
     "text": [
      "MoviePy - Done.\n",
      "MoviePy - Writing audio in temporary/clip14.mp3\n"
     ]
    },
    {
     "name": "stderr",
     "output_type": "stream",
     "text": [
      "                                                                                                                \r"
     ]
    },
    {
     "name": "stdout",
     "output_type": "stream",
     "text": [
      "MoviePy - Done.\n",
      "MoviePy - Writing audio in temporary/clip15.mp3\n"
     ]
    },
    {
     "name": "stderr",
     "output_type": "stream",
     "text": [
      "                                                                                                                \r"
     ]
    },
    {
     "name": "stdout",
     "output_type": "stream",
     "text": [
      "MoviePy - Done.\n",
      "MoviePy - Writing audio in temporary/clip16.mp3\n"
     ]
    },
    {
     "name": "stderr",
     "output_type": "stream",
     "text": [
      "                                                                                                                \r"
     ]
    },
    {
     "name": "stdout",
     "output_type": "stream",
     "text": [
      "MoviePy - Done.\n",
      "MoviePy - Writing audio in temporary/clip17.mp3\n"
     ]
    },
    {
     "name": "stderr",
     "output_type": "stream",
     "text": [
      "                                                                                                                \r"
     ]
    },
    {
     "name": "stdout",
     "output_type": "stream",
     "text": [
      "MoviePy - Done.\n",
      "MoviePy - Writing audio in temporary/clip18.mp3\n"
     ]
    },
    {
     "name": "stderr",
     "output_type": "stream",
     "text": [
      "                                                                                                                \r"
     ]
    },
    {
     "name": "stdout",
     "output_type": "stream",
     "text": [
      "MoviePy - Done.\n",
      "MoviePy - Writing audio in temporary/clip19.mp3\n"
     ]
    },
    {
     "name": "stderr",
     "output_type": "stream",
     "text": [
      "                                                                                                                \r"
     ]
    },
    {
     "name": "stdout",
     "output_type": "stream",
     "text": [
      "MoviePy - Done.\n",
      "MoviePy - Writing audio in temporary/clip20.mp3\n"
     ]
    },
    {
     "name": "stderr",
     "output_type": "stream",
     "text": [
      "                                                                                                                \r"
     ]
    },
    {
     "name": "stdout",
     "output_type": "stream",
     "text": [
      "MoviePy - Done.\n",
      "MoviePy - Writing audio in temporary/clip21.mp3\n"
     ]
    },
    {
     "name": "stderr",
     "output_type": "stream",
     "text": [
      "                                                                                                                \r"
     ]
    },
    {
     "name": "stdout",
     "output_type": "stream",
     "text": [
      "MoviePy - Done.\n",
      "MoviePy - Writing audio in temporary/clip22.mp3\n"
     ]
    },
    {
     "name": "stderr",
     "output_type": "stream",
     "text": [
      "                                                                                                                \r"
     ]
    },
    {
     "name": "stdout",
     "output_type": "stream",
     "text": [
      "MoviePy - Done.\n",
      "MoviePy - Writing audio in temporary/clip23.mp3\n"
     ]
    },
    {
     "name": "stderr",
     "output_type": "stream",
     "text": [
      "                                                                                                                \r"
     ]
    },
    {
     "name": "stdout",
     "output_type": "stream",
     "text": [
      "MoviePy - Done.\n",
      "MoviePy - Writing audio in temporary/clip24.mp3\n"
     ]
    },
    {
     "name": "stderr",
     "output_type": "stream",
     "text": [
      "                                                                                                                \r"
     ]
    },
    {
     "name": "stdout",
     "output_type": "stream",
     "text": [
      "MoviePy - Done.\n",
      "MoviePy - Writing audio in temporary/clip25.mp3\n"
     ]
    },
    {
     "name": "stderr",
     "output_type": "stream",
     "text": [
      "                                                                                                                \r"
     ]
    },
    {
     "name": "stdout",
     "output_type": "stream",
     "text": [
      "MoviePy - Done.\n",
      "MoviePy - Writing audio in temporary/clip26.mp3\n"
     ]
    },
    {
     "name": "stderr",
     "output_type": "stream",
     "text": [
      "                                                                                                                \r"
     ]
    },
    {
     "name": "stdout",
     "output_type": "stream",
     "text": [
      "MoviePy - Done.\n",
      "MoviePy - Writing audio in temporary/clip27.mp3\n"
     ]
    },
    {
     "name": "stderr",
     "output_type": "stream",
     "text": [
      "                                                                                                                \r"
     ]
    },
    {
     "name": "stdout",
     "output_type": "stream",
     "text": [
      "MoviePy - Done.\n",
      "MoviePy - Writing audio in temporary/clip28.mp3\n"
     ]
    },
    {
     "name": "stderr",
     "output_type": "stream",
     "text": [
      "                                                                                                                \r"
     ]
    },
    {
     "name": "stdout",
     "output_type": "stream",
     "text": [
      "MoviePy - Done.\n",
      "MoviePy - Writing audio in temporary/clip29.mp3\n"
     ]
    },
    {
     "name": "stderr",
     "output_type": "stream",
     "text": [
      "                                                                                                                \r"
     ]
    },
    {
     "name": "stdout",
     "output_type": "stream",
     "text": [
      "MoviePy - Done.\n",
      "MoviePy - Writing audio in temporary/clip30.mp3\n"
     ]
    },
    {
     "name": "stderr",
     "output_type": "stream",
     "text": [
      "                                                                                                                \r"
     ]
    },
    {
     "name": "stdout",
     "output_type": "stream",
     "text": [
      "MoviePy - Done.\n",
      "MoviePy - Writing audio in temporary/clip31.mp3\n"
     ]
    },
    {
     "name": "stderr",
     "output_type": "stream",
     "text": [
      "                                                                                                                \r"
     ]
    },
    {
     "name": "stdout",
     "output_type": "stream",
     "text": [
      "MoviePy - Done.\n",
      "MoviePy - Writing audio in temporary/clip32.mp3\n"
     ]
    },
    {
     "name": "stderr",
     "output_type": "stream",
     "text": [
      "                                                                                                                \r"
     ]
    },
    {
     "name": "stdout",
     "output_type": "stream",
     "text": [
      "MoviePy - Done.\n",
      "MoviePy - Writing audio in temporary/clip33.mp3\n"
     ]
    },
    {
     "name": "stderr",
     "output_type": "stream",
     "text": [
      "                                                                                                                \r"
     ]
    },
    {
     "name": "stdout",
     "output_type": "stream",
     "text": [
      "MoviePy - Done.\n",
      "this is self.computed: <class 'numpy.ndarray'>\n",
      "[0.09340742 0.13171123 0.12632303 ... 0.35481203 0.3967672  0.30463058]\n",
      "this is self.computed: <class 'numpy.ndarray'>\n",
      "[ 0.31643617  0.41031778  0.32830968 ... -0.06069022 -0.08192685\n",
      " -0.07104887]\n",
      "this is self.computed: <class 'numpy.ndarray'>\n",
      "[-0.49374652 -0.633701   -0.5412133  ...  0.07427063  0.02436494\n",
      "  0.00624134]\n",
      "this is self.computed: <class 'numpy.ndarray'>\n",
      "[-0.06267196 -0.08066594 -0.06787227 ...  0.26713946  0.28788733\n",
      "  0.21165253]\n",
      "this is self.computed: <class 'numpy.ndarray'>\n",
      "[-0.08727015 -0.11050674 -0.09538588 ...  0.18878356  0.19349901\n",
      "  0.1448935 ]\n",
      "this is self.computed: <class 'numpy.ndarray'>\n",
      "[-0.05746791 -0.08934053 -0.10182317 ... -0.30681306 -0.33506656\n",
      " -0.24641614]\n",
      "this is self.computed: <class 'numpy.ndarray'>\n",
      "[0.10053024 0.15219581 0.17944343 ... 0.54013306 0.64979523 0.5039103 ]\n",
      "this is self.computed: <class 'numpy.ndarray'>\n",
      "[0.08081853 0.06324592 0.00042659 ... 0.11820506 0.13358878 0.10345487]\n",
      "this is self.computed: <class 'numpy.ndarray'>\n",
      "[0.02949732 0.04050361 0.04763105 ... 0.0686755  0.07805478 0.0615554 ]\n",
      "this is self.computed: <class 'numpy.ndarray'>\n",
      "[-0.24744348 -0.36284333 -0.3952333  ...  0.03329277  0.03685004\n",
      "  0.02947478]\n",
      "this is self.computed: <class 'numpy.ndarray'>\n",
      "[0.06504396 0.08500771 0.08134921 ... 0.19036493 0.19602983 0.14780769]\n",
      "this is self.computed: <class 'numpy.ndarray'>\n",
      "[-0.02957803 -0.01669085  0.0105945  ... -0.06108877 -0.06897451\n",
      " -0.05166383]\n",
      "this is self.computed: <class 'numpy.ndarray'>\n",
      "[-0.3087694  -0.3911776  -0.3496964  ... -0.09749614 -0.11022794\n",
      " -0.08733931]\n",
      "this is self.computed: <class 'numpy.ndarray'>\n",
      "[-0.00506413 -0.0137     -0.01628779 ... -0.08487812 -0.0657001\n",
      " -0.04086193]\n",
      "this is self.computed: <class 'numpy.ndarray'>\n",
      "[-0.06575598 -0.08753509 -0.08858335 ... -0.07892328 -0.05154109\n",
      " -0.02502103]\n",
      "this is self.computed: <class 'numpy.ndarray'>\n",
      "[0.00031167 0.01859567 0.05682078 ... 0.10787715 0.1356456  0.10821659]\n",
      "this is self.computed: <class 'numpy.ndarray'>\n",
      "[-0.07450084 -0.10210606 -0.09155424 ...  0.1313518   0.14136846\n",
      "  0.1035061 ]\n",
      "this is self.computed: <class 'numpy.ndarray'>\n",
      "[ 0.13183331  0.21456842  0.27270645 ... -0.27916232 -0.3760833\n",
      " -0.30580097]\n",
      "this is self.computed: <class 'numpy.ndarray'>\n",
      "[ 0.11891795  0.13452488  0.12080143 ... -0.00032794 -0.00071639\n",
      " -0.00058991]\n",
      "this is self.computed: <class 'numpy.ndarray'>\n",
      "[0.10889785 0.14196633 0.14344513 ... 0.00797048 0.01301009 0.01229567]\n",
      "this is self.computed: <class 'numpy.ndarray'>\n",
      "[0.11655339 0.12005536 0.08747134 ... 0.04387769 0.07163957 0.07361196]\n",
      "this is self.computed: <class 'numpy.ndarray'>\n",
      "[-0.00332685 -0.00493038 -0.00553058 ... -0.12340029 -0.1059522\n",
      " -0.06541173]\n",
      "this is self.computed: <class 'numpy.ndarray'>\n",
      "[ 0.01775069  0.02872119  0.03523972 ... -0.04857977  0.03092324\n",
      "  0.05580902]\n",
      "this is self.computed: <class 'numpy.ndarray'>\n",
      "[ 0.10282041  0.11806037  0.09001216 ... -0.0184577  -0.03819911\n",
      " -0.03798101]\n",
      "this is self.computed: <class 'numpy.ndarray'>\n",
      "[-0.37698662 -0.5115323  -0.39081767 ... -0.49941218 -0.59836423\n",
      " -0.4742503 ]\n",
      "this is self.computed: <class 'numpy.ndarray'>\n",
      "[-0.22899589 -0.29039666 -0.23767392 ... -0.09678218 -0.11343741\n",
      " -0.08883172]\n",
      "this is self.computed: <class 'numpy.ndarray'>\n",
      "[-4.2532664e-04  3.2538418e-02  7.0636876e-02 ...  1.6388568e-04\n",
      "  9.2941627e-05  3.7534145e-04]\n",
      "this is self.computed: <class 'numpy.ndarray'>\n",
      "[-7.5872929e-04 -4.7129870e-04  6.0684280e-05 ... -2.6974306e-01\n",
      " -3.2295597e-01 -2.5322530e-01]\n",
      "this is self.computed: <class 'numpy.ndarray'>\n",
      "[-0.05136612 -0.06281077 -0.04681689 ...  0.2142466   0.19440961\n",
      "  0.13123308]\n",
      "this is self.computed: <class 'numpy.ndarray'>\n",
      "[ 0.17982142  0.23523447  0.17192999 ... -0.09777208 -0.10537826\n",
      " -0.07677419]\n",
      "this is self.computed: <class 'numpy.ndarray'>\n",
      "[ 0.08963025  0.08889034  0.05686745 ... -0.04502324 -0.02398079\n",
      " -0.00974182]\n",
      "this is self.computed: <class 'numpy.ndarray'>\n",
      "[0.53486353 0.6494118  0.6209017  ... 0.18130894 0.18508899 0.13272785]\n",
      "this is self.computed: <class 'numpy.ndarray'>\n",
      "[-0.00957495 -0.00938176 -0.00617496 ... -0.34244156 -0.43755472\n",
      " -0.3561275 ]\n",
      "1/1 [==============================] - 0s 210ms/step\n",
      "1/1 [==============================] - 0s 25ms/step\n",
      "1/1 [==============================] - 0s 25ms/step\n",
      "1/1 [==============================] - 0s 24ms/step\n",
      "1/1 [==============================] - 0s 24ms/step\n",
      "1/1 [==============================] - 0s 24ms/step\n",
      "1/1 [==============================] - 0s 24ms/step\n",
      "1/1 [==============================] - 0s 26ms/step\n",
      "1/1 [==============================] - 0s 24ms/step\n",
      "1/1 [==============================] - 0s 24ms/step\n",
      "1/1 [==============================] - 0s 26ms/step\n",
      "1/1 [==============================] - 0s 28ms/step\n",
      "1/1 [==============================] - 0s 25ms/step\n",
      "1/1 [==============================] - 0s 25ms/step\n",
      "1/1 [==============================] - 0s 24ms/step\n",
      "1/1 [==============================] - 0s 25ms/step\n",
      "1/1 [==============================] - 0s 28ms/step\n",
      "1/1 [==============================] - 0s 25ms/step\n",
      "1/1 [==============================] - 0s 25ms/step\n",
      "1/1 [==============================] - 0s 24ms/step\n",
      "1/1 [==============================] - 0s 27ms/step\n",
      "1/1 [==============================] - 0s 27ms/step\n",
      "1/1 [==============================] - 0s 26ms/step\n",
      "1/1 [==============================] - 0s 25ms/step\n",
      "1/1 [==============================] - 0s 25ms/step\n",
      "1/1 [==============================] - 0s 25ms/step\n",
      "1/1 [==============================] - 0s 24ms/step\n",
      "1/1 [==============================] - 0s 24ms/step\n",
      "1/1 [==============================] - 0s 24ms/step\n",
      "1/1 [==============================] - 0s 27ms/step\n",
      "1/1 [==============================] - 0s 26ms/step\n",
      "1/1 [==============================] - 0s 25ms/step\n",
      "1/1 [==============================] - 0s 26ms/step\n",
      "surah7_part7.mp3 Nahawand\n",
      "MoviePy - Writing audio in temporary/clip1.mp3\n"
     ]
    },
    {
     "name": "stderr",
     "output_type": "stream",
     "text": [
      "                                                                                                                \r"
     ]
    },
    {
     "name": "stdout",
     "output_type": "stream",
     "text": [
      "MoviePy - Done.\n",
      "MoviePy - Writing audio in temporary/clip2.mp3\n"
     ]
    },
    {
     "name": "stderr",
     "output_type": "stream",
     "text": [
      "                                                                                                                \r"
     ]
    },
    {
     "name": "stdout",
     "output_type": "stream",
     "text": [
      "MoviePy - Done.\n",
      "MoviePy - Writing audio in temporary/clip3.mp3\n"
     ]
    },
    {
     "name": "stderr",
     "output_type": "stream",
     "text": [
      "                                                                                                                \r"
     ]
    },
    {
     "name": "stdout",
     "output_type": "stream",
     "text": [
      "MoviePy - Done.\n",
      "MoviePy - Writing audio in temporary/clip4.mp3\n"
     ]
    },
    {
     "name": "stderr",
     "output_type": "stream",
     "text": [
      "                                                                                                                \r"
     ]
    },
    {
     "name": "stdout",
     "output_type": "stream",
     "text": [
      "MoviePy - Done.\n",
      "MoviePy - Writing audio in temporary/clip5.mp3\n"
     ]
    },
    {
     "name": "stderr",
     "output_type": "stream",
     "text": [
      "                                                                                                                \r"
     ]
    },
    {
     "name": "stdout",
     "output_type": "stream",
     "text": [
      "MoviePy - Done.\n",
      "MoviePy - Writing audio in temporary/clip6.mp3\n"
     ]
    },
    {
     "name": "stderr",
     "output_type": "stream",
     "text": [
      "                                                                                                                \r"
     ]
    },
    {
     "name": "stdout",
     "output_type": "stream",
     "text": [
      "MoviePy - Done.\n",
      "MoviePy - Writing audio in temporary/clip7.mp3\n"
     ]
    },
    {
     "name": "stderr",
     "output_type": "stream",
     "text": [
      "                                                                                                                \r"
     ]
    },
    {
     "name": "stdout",
     "output_type": "stream",
     "text": [
      "MoviePy - Done.\n",
      "MoviePy - Writing audio in temporary/clip8.mp3\n"
     ]
    },
    {
     "name": "stderr",
     "output_type": "stream",
     "text": [
      "                                                                                                                \r"
     ]
    },
    {
     "name": "stdout",
     "output_type": "stream",
     "text": [
      "MoviePy - Done.\n",
      "MoviePy - Writing audio in temporary/clip9.mp3\n"
     ]
    },
    {
     "name": "stderr",
     "output_type": "stream",
     "text": [
      "                                                                                                                \r"
     ]
    },
    {
     "name": "stdout",
     "output_type": "stream",
     "text": [
      "MoviePy - Done.\n",
      "MoviePy - Writing audio in temporary/clip10.mp3\n"
     ]
    },
    {
     "name": "stderr",
     "output_type": "stream",
     "text": [
      "                                                                                                                \r"
     ]
    },
    {
     "name": "stdout",
     "output_type": "stream",
     "text": [
      "MoviePy - Done.\n",
      "MoviePy - Writing audio in temporary/clip11.mp3\n"
     ]
    },
    {
     "name": "stderr",
     "output_type": "stream",
     "text": [
      "                                                                                                                \r"
     ]
    },
    {
     "name": "stdout",
     "output_type": "stream",
     "text": [
      "MoviePy - Done.\n",
      "MoviePy - Writing audio in temporary/clip12.mp3\n"
     ]
    },
    {
     "name": "stderr",
     "output_type": "stream",
     "text": [
      "                                                                                                                \r"
     ]
    },
    {
     "name": "stdout",
     "output_type": "stream",
     "text": [
      "MoviePy - Done.\n",
      "MoviePy - Writing audio in temporary/clip13.mp3\n"
     ]
    },
    {
     "name": "stderr",
     "output_type": "stream",
     "text": [
      "                                                                                                                \r"
     ]
    },
    {
     "name": "stdout",
     "output_type": "stream",
     "text": [
      "MoviePy - Done.\n",
      "MoviePy - Writing audio in temporary/clip14.mp3\n"
     ]
    },
    {
     "name": "stderr",
     "output_type": "stream",
     "text": [
      "                                                                                                                \r"
     ]
    },
    {
     "name": "stdout",
     "output_type": "stream",
     "text": [
      "MoviePy - Done.\n",
      "MoviePy - Writing audio in temporary/clip15.mp3\n"
     ]
    },
    {
     "name": "stderr",
     "output_type": "stream",
     "text": [
      "                                                                                                                \r"
     ]
    },
    {
     "name": "stdout",
     "output_type": "stream",
     "text": [
      "MoviePy - Done.\n",
      "MoviePy - Writing audio in temporary/clip16.mp3\n"
     ]
    },
    {
     "name": "stderr",
     "output_type": "stream",
     "text": [
      "                                                                                                                \r"
     ]
    },
    {
     "name": "stdout",
     "output_type": "stream",
     "text": [
      "MoviePy - Done.\n",
      "this is self.computed: <class 'numpy.ndarray'>\n",
      "[-0.26618174 -0.31725615 -0.25813854 ... -0.49660826 -0.560287\n",
      " -0.43703187]\n",
      "this is self.computed: <class 'numpy.ndarray'>\n",
      "[-0.3868178  -0.5266288  -0.51343316 ... -0.19728884 -0.29322824\n",
      " -0.24650817]\n",
      "this is self.computed: <class 'numpy.ndarray'>\n",
      "[0.04252681 0.05422285 0.04896512 ... 0.06926176 0.0830906  0.0680861 ]\n",
      "this is self.computed: <class 'numpy.ndarray'>\n",
      "[-0.25361037 -0.31336495 -0.29423732 ...  0.          0.\n",
      "  0.        ]\n",
      "this is self.computed: <class 'numpy.ndarray'>\n",
      "[ 0.2397449   0.29790568  0.2505992  ... -0.31632483 -0.3531047\n",
      " -0.27294263]\n",
      "this is self.computed: <class 'numpy.ndarray'>\n",
      "[ 0.07187451  0.0494565  -0.01235424 ...  0.01054151  0.01059338\n",
      "  0.00768571]\n",
      "this is self.computed: <class 'numpy.ndarray'>\n",
      "[ 0.06915158  0.08390216  0.08112738 ... -0.06850582 -0.11578567\n",
      " -0.10785984]\n",
      "this is self.computed: <class 'numpy.ndarray'>\n",
      "[-0.22838798 -0.26693213 -0.1639778  ... -0.06547733 -0.0614232\n",
      " -0.04168133]\n",
      "this is self.computed: <class 'numpy.ndarray'>\n",
      "[-0.11803792 -0.17460737 -0.18491745 ... -0.25642836 -0.28595617\n",
      " -0.22046447]\n",
      "this is self.computed: <class 'numpy.ndarray'>\n",
      "[-0.25886208 -0.31099975 -0.27200198 ...  0.49517483  0.5786107\n",
      "  0.45177746]\n",
      "this is self.computed: <class 'numpy.ndarray'>\n",
      "[-0.09122023  0.01098956  0.1574291  ...  0.22888055  0.21341728\n",
      "  0.13636371]\n",
      "this is self.computed: <class 'numpy.ndarray'>\n",
      "[ 0.4688338   0.5863688   0.5163727  ... -0.19682473 -0.2636062\n",
      " -0.21333055]\n",
      "this is self.computed: <class 'numpy.ndarray'>\n",
      "[-0.00585561 -0.00673916 -0.00596705 ...  0.11553405  0.10833625\n",
      "  0.07440756]\n",
      "this is self.computed: <class 'numpy.ndarray'>\n",
      "[0.00682481 0.00825152 0.00701719 ... 0.24374235 0.2918076  0.23109525]\n",
      "this is self.computed: <class 'numpy.ndarray'>\n",
      "[0. 0. 0. ... 0. 0. 0.]\n",
      "this is self.computed: <class 'numpy.ndarray'>\n",
      "[-0.02505642 -0.02050421 -0.00261294 ... -0.00540322 -0.00680052\n",
      " -0.00596868]\n",
      "1/1 [==============================] - 0s 209ms/step\n",
      "1/1 [==============================] - 0s 24ms/step\n",
      "1/1 [==============================] - 0s 25ms/step\n",
      "1/1 [==============================] - 0s 25ms/step\n",
      "1/1 [==============================] - 0s 24ms/step\n",
      "1/1 [==============================] - 0s 26ms/step\n",
      "1/1 [==============================] - 0s 26ms/step\n",
      "1/1 [==============================] - 0s 27ms/step\n",
      "1/1 [==============================] - 0s 24ms/step\n",
      "1/1 [==============================] - 0s 28ms/step\n",
      "1/1 [==============================] - 0s 26ms/step\n",
      "1/1 [==============================] - 0s 26ms/step\n",
      "1/1 [==============================] - 0s 25ms/step\n",
      "1/1 [==============================] - 0s 24ms/step\n",
      "1/1 [==============================] - 0s 28ms/step\n",
      "1/1 [==============================] - 0s 27ms/step\n",
      "surah18_part6.mp3 Ajam\n",
      "MoviePy - Writing audio in temporary/clip1.mp3\n"
     ]
    },
    {
     "name": "stderr",
     "output_type": "stream",
     "text": [
      "                                                                                                                \r"
     ]
    },
    {
     "name": "stdout",
     "output_type": "stream",
     "text": [
      "MoviePy - Done.\n",
      "MoviePy - Writing audio in temporary/clip2.mp3\n"
     ]
    },
    {
     "name": "stderr",
     "output_type": "stream",
     "text": [
      "                                                                                                                \r"
     ]
    },
    {
     "name": "stdout",
     "output_type": "stream",
     "text": [
      "MoviePy - Done.\n",
      "MoviePy - Writing audio in temporary/clip3.mp3\n"
     ]
    },
    {
     "name": "stderr",
     "output_type": "stream",
     "text": [
      "                                                                                                                \r"
     ]
    },
    {
     "name": "stdout",
     "output_type": "stream",
     "text": [
      "MoviePy - Done.\n",
      "MoviePy - Writing audio in temporary/clip4.mp3\n"
     ]
    },
    {
     "name": "stderr",
     "output_type": "stream",
     "text": [
      "                                                                                                                \r"
     ]
    },
    {
     "name": "stdout",
     "output_type": "stream",
     "text": [
      "MoviePy - Done.\n",
      "MoviePy - Writing audio in temporary/clip5.mp3\n"
     ]
    },
    {
     "name": "stderr",
     "output_type": "stream",
     "text": [
      "                                                                                                                \r"
     ]
    },
    {
     "name": "stdout",
     "output_type": "stream",
     "text": [
      "MoviePy - Done.\n",
      "MoviePy - Writing audio in temporary/clip6.mp3\n"
     ]
    },
    {
     "name": "stderr",
     "output_type": "stream",
     "text": [
      "                                                                                                                \r"
     ]
    },
    {
     "name": "stdout",
     "output_type": "stream",
     "text": [
      "MoviePy - Done.\n",
      "MoviePy - Writing audio in temporary/clip7.mp3\n"
     ]
    },
    {
     "name": "stderr",
     "output_type": "stream",
     "text": [
      "                                                                                                                \r"
     ]
    },
    {
     "name": "stdout",
     "output_type": "stream",
     "text": [
      "MoviePy - Done.\n",
      "MoviePy - Writing audio in temporary/clip8.mp3\n"
     ]
    },
    {
     "name": "stderr",
     "output_type": "stream",
     "text": [
      "                                                                                                                \r"
     ]
    },
    {
     "name": "stdout",
     "output_type": "stream",
     "text": [
      "MoviePy - Done.\n",
      "MoviePy - Writing audio in temporary/clip9.mp3\n"
     ]
    },
    {
     "name": "stderr",
     "output_type": "stream",
     "text": [
      "                                                                                                                \r"
     ]
    },
    {
     "name": "stdout",
     "output_type": "stream",
     "text": [
      "MoviePy - Done.\n",
      "MoviePy - Writing audio in temporary/clip10.mp3\n"
     ]
    },
    {
     "name": "stderr",
     "output_type": "stream",
     "text": [
      "                                                                                                                \r"
     ]
    },
    {
     "name": "stdout",
     "output_type": "stream",
     "text": [
      "MoviePy - Done.\n",
      "MoviePy - Writing audio in temporary/clip11.mp3\n"
     ]
    },
    {
     "name": "stderr",
     "output_type": "stream",
     "text": [
      "                                                                                                                \r"
     ]
    },
    {
     "name": "stdout",
     "output_type": "stream",
     "text": [
      "MoviePy - Done.\n",
      "MoviePy - Writing audio in temporary/clip12.mp3\n"
     ]
    },
    {
     "name": "stderr",
     "output_type": "stream",
     "text": [
      "                                                                                                                \r"
     ]
    },
    {
     "name": "stdout",
     "output_type": "stream",
     "text": [
      "MoviePy - Done.\n",
      "MoviePy - Writing audio in temporary/clip13.mp3\n"
     ]
    },
    {
     "name": "stderr",
     "output_type": "stream",
     "text": [
      "                                                                                                                \r"
     ]
    },
    {
     "name": "stdout",
     "output_type": "stream",
     "text": [
      "MoviePy - Done.\n",
      "this is self.computed: <class 'numpy.ndarray'>\n",
      "[0.28029865 0.35510767 0.28804076 ... 0.5100977  0.6009016  0.4742286 ]\n",
      "this is self.computed: <class 'numpy.ndarray'>\n",
      "[0.4528902  0.53568023 0.45580053 ... 0.22160032 0.21737462 0.1487925 ]\n",
      "this is self.computed: <class 'numpy.ndarray'>\n",
      "[-0.08616343 -0.12880301 -0.13250987 ... -0.03832231 -0.03978804\n",
      " -0.02959232]\n",
      "this is self.computed: <class 'numpy.ndarray'>\n",
      "[0.08877298 0.13681942 0.14342499 ... 0.24711573 0.32751966 0.2654643 ]\n",
      "this is self.computed: <class 'numpy.ndarray'>\n",
      "[0.00114131 0.03103683 0.07023021 ... 0.11427224 0.0890439  0.05004366]\n",
      "this is self.computed: <class 'numpy.ndarray'>\n",
      "[-0.02750174 -0.03389612 -0.03142731 ...  0.32633942  0.40351516\n",
      "  0.31811112]\n",
      "this is self.computed: <class 'numpy.ndarray'>\n",
      "[ 0.13722613  0.14725687  0.09698306 ... -0.17312467 -0.18034193\n",
      " -0.13072214]\n",
      "this is self.computed: <class 'numpy.ndarray'>\n",
      "[ 0.36906493  0.43174827  0.36901963 ... -0.0241868  -0.03124025\n",
      " -0.02424565]\n",
      "this is self.computed: <class 'numpy.ndarray'>\n",
      "[-0.02663048 -0.03606647 -0.03385384 ... -0.31972164 -0.34494865\n",
      " -0.25784424]\n",
      "this is self.computed: <class 'numpy.ndarray'>\n",
      "[ 0.          0.          0.         ... -0.08136806 -0.0722008\n",
      " -0.04303642]\n",
      "this is self.computed: <class 'numpy.ndarray'>\n",
      "[ 0.00101586 -0.00040522 -0.00381238 ... -0.08084896 -0.10419996\n",
      " -0.08663487]\n",
      "this is self.computed: <class 'numpy.ndarray'>\n",
      "[ 0.0399555   0.02803114 -0.0146008  ...  0.0039126   0.05033003\n",
      "  0.05659144]\n",
      "this is self.computed: <class 'numpy.ndarray'>\n",
      "[-0.12615916 -0.14240795 -0.11081454 ... -0.00032499  0.00454495\n",
      "  0.00503397]\n",
      "1/1 [==============================] - 1s 727ms/step\n",
      "1/1 [==============================] - 0s 34ms/step\n",
      "1/1 [==============================] - 0s 32ms/step\n",
      "1/1 [==============================] - 0s 33ms/step\n",
      "1/1 [==============================] - 0s 34ms/step\n",
      "1/1 [==============================] - 0s 31ms/step\n",
      "1/1 [==============================] - 0s 31ms/step\n",
      "1/1 [==============================] - 0s 32ms/step\n",
      "1/1 [==============================] - 0s 33ms/step\n",
      "1/1 [==============================] - 0s 33ms/step\n",
      "1/1 [==============================] - 0s 32ms/step\n",
      "1/1 [==============================] - 0s 34ms/step\n",
      "1/1 [==============================] - 0s 33ms/step\n",
      "surah45_part1.mp3 Hejaz\n",
      "MoviePy - Writing audio in temporary/clip1.mp3\n"
     ]
    },
    {
     "name": "stderr",
     "output_type": "stream",
     "text": [
      "                                                                                                                \r"
     ]
    },
    {
     "name": "stdout",
     "output_type": "stream",
     "text": [
      "MoviePy - Done.\n",
      "MoviePy - Writing audio in temporary/clip2.mp3\n"
     ]
    },
    {
     "name": "stderr",
     "output_type": "stream",
     "text": [
      "                                                                                                                \r"
     ]
    },
    {
     "name": "stdout",
     "output_type": "stream",
     "text": [
      "MoviePy - Done.\n",
      "MoviePy - Writing audio in temporary/clip3.mp3\n"
     ]
    },
    {
     "name": "stderr",
     "output_type": "stream",
     "text": [
      "                                                                                                                \r"
     ]
    },
    {
     "name": "stdout",
     "output_type": "stream",
     "text": [
      "MoviePy - Done.\n",
      "MoviePy - Writing audio in temporary/clip4.mp3\n"
     ]
    },
    {
     "name": "stderr",
     "output_type": "stream",
     "text": [
      "                                                                                                                \r"
     ]
    },
    {
     "name": "stdout",
     "output_type": "stream",
     "text": [
      "MoviePy - Done.\n",
      "MoviePy - Writing audio in temporary/clip5.mp3\n"
     ]
    },
    {
     "name": "stderr",
     "output_type": "stream",
     "text": [
      "                                                                                                                \r"
     ]
    },
    {
     "name": "stdout",
     "output_type": "stream",
     "text": [
      "MoviePy - Done.\n",
      "MoviePy - Writing audio in temporary/clip6.mp3\n"
     ]
    },
    {
     "name": "stderr",
     "output_type": "stream",
     "text": [
      "                                                                                                                \r"
     ]
    },
    {
     "name": "stdout",
     "output_type": "stream",
     "text": [
      "MoviePy - Done.\n",
      "MoviePy - Writing audio in temporary/clip7.mp3\n"
     ]
    },
    {
     "name": "stderr",
     "output_type": "stream",
     "text": [
      "                                                                                                                \r"
     ]
    },
    {
     "name": "stdout",
     "output_type": "stream",
     "text": [
      "MoviePy - Done.\n",
      "MoviePy - Writing audio in temporary/clip8.mp3\n"
     ]
    },
    {
     "name": "stderr",
     "output_type": "stream",
     "text": [
      "                                                                                                                \r"
     ]
    },
    {
     "name": "stdout",
     "output_type": "stream",
     "text": [
      "MoviePy - Done.\n",
      "MoviePy - Writing audio in temporary/clip9.mp3\n"
     ]
    },
    {
     "name": "stderr",
     "output_type": "stream",
     "text": [
      "                                                                                                                \r"
     ]
    },
    {
     "name": "stdout",
     "output_type": "stream",
     "text": [
      "MoviePy - Done.\n",
      "MoviePy - Writing audio in temporary/clip10.mp3\n"
     ]
    },
    {
     "name": "stderr",
     "output_type": "stream",
     "text": [
      "                                                                                                                \r"
     ]
    },
    {
     "name": "stdout",
     "output_type": "stream",
     "text": [
      "MoviePy - Done.\n",
      "MoviePy - Writing audio in temporary/clip11.mp3\n"
     ]
    },
    {
     "name": "stderr",
     "output_type": "stream",
     "text": [
      "                                                                                                                \r"
     ]
    },
    {
     "name": "stdout",
     "output_type": "stream",
     "text": [
      "MoviePy - Done.\n",
      "MoviePy - Writing audio in temporary/clip12.mp3\n"
     ]
    },
    {
     "name": "stderr",
     "output_type": "stream",
     "text": [
      "                                                                                                                \r"
     ]
    },
    {
     "name": "stdout",
     "output_type": "stream",
     "text": [
      "MoviePy - Done.\n",
      "MoviePy - Writing audio in temporary/clip13.mp3\n"
     ]
    },
    {
     "name": "stderr",
     "output_type": "stream",
     "text": [
      "                                                                                                                \r"
     ]
    },
    {
     "name": "stdout",
     "output_type": "stream",
     "text": [
      "MoviePy - Done.\n",
      "MoviePy - Writing audio in temporary/clip14.mp3\n"
     ]
    },
    {
     "name": "stderr",
     "output_type": "stream",
     "text": [
      "                                                                                                                \r"
     ]
    },
    {
     "name": "stdout",
     "output_type": "stream",
     "text": [
      "MoviePy - Done.\n",
      "MoviePy - Writing audio in temporary/clip15.mp3\n"
     ]
    },
    {
     "name": "stderr",
     "output_type": "stream",
     "text": [
      "                                                                                                                \r"
     ]
    },
    {
     "name": "stdout",
     "output_type": "stream",
     "text": [
      "MoviePy - Done.\n",
      "MoviePy - Writing audio in temporary/clip16.mp3\n"
     ]
    },
    {
     "name": "stderr",
     "output_type": "stream",
     "text": [
      "                                                                                                                \r"
     ]
    },
    {
     "name": "stdout",
     "output_type": "stream",
     "text": [
      "MoviePy - Done.\n",
      "MoviePy - Writing audio in temporary/clip17.mp3\n"
     ]
    },
    {
     "name": "stderr",
     "output_type": "stream",
     "text": [
      "                                                                                                                \r"
     ]
    },
    {
     "name": "stdout",
     "output_type": "stream",
     "text": [
      "MoviePy - Done.\n",
      "MoviePy - Writing audio in temporary/clip18.mp3\n"
     ]
    },
    {
     "name": "stderr",
     "output_type": "stream",
     "text": [
      "                                                                                                                \r"
     ]
    },
    {
     "name": "stdout",
     "output_type": "stream",
     "text": [
      "MoviePy - Done.\n",
      "MoviePy - Writing audio in temporary/clip19.mp3\n"
     ]
    },
    {
     "name": "stderr",
     "output_type": "stream",
     "text": [
      "                                                                                                                \r"
     ]
    },
    {
     "name": "stdout",
     "output_type": "stream",
     "text": [
      "MoviePy - Done.\n",
      "MoviePy - Writing audio in temporary/clip20.mp3\n"
     ]
    },
    {
     "name": "stderr",
     "output_type": "stream",
     "text": [
      "                                                                                                                \r"
     ]
    },
    {
     "name": "stdout",
     "output_type": "stream",
     "text": [
      "MoviePy - Done.\n",
      "MoviePy - Writing audio in temporary/clip21.mp3\n"
     ]
    },
    {
     "name": "stderr",
     "output_type": "stream",
     "text": [
      "                                                                                                                \r"
     ]
    },
    {
     "name": "stdout",
     "output_type": "stream",
     "text": [
      "MoviePy - Done.\n",
      "MoviePy - Writing audio in temporary/clip22.mp3\n"
     ]
    },
    {
     "name": "stderr",
     "output_type": "stream",
     "text": [
      "                                                                                                                \r"
     ]
    },
    {
     "name": "stdout",
     "output_type": "stream",
     "text": [
      "MoviePy - Done.\n",
      "MoviePy - Writing audio in temporary/clip23.mp3\n"
     ]
    },
    {
     "name": "stderr",
     "output_type": "stream",
     "text": [
      "                                                                                                                \r"
     ]
    },
    {
     "name": "stdout",
     "output_type": "stream",
     "text": [
      "MoviePy - Done.\n",
      "this is self.computed: <class 'numpy.ndarray'>\n",
      "[0.05510626 0.07763337 0.08009638 ... 0.04989696 0.0525539  0.03852711]\n",
      "this is self.computed: <class 'numpy.ndarray'>\n",
      "[0.03599556 0.0512719  0.05611556 ... 0.41881368 0.44159985 0.33097127]\n",
      "this is self.computed: <class 'numpy.ndarray'>\n",
      "[0.00262567 0.00363638 0.0040769  ... 0.04255109 0.09804485 0.09703273]\n",
      "this is self.computed: <class 'numpy.ndarray'>\n",
      "[0.01178513 0.01473386 0.00807067 ... 0.02482537 0.04006164 0.03753145]\n",
      "this is self.computed: <class 'numpy.ndarray'>\n",
      "[-0.00741873 -0.00588913  0.0029176  ... -0.17448027 -0.21804428\n",
      " -0.18501267]\n",
      "this is self.computed: <class 'numpy.ndarray'>\n",
      "[0.16260317 0.21636987 0.22703633 ... 0.03241098 0.05462134 0.04796429]\n",
      "this is self.computed: <class 'numpy.ndarray'>\n",
      "[-0.07180373 -0.08708066 -0.07904871 ... -0.00126898  0.0291595\n",
      "  0.04465817]\n",
      "this is self.computed: <class 'numpy.ndarray'>\n",
      "[ 0.04933608  0.06988586  0.06907898 ... -0.08756738 -0.11030848\n",
      " -0.08667521]\n",
      "this is self.computed: <class 'numpy.ndarray'>\n",
      "[ 0.05108393 -0.01162819 -0.08649439 ... -0.31301337 -0.37808236\n",
      " -0.30619296]\n",
      "this is self.computed: <class 'numpy.ndarray'>\n",
      "[-0.04617546 -0.06639677 -0.0592662  ...  0.13908632  0.1615103\n",
      "  0.12533185]\n",
      "this is self.computed: <class 'numpy.ndarray'>\n",
      "[ 0.1399544   0.20978685  0.2115129  ... -0.0028621  -0.00408627\n",
      " -0.00360661]\n",
      "this is self.computed: <class 'numpy.ndarray'>\n",
      "[ 0.2621413   0.33245462  0.24860242 ... -0.19435325 -0.21226762\n",
      " -0.15199286]\n",
      "this is self.computed: <class 'numpy.ndarray'>\n",
      "[-0.00426705 -0.00581736 -0.00584029 ... -0.01028522 -0.01126128\n",
      " -0.00851639]\n",
      "this is self.computed: <class 'numpy.ndarray'>\n",
      "[-0.31521308 -0.39753008 -0.32432336 ...  0.1896041   0.24463192\n",
      "  0.2022869 ]\n",
      "this is self.computed: <class 'numpy.ndarray'>\n",
      "[-0.00681623 -0.00731492 -0.00580112 ... -0.0108447  -0.01213438\n",
      " -0.00922923]\n",
      "this is self.computed: <class 'numpy.ndarray'>\n",
      "[-0.00637523 -0.01082948 -0.0114648  ... -0.02699137 -0.04088051\n",
      " -0.03945929]\n",
      "this is self.computed: <class 'numpy.ndarray'>\n",
      "[-0.00660606 -0.00800708 -0.00651288 ... -0.02815736 -0.02752236\n",
      " -0.0187647 ]\n",
      "this is self.computed: <class 'numpy.ndarray'>\n",
      "[-0.00130774 -0.00190233 -0.00208889 ...  0.02475312  0.0216052\n",
      "  0.01452633]\n",
      "this is self.computed: <class 'numpy.ndarray'>\n",
      "[0.20105134 0.2608666  0.198362   ... 0.00117395 0.00231725 0.00223742]\n",
      "this is self.computed: <class 'numpy.ndarray'>\n",
      "[0.2401482  0.3265552  0.3235667  ... 0.01246271 0.01229015 0.00922545]\n",
      "this is self.computed: <class 'numpy.ndarray'>\n",
      "[0.11936042 0.15984923 0.13799483 ... 0.14322305 0.180151   0.13782397]\n",
      "this is self.computed: <class 'numpy.ndarray'>\n",
      "[-0.22792265 -0.3184632  -0.3339997  ... -0.00054392 -0.00103305\n",
      " -0.00100244]\n",
      "this is self.computed: <class 'numpy.ndarray'>\n",
      "[-0.12032844 -0.14475927 -0.09120856 ...  0.3504856   0.37607306\n",
      "  0.26078123]\n",
      "1/1 [==============================] - 0s 290ms/step\n",
      "1/1 [==============================] - 0s 32ms/step\n",
      "1/1 [==============================] - 0s 30ms/step\n",
      "1/1 [==============================] - 0s 32ms/step\n",
      "1/1 [==============================] - 0s 31ms/step\n",
      "1/1 [==============================] - 0s 30ms/step\n",
      "1/1 [==============================] - 0s 32ms/step\n",
      "1/1 [==============================] - 0s 31ms/step\n",
      "1/1 [==============================] - 0s 30ms/step\n",
      "1/1 [==============================] - 0s 32ms/step\n",
      "1/1 [==============================] - 0s 34ms/step\n",
      "1/1 [==============================] - 0s 31ms/step\n",
      "1/1 [==============================] - 0s 30ms/step\n",
      "1/1 [==============================] - 0s 32ms/step\n",
      "1/1 [==============================] - 0s 30ms/step\n",
      "1/1 [==============================] - 0s 30ms/step\n",
      "1/1 [==============================] - 0s 29ms/step\n",
      "1/1 [==============================] - 0s 32ms/step\n",
      "1/1 [==============================] - 0s 29ms/step\n",
      "1/1 [==============================] - 0s 29ms/step\n",
      "1/1 [==============================] - 0s 28ms/step\n",
      "1/1 [==============================] - 0s 30ms/step\n",
      "1/1 [==============================] - 0s 29ms/step\n",
      "surah22_part3.mp3 Seekah\n",
      "seconds: 945.6477670669556\n"
     ]
    }
   ],
   "source": [
    "start = time.time()\n",
    "y_pred = []\n",
    "\n",
    "for file in sampled_files:\n",
    "    file_path = os.getcwd() + '/data/' + file\n",
    "    processor = AudioProcessor(file_path, compute_audio)\n",
    "    summary = processor.process_mew()\n",
    "    y_pred.append(summary)\n",
    "    print(file, summary)\n",
    "    \n",
    "end = time.time()\n",
    "print('seconds:', end - start)"
   ]
  },
  {
   "cell_type": "code",
   "execution_count": 13,
   "id": "e3971cc4",
   "metadata": {},
   "outputs": [
    {
     "name": "stdout",
     "output_type": "stream",
     "text": [
      "0.28\n"
     ]
    }
   ],
   "source": [
    "# Step 4: Compare predicted vs. correct maqams\n",
    "correct_count = sum(1 for true, pred in zip(y_correct, y_pred) if true == pred)\n",
    "accuracy = correct_count / len(y_correct)\n",
    "print(accuracy)"
   ]
  },
  {
   "cell_type": "code",
   "execution_count": 9,
   "id": "0868be29",
   "metadata": {},
   "outputs": [
    {
     "name": "stdout",
     "output_type": "stream",
     "text": [
      "['Kurd', 'Bayat', 'Rast', 'Hejaz', 'Seekah', 'Nahawand', 'Nahawand', 'Saba', 'Bayat', 'Rast', 'Hejaz', 'Bayat', 'Rast', 'Bayat', 'Nahawand', 'Rast', 'Bayat', 'Nahawand', 'Hejaz', 'Bayat', 'Nahawand', 'Rast', 'Hejaz', 'Nahawand', 'Bayat', 'Bayat', 'Hejaz', 'Bayat', 'Bayat', 'Bayat', 'Nahawand', 'Hejaz', 'Seekah', 'Bayat', 'Bayat', 'Bayat', 'Seekah', 'Ajam', 'Hejaz', 'Hejaz', 'Hejaz', 'Seekah', 'Hejaz', 'Bayat', 'Ajam', 'Nahawand', 'Nahawand', 'Nahawand', 'Bayat', 'Rast']\n"
     ]
    }
   ],
   "source": [
    "y_correct\n",
    "\n",
    "translate = {\n",
    "    'بيات': 'Bayat',\n",
    "    'حجاز': 'Hejaz',\n",
    "    'راست': 'Rast',\n",
    "    'سيكاه': 'Seekah',\n",
    "    'صبا': 'Saba',\n",
    "    'عجم': 'Ajam',\n",
    "    'كرد': 'Kurd',\n",
    "    'نهاوند': 'Nahawand'\n",
    "}\n",
    "y_correct =  [translate[maqam] for maqam in y_correct]\n",
    "print(y_correct)"
   ]
  },
  {
   "cell_type": "code",
   "execution_count": 11,
   "id": "98e9f229",
   "metadata": {},
   "outputs": [
    {
     "name": "stdout",
     "output_type": "stream",
     "text": [
      "['surah22_part1.mp3', 'surah56_part1.mp3', 'surah11_part7.mp3', 'surah19_part2.mp3', 'surah72_part1.mp3', 'surah96_part1.mp3', 'surah11_part6.mp3', 'surah26_part1.mp3', 'surah108_part1.mp3', 'surah28_part6.mp3', 'surah9_part13.mp3', 'surah83_part2.mp3', 'surah67_part1.mp3', 'surah2_part8.mp3', 'surah52_part2.mp3', 'surah42_part1.mp3', 'surah21_part3.mp3', 'surah51_part2.mp3', 'surah36_part2.mp3', 'surah39_part6.mp3', 'surah35_part2.mp3', 'surah14_part5.mp3', 'surah70_part1.mp3', 'surah55_part3.mp3', 'surah4_part5.mp3', 'surah57_part1.mp3', 'surah57_part2.mp3', 'surah112_part1.mp3', 'surah31_part1.mp3', 'surah73_part1.mp3', 'surah38_part3.mp3', 'surah20_part3.mp3', 'surah9_part14.mp3', 'surah12_part6.mp3', 'surah28_part1.mp3', 'surah7_part3.mp3', 'surah6_part6.mp3', 'surah3_part6.mp3', 'surah6_part5.mp3', 'surah25_part6.mp3', 'surah80_part1.mp3', 'surah2_part11.mp3', 'surah22_part4.mp3', 'surah113_part1.mp3', 'surah2_part10.mp3', 'surah32_part3.mp3', 'surah7_part7.mp3', 'surah18_part6.mp3', 'surah45_part1.mp3', 'surah22_part3.mp3']\n"
     ]
    }
   ],
   "source": [
    "print(sampled_files)"
   ]
  },
  {
   "cell_type": "code",
   "execution_count": 12,
   "id": "32293351",
   "metadata": {},
   "outputs": [
    {
     "name": "stdout",
     "output_type": "stream",
     "text": [
      "['surah22_part1.mp3.json', 'surah56_part1.mp3.json', 'surah11_part7.mp3.json', 'surah19_part2.mp3.json', 'surah72_part1.mp3.json', 'surah96_part1.mp3.json', 'surah11_part6.mp3.json', 'surah26_part1.mp3.json', 'surah108_part1.mp3.json', 'surah28_part6.mp3.json', 'surah9_part13.mp3.json', 'surah83_part2.mp3.json', 'surah67_part1.mp3.json', 'surah2_part8.mp3.json', 'surah52_part2.mp3.json', 'surah42_part1.mp3.json', 'surah21_part3.mp3.json', 'surah51_part2.mp3.json', 'surah36_part2.mp3.json', 'surah39_part6.mp3.json', 'surah35_part2.mp3.json', 'surah14_part5.mp3.json', 'surah70_part1.mp3.json', 'surah55_part3.mp3.json', 'surah4_part5.mp3.json', 'surah57_part1.mp3.json', 'surah57_part2.mp3.json', 'surah112_part1.mp3.json', 'surah31_part1.mp3.json', 'surah73_part1.mp3.json', 'surah38_part3.mp3.json', 'surah20_part3.mp3.json', 'surah9_part14.mp3.json', 'surah12_part6.mp3.json', 'surah28_part1.mp3.json', 'surah7_part3.mp3.json', 'surah6_part6.mp3.json', 'surah3_part6.mp3.json', 'surah6_part5.mp3.json', 'surah25_part6.mp3.json', 'surah80_part1.mp3.json', 'surah2_part11.mp3.json', 'surah22_part4.mp3.json', 'surah113_part1.mp3.json', 'surah2_part10.mp3.json', 'surah32_part3.mp3.json', 'surah7_part7.mp3.json', 'surah18_part6.mp3.json', 'surah45_part1.mp3.json', 'surah22_part3.mp3.json']\n"
     ]
    }
   ],
   "source": [
    "print(sampled_labels)"
   ]
  },
  {
   "cell_type": "code",
   "execution_count": null,
   "id": "a4772eee",
   "metadata": {},
   "outputs": [],
   "source": []
  }
 ],
 "metadata": {
  "kernelspec": {
   "display_name": "Python 3 (ipykernel)",
   "language": "python",
   "name": "python3"
  },
  "language_info": {
   "codemirror_mode": {
    "name": "ipython",
    "version": 3
   },
   "file_extension": ".py",
   "mimetype": "text/x-python",
   "name": "python",
   "nbconvert_exporter": "python",
   "pygments_lexer": "ipython3",
   "version": "3.7.17"
  }
 },
 "nbformat": 4,
 "nbformat_minor": 5
}
